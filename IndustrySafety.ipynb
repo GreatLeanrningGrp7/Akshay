{
 "cells": [
  {
   "cell_type": "code",
   "execution_count": 1,
   "metadata": {},
   "outputs": [],
   "source": [
    "import numpy as np\n",
    "import pandas as pd\n",
    "import matplotlib.pyplot as plt\n",
    "%matplotlib inline\n",
    "\n",
    "import seaborn as sns\n",
    "\n",
    "import random, re\n",
    "import time"
   ]
  },
  {
   "cell_type": "code",
   "execution_count": 2,
   "metadata": {},
   "outputs": [],
   "source": [
    "industry_df = pd.read_csv(\"Data Set - industrial_safety_and_health_database_with_accidents_description.csv\")"
   ]
  },
  {
   "cell_type": "code",
   "execution_count": 3,
   "metadata": {},
   "outputs": [
    {
     "data": {
      "text/html": [
       "<div>\n",
       "<style scoped>\n",
       "    .dataframe tbody tr th:only-of-type {\n",
       "        vertical-align: middle;\n",
       "    }\n",
       "\n",
       "    .dataframe tbody tr th {\n",
       "        vertical-align: top;\n",
       "    }\n",
       "\n",
       "    .dataframe thead th {\n",
       "        text-align: right;\n",
       "    }\n",
       "</style>\n",
       "<table border=\"1\" class=\"dataframe\">\n",
       "  <thead>\n",
       "    <tr style=\"text-align: right;\">\n",
       "      <th></th>\n",
       "      <th>Unnamed: 0</th>\n",
       "      <th>Data</th>\n",
       "      <th>Countries</th>\n",
       "      <th>Local</th>\n",
       "      <th>Industry Sector</th>\n",
       "      <th>Accident Level</th>\n",
       "      <th>Potential Accident Level</th>\n",
       "      <th>Genre</th>\n",
       "      <th>Employee or Third Party</th>\n",
       "      <th>Critical Risk</th>\n",
       "      <th>Description</th>\n",
       "    </tr>\n",
       "  </thead>\n",
       "  <tbody>\n",
       "    <tr>\n",
       "      <th>0</th>\n",
       "      <td>0</td>\n",
       "      <td>2016-01-01 00:00:00</td>\n",
       "      <td>Country_01</td>\n",
       "      <td>Local_01</td>\n",
       "      <td>Mining</td>\n",
       "      <td>I</td>\n",
       "      <td>IV</td>\n",
       "      <td>Male</td>\n",
       "      <td>Third Party</td>\n",
       "      <td>Pressed</td>\n",
       "      <td>While removing the drill rod of the Jumbo 08 f...</td>\n",
       "    </tr>\n",
       "    <tr>\n",
       "      <th>1</th>\n",
       "      <td>1</td>\n",
       "      <td>2016-01-02 00:00:00</td>\n",
       "      <td>Country_02</td>\n",
       "      <td>Local_02</td>\n",
       "      <td>Mining</td>\n",
       "      <td>I</td>\n",
       "      <td>IV</td>\n",
       "      <td>Male</td>\n",
       "      <td>Employee</td>\n",
       "      <td>Pressurized Systems</td>\n",
       "      <td>During the activation of a sodium sulphide pum...</td>\n",
       "    </tr>\n",
       "    <tr>\n",
       "      <th>2</th>\n",
       "      <td>2</td>\n",
       "      <td>2016-01-06 00:00:00</td>\n",
       "      <td>Country_01</td>\n",
       "      <td>Local_03</td>\n",
       "      <td>Mining</td>\n",
       "      <td>I</td>\n",
       "      <td>III</td>\n",
       "      <td>Male</td>\n",
       "      <td>Third Party (Remote)</td>\n",
       "      <td>Manual Tools</td>\n",
       "      <td>In the sub-station MILPO located at level +170...</td>\n",
       "    </tr>\n",
       "    <tr>\n",
       "      <th>3</th>\n",
       "      <td>3</td>\n",
       "      <td>2016-01-08 00:00:00</td>\n",
       "      <td>Country_01</td>\n",
       "      <td>Local_04</td>\n",
       "      <td>Mining</td>\n",
       "      <td>I</td>\n",
       "      <td>I</td>\n",
       "      <td>Male</td>\n",
       "      <td>Third Party</td>\n",
       "      <td>Others</td>\n",
       "      <td>Being 9:45 am. approximately in the Nv. 1880 C...</td>\n",
       "    </tr>\n",
       "    <tr>\n",
       "      <th>4</th>\n",
       "      <td>4</td>\n",
       "      <td>2016-01-10 00:00:00</td>\n",
       "      <td>Country_01</td>\n",
       "      <td>Local_04</td>\n",
       "      <td>Mining</td>\n",
       "      <td>IV</td>\n",
       "      <td>IV</td>\n",
       "      <td>Male</td>\n",
       "      <td>Third Party</td>\n",
       "      <td>Others</td>\n",
       "      <td>Approximately at 11:45 a.m. in circumstances t...</td>\n",
       "    </tr>\n",
       "  </tbody>\n",
       "</table>\n",
       "</div>"
      ],
      "text/plain": [
       "   Unnamed: 0                 Data   Countries     Local Industry Sector  \\\n",
       "0           0  2016-01-01 00:00:00  Country_01  Local_01          Mining   \n",
       "1           1  2016-01-02 00:00:00  Country_02  Local_02          Mining   \n",
       "2           2  2016-01-06 00:00:00  Country_01  Local_03          Mining   \n",
       "3           3  2016-01-08 00:00:00  Country_01  Local_04          Mining   \n",
       "4           4  2016-01-10 00:00:00  Country_01  Local_04          Mining   \n",
       "\n",
       "  Accident Level Potential Accident Level Genre Employee or Third Party  \\\n",
       "0              I                       IV  Male             Third Party   \n",
       "1              I                       IV  Male                Employee   \n",
       "2              I                      III  Male    Third Party (Remote)   \n",
       "3              I                        I  Male             Third Party   \n",
       "4             IV                       IV  Male             Third Party   \n",
       "\n",
       "         Critical Risk                                        Description  \n",
       "0              Pressed  While removing the drill rod of the Jumbo 08 f...  \n",
       "1  Pressurized Systems  During the activation of a sodium sulphide pum...  \n",
       "2         Manual Tools  In the sub-station MILPO located at level +170...  \n",
       "3               Others  Being 9:45 am. approximately in the Nv. 1880 C...  \n",
       "4               Others  Approximately at 11:45 a.m. in circumstances t...  "
      ]
     },
     "execution_count": 3,
     "metadata": {},
     "output_type": "execute_result"
    }
   ],
   "source": [
    "industry_df.head()"
   ]
  },
  {
   "cell_type": "code",
   "execution_count": 4,
   "metadata": {},
   "outputs": [
    {
     "data": {
      "text/plain": [
       "(425, 11)"
      ]
     },
     "execution_count": 4,
     "metadata": {},
     "output_type": "execute_result"
    }
   ],
   "source": [
    "industry_df.shape"
   ]
  },
  {
   "cell_type": "code",
   "execution_count": 5,
   "metadata": {},
   "outputs": [
    {
     "data": {
      "text/plain": [
       "Unnamed: 0                   int64\n",
       "Data                        object\n",
       "Countries                   object\n",
       "Local                       object\n",
       "Industry Sector             object\n",
       "Accident Level              object\n",
       "Potential Accident Level    object\n",
       "Genre                       object\n",
       "Employee or Third Party     object\n",
       "Critical Risk               object\n",
       "Description                 object\n",
       "dtype: object"
      ]
     },
     "execution_count": 5,
     "metadata": {},
     "output_type": "execute_result"
    }
   ],
   "source": [
    "industry_df.dtypes"
   ]
  },
  {
   "cell_type": "code",
   "execution_count": 6,
   "metadata": {},
   "outputs": [],
   "source": [
    "# Remove 'Unnamed: 0' column from Data frame\n",
    "industry_df.drop(\"Unnamed: 0\", axis=1, inplace=True)"
   ]
  },
  {
   "cell_type": "code",
   "execution_count": 7,
   "metadata": {},
   "outputs": [],
   "source": [
    "# Rename 'Data', 'Countries', 'Genre', 'Employee or Third Party' columns in Data frame\n",
    "industry_df.rename(columns={'Data':'Date', 'Countries':'Country', 'Genre':'Gender', 'Employee or Third Party':'Employee type'}, inplace=True)"
   ]
  },
  {
   "cell_type": "code",
   "execution_count": 8,
   "metadata": {},
   "outputs": [
    {
     "data": {
      "text/plain": [
       "7"
      ]
     },
     "execution_count": 8,
     "metadata": {},
     "output_type": "execute_result"
    }
   ],
   "source": [
    "# Check duplicates in a data frame\n",
    "industry_df.duplicated().sum()"
   ]
  },
  {
   "cell_type": "code",
   "execution_count": 9,
   "metadata": {},
   "outputs": [
    {
     "data": {
      "text/html": [
       "<div>\n",
       "<style scoped>\n",
       "    .dataframe tbody tr th:only-of-type {\n",
       "        vertical-align: middle;\n",
       "    }\n",
       "\n",
       "    .dataframe tbody tr th {\n",
       "        vertical-align: top;\n",
       "    }\n",
       "\n",
       "    .dataframe thead th {\n",
       "        text-align: right;\n",
       "    }\n",
       "</style>\n",
       "<table border=\"1\" class=\"dataframe\">\n",
       "  <thead>\n",
       "    <tr style=\"text-align: right;\">\n",
       "      <th></th>\n",
       "      <th>Date</th>\n",
       "      <th>Country</th>\n",
       "      <th>Local</th>\n",
       "      <th>Industry Sector</th>\n",
       "      <th>Accident Level</th>\n",
       "      <th>Potential Accident Level</th>\n",
       "      <th>Gender</th>\n",
       "      <th>Employee type</th>\n",
       "      <th>Critical Risk</th>\n",
       "      <th>Description</th>\n",
       "    </tr>\n",
       "  </thead>\n",
       "  <tbody>\n",
       "    <tr>\n",
       "      <th>77</th>\n",
       "      <td>2016-04-01 00:00:00</td>\n",
       "      <td>Country_01</td>\n",
       "      <td>Local_01</td>\n",
       "      <td>Mining</td>\n",
       "      <td>I</td>\n",
       "      <td>V</td>\n",
       "      <td>Male</td>\n",
       "      <td>Third Party (Remote)</td>\n",
       "      <td>Others</td>\n",
       "      <td>In circumstances that two workers of the Abrat...</td>\n",
       "    </tr>\n",
       "    <tr>\n",
       "      <th>262</th>\n",
       "      <td>2016-12-01 00:00:00</td>\n",
       "      <td>Country_01</td>\n",
       "      <td>Local_03</td>\n",
       "      <td>Mining</td>\n",
       "      <td>I</td>\n",
       "      <td>IV</td>\n",
       "      <td>Male</td>\n",
       "      <td>Employee</td>\n",
       "      <td>Others</td>\n",
       "      <td>During the activity of chuteo of ore in hopper...</td>\n",
       "    </tr>\n",
       "    <tr>\n",
       "      <th>303</th>\n",
       "      <td>2017-01-21 00:00:00</td>\n",
       "      <td>Country_02</td>\n",
       "      <td>Local_02</td>\n",
       "      <td>Mining</td>\n",
       "      <td>I</td>\n",
       "      <td>I</td>\n",
       "      <td>Male</td>\n",
       "      <td>Third Party (Remote)</td>\n",
       "      <td>Others</td>\n",
       "      <td>Employees engaged in the removal of material f...</td>\n",
       "    </tr>\n",
       "    <tr>\n",
       "      <th>345</th>\n",
       "      <td>2017-03-02 00:00:00</td>\n",
       "      <td>Country_03</td>\n",
       "      <td>Local_10</td>\n",
       "      <td>Others</td>\n",
       "      <td>I</td>\n",
       "      <td>I</td>\n",
       "      <td>Male</td>\n",
       "      <td>Third Party</td>\n",
       "      <td>Venomous Animals</td>\n",
       "      <td>On 02/03/17 during the soil sampling in the re...</td>\n",
       "    </tr>\n",
       "    <tr>\n",
       "      <th>346</th>\n",
       "      <td>2017-03-02 00:00:00</td>\n",
       "      <td>Country_03</td>\n",
       "      <td>Local_10</td>\n",
       "      <td>Others</td>\n",
       "      <td>I</td>\n",
       "      <td>I</td>\n",
       "      <td>Male</td>\n",
       "      <td>Third Party</td>\n",
       "      <td>Venomous Animals</td>\n",
       "      <td>On 02/03/17 during the soil sampling in the re...</td>\n",
       "    </tr>\n",
       "    <tr>\n",
       "      <th>355</th>\n",
       "      <td>2017-03-15 00:00:00</td>\n",
       "      <td>Country_03</td>\n",
       "      <td>Local_10</td>\n",
       "      <td>Others</td>\n",
       "      <td>I</td>\n",
       "      <td>I</td>\n",
       "      <td>Male</td>\n",
       "      <td>Third Party</td>\n",
       "      <td>Venomous Animals</td>\n",
       "      <td>Team of the VMS Project performed soil collect...</td>\n",
       "    </tr>\n",
       "    <tr>\n",
       "      <th>397</th>\n",
       "      <td>2017-05-23 00:00:00</td>\n",
       "      <td>Country_01</td>\n",
       "      <td>Local_04</td>\n",
       "      <td>Mining</td>\n",
       "      <td>I</td>\n",
       "      <td>IV</td>\n",
       "      <td>Male</td>\n",
       "      <td>Third Party</td>\n",
       "      <td>Projection of fragments</td>\n",
       "      <td>In moments when the 02 collaborators carried o...</td>\n",
       "    </tr>\n",
       "  </tbody>\n",
       "</table>\n",
       "</div>"
      ],
      "text/plain": [
       "                    Date     Country     Local Industry Sector Accident Level  \\\n",
       "77   2016-04-01 00:00:00  Country_01  Local_01          Mining              I   \n",
       "262  2016-12-01 00:00:00  Country_01  Local_03          Mining              I   \n",
       "303  2017-01-21 00:00:00  Country_02  Local_02          Mining              I   \n",
       "345  2017-03-02 00:00:00  Country_03  Local_10          Others              I   \n",
       "346  2017-03-02 00:00:00  Country_03  Local_10          Others              I   \n",
       "355  2017-03-15 00:00:00  Country_03  Local_10          Others              I   \n",
       "397  2017-05-23 00:00:00  Country_01  Local_04          Mining              I   \n",
       "\n",
       "    Potential Accident Level Gender         Employee type  \\\n",
       "77                         V   Male  Third Party (Remote)   \n",
       "262                       IV   Male              Employee   \n",
       "303                        I   Male  Third Party (Remote)   \n",
       "345                        I   Male           Third Party   \n",
       "346                        I   Male           Third Party   \n",
       "355                        I   Male           Third Party   \n",
       "397                       IV   Male           Third Party   \n",
       "\n",
       "               Critical Risk  \\\n",
       "77                    Others   \n",
       "262                   Others   \n",
       "303                   Others   \n",
       "345         Venomous Animals   \n",
       "346         Venomous Animals   \n",
       "355         Venomous Animals   \n",
       "397  Projection of fragments   \n",
       "\n",
       "                                           Description  \n",
       "77   In circumstances that two workers of the Abrat...  \n",
       "262  During the activity of chuteo of ore in hopper...  \n",
       "303  Employees engaged in the removal of material f...  \n",
       "345  On 02/03/17 during the soil sampling in the re...  \n",
       "346  On 02/03/17 during the soil sampling in the re...  \n",
       "355  Team of the VMS Project performed soil collect...  \n",
       "397  In moments when the 02 collaborators carried o...  "
      ]
     },
     "execution_count": 9,
     "metadata": {},
     "output_type": "execute_result"
    }
   ],
   "source": [
    "# View the duplicate records\n",
    "duplicates = industry_df.duplicated()\n",
    "\n",
    "industry_df[duplicates]"
   ]
  },
  {
   "cell_type": "code",
   "execution_count": 10,
   "metadata": {},
   "outputs": [],
   "source": [
    "# Delete duplicate rows\n",
    "industry_df.drop_duplicates(inplace=True)"
   ]
  },
  {
   "cell_type": "code",
   "execution_count": 11,
   "metadata": {},
   "outputs": [
    {
     "data": {
      "image/png": "[encoded data removed]",
      "text/plain": [
       "<Figure size 288x216 with 1 Axes>"
      ]
     },
     "metadata": {
      "needs_background": "light"
     },
     "output_type": "display_data"
    }
   ],
   "source": [
    "f, axis = plt.subplots(1, figsize=(4,3))\n",
    "\n",
    "sns.countplot(data=industry_df,x=industry_df['Industry Sector'])\n",
    "plt.show()"
   ]
  },
  {
   "cell_type": "code",
   "execution_count": 12,
   "metadata": {},
   "outputs": [
    {
     "data": {
      "image/png": "[encoded data removed]",
      "text/plain": [
       "<Figure size 288x216 with 1 Axes>"
      ]
     },
     "metadata": {
      "needs_background": "light"
     },
     "output_type": "display_data"
    }
   ],
   "source": [
    "f, axis = plt.subplots(1, figsize=(4,3))\n",
    "\n",
    "sns.countplot(data=industry_df,x=industry_df['Accident Level'])\n",
    "plt.show()"
   ]
  },
  {
   "cell_type": "code",
   "execution_count": 13,
   "metadata": {},
   "outputs": [
    {
     "data": {
      "image/png": "[encoded data removed]",
      "text/plain": [
       "<Figure size 288x216 with 1 Axes>"
      ]
     },
     "metadata": {
      "needs_background": "light"
     },
     "output_type": "display_data"
    }
   ],
   "source": [
    "f, axis = plt.subplots(1, figsize=(4,3))\n",
    "\n",
    "sns.countplot(data=industry_df,x=industry_df['Potential Accident Level'])\n",
    "plt.show()"
   ]
  },
  {
   "cell_type": "code",
   "execution_count": 14,
   "metadata": {},
   "outputs": [
    {
     "data": {
      "image/png": "[encoded data removed]",
      "text/plain": [
       "<Figure size 288x216 with 1 Axes>"
      ]
     },
     "metadata": {
      "needs_background": "light"
     },
     "output_type": "display_data"
    }
   ],
   "source": [
    "f, axis = plt.subplots(1, figsize=(4,3))\n",
    "\n",
    "sns.countplot(data=industry_df,x=industry_df['Gender'])\n",
    "plt.show()"
   ]
  },
  {
   "cell_type": "code",
   "execution_count": 15,
   "metadata": {},
   "outputs": [
    {
     "data": {
      "text/plain": [
       "Date                        0\n",
       "Country                     0\n",
       "Local                       0\n",
       "Industry Sector             0\n",
       "Accident Level              0\n",
       "Potential Accident Level    0\n",
       "Gender                      0\n",
       "Employee type               0\n",
       "Critical Risk               0\n",
       "Description                 0\n",
       "dtype: int64"
      ]
     },
     "execution_count": 15,
     "metadata": {},
     "output_type": "execute_result"
    }
   ],
   "source": [
    "# Check the presence of missing values\n",
    "industry_df.isnull().sum()"
   ]
  },
  {
   "cell_type": "code",
   "execution_count": 16,
   "metadata": {},
   "outputs": [
    {
     "data": {
      "image/png": "[encoded data removed]",
      "text/plain": [
       "<Figure size 576x576 with 1 Axes>"
      ]
     },
     "metadata": {
      "needs_background": "light"
     },
     "output_type": "display_data"
    }
   ],
   "source": [
    "# Check the proportion of Industry sector in different countries\n",
    "indsec_cntry_table = pd.crosstab(index = industry_df['Industry Sector'], columns = industry_df['Country'])\n",
    "indsec_cntry_table.plot(kind = 'bar', figsize=(8,8), stacked = True)\n",
    "plt.title(\"Proportion of Industry Sector in different countries\")\n",
    "plt.show()"
   ]
  },
  {
   "cell_type": "code",
   "execution_count": 17,
   "metadata": {},
   "outputs": [],
   "source": [
    "industry_df['Date'] = pd.to_datetime(industry_df['Date'])\n",
    "\n",
    "industry_df['Year'] = industry_df.Date.apply(lambda x : x.year)\n",
    "industry_df['Month'] = industry_df.Date.apply(lambda x : x.month)\n",
    "industry_df['Day'] = industry_df.Date.apply(lambda x : x.day)\n",
    "industry_df['Weekday'] = industry_df.Date.apply(lambda x : x.day_name())\n",
    "industry_df['WeekofYear'] = industry_df.Date.apply(lambda x : x.weekofyear)"
   ]
  },
  {
   "cell_type": "code",
   "execution_count": 18,
   "metadata": {},
   "outputs": [],
   "source": [
    "# function to create month variable into seasons\n",
    "def month2seasons(x):\n",
    "    if x in [9, 10, 11]:\n",
    "        season = 'Spring'\n",
    "    elif x in [12, 1, 2]:\n",
    "        season = 'Summer'\n",
    "    elif x in [3, 4, 5]:\n",
    "        season = 'Autumn'\n",
    "    elif x in [6, 7, 8]:\n",
    "        season = 'Winter'\n",
    "    return season"
   ]
  },
  {
   "cell_type": "code",
   "execution_count": 19,
   "metadata": {},
   "outputs": [
    {
     "data": {
      "text/html": [
       "<div>\n",
       "<style scoped>\n",
       "    .dataframe tbody tr th:only-of-type {\n",
       "        vertical-align: middle;\n",
       "    }\n",
       "\n",
       "    .dataframe tbody tr th {\n",
       "        vertical-align: top;\n",
       "    }\n",
       "\n",
       "    .dataframe thead th {\n",
       "        text-align: right;\n",
       "    }\n",
       "</style>\n",
       "<table border=\"1\" class=\"dataframe\">\n",
       "  <thead>\n",
       "    <tr style=\"text-align: right;\">\n",
       "      <th></th>\n",
       "      <th>Date</th>\n",
       "      <th>Country</th>\n",
       "      <th>Local</th>\n",
       "      <th>Industry Sector</th>\n",
       "      <th>Accident Level</th>\n",
       "      <th>Potential Accident Level</th>\n",
       "      <th>Gender</th>\n",
       "      <th>Employee type</th>\n",
       "      <th>Critical Risk</th>\n",
       "      <th>Description</th>\n",
       "      <th>Year</th>\n",
       "      <th>Month</th>\n",
       "      <th>Day</th>\n",
       "      <th>Weekday</th>\n",
       "      <th>WeekofYear</th>\n",
       "      <th>Season</th>\n",
       "    </tr>\n",
       "  </thead>\n",
       "  <tbody>\n",
       "    <tr>\n",
       "      <th>0</th>\n",
       "      <td>2016-01-01</td>\n",
       "      <td>Country_01</td>\n",
       "      <td>Local_01</td>\n",
       "      <td>Mining</td>\n",
       "      <td>I</td>\n",
       "      <td>IV</td>\n",
       "      <td>Male</td>\n",
       "      <td>Third Party</td>\n",
       "      <td>Pressed</td>\n",
       "      <td>While removing the drill rod of the Jumbo 08 f...</td>\n",
       "      <td>2016</td>\n",
       "      <td>1</td>\n",
       "      <td>1</td>\n",
       "      <td>Friday</td>\n",
       "      <td>53</td>\n",
       "      <td>Summer</td>\n",
       "    </tr>\n",
       "    <tr>\n",
       "      <th>1</th>\n",
       "      <td>2016-01-02</td>\n",
       "      <td>Country_02</td>\n",
       "      <td>Local_02</td>\n",
       "      <td>Mining</td>\n",
       "      <td>I</td>\n",
       "      <td>IV</td>\n",
       "      <td>Male</td>\n",
       "      <td>Employee</td>\n",
       "      <td>Pressurized Systems</td>\n",
       "      <td>During the activation of a sodium sulphide pum...</td>\n",
       "      <td>2016</td>\n",
       "      <td>1</td>\n",
       "      <td>2</td>\n",
       "      <td>Saturday</td>\n",
       "      <td>53</td>\n",
       "      <td>Summer</td>\n",
       "    </tr>\n",
       "    <tr>\n",
       "      <th>2</th>\n",
       "      <td>2016-01-06</td>\n",
       "      <td>Country_01</td>\n",
       "      <td>Local_03</td>\n",
       "      <td>Mining</td>\n",
       "      <td>I</td>\n",
       "      <td>III</td>\n",
       "      <td>Male</td>\n",
       "      <td>Third Party (Remote)</td>\n",
       "      <td>Manual Tools</td>\n",
       "      <td>In the sub-station MILPO located at level +170...</td>\n",
       "      <td>2016</td>\n",
       "      <td>1</td>\n",
       "      <td>6</td>\n",
       "      <td>Wednesday</td>\n",
       "      <td>1</td>\n",
       "      <td>Summer</td>\n",
       "    </tr>\n",
       "  </tbody>\n",
       "</table>\n",
       "</div>"
      ],
      "text/plain": [
       "        Date     Country     Local Industry Sector Accident Level  \\\n",
       "0 2016-01-01  Country_01  Local_01          Mining              I   \n",
       "1 2016-01-02  Country_02  Local_02          Mining              I   \n",
       "2 2016-01-06  Country_01  Local_03          Mining              I   \n",
       "\n",
       "  Potential Accident Level Gender         Employee type        Critical Risk  \\\n",
       "0                       IV   Male           Third Party              Pressed   \n",
       "1                       IV   Male              Employee  Pressurized Systems   \n",
       "2                      III   Male  Third Party (Remote)         Manual Tools   \n",
       "\n",
       "                                         Description  Year  Month  Day  \\\n",
       "0  While removing the drill rod of the Jumbo 08 f...  2016      1    1   \n",
       "1  During the activation of a sodium sulphide pum...  2016      1    2   \n",
       "2  In the sub-station MILPO located at level +170...  2016      1    6   \n",
       "\n",
       "     Weekday  WeekofYear  Season  \n",
       "0     Friday          53  Summer  \n",
       "1   Saturday          53  Summer  \n",
       "2  Wednesday           1  Summer  "
      ]
     },
     "execution_count": 19,
     "metadata": {},
     "output_type": "execute_result"
    }
   ],
   "source": [
    "industry_df['Season'] = industry_df['Month'].apply(month2seasons)\n",
    "industry_df.head(3)"
   ]
  },
  {
   "cell_type": "code",
   "execution_count": null,
   "metadata": {},
   "outputs": [],
   "source": []
  },
  {
   "cell_type": "code",
   "execution_count": 20,
   "metadata": {},
   "outputs": [
    {
     "name": "stderr",
     "output_type": "stream",
     "text": [
      "[nltk_data] Downloading package wordnet to\n",
      "[nltk_data]     C:\\Users\\7uxs48\\AppData\\Roaming\\nltk_data...\n",
      "[nltk_data]   Package wordnet is already up-to-date!\n",
      "[nltk_data] Downloading package stopwords to\n",
      "[nltk_data]     C:\\Users\\7uxs48\\AppData\\Roaming\\nltk_data...\n",
      "[nltk_data]   Package stopwords is already up-to-date!\n",
      "[nltk_data] Downloading package averaged_perceptron_tagger to\n",
      "[nltk_data]     C:\\Users\\7uxs48\\AppData\\Roaming\\nltk_data...\n",
      "[nltk_data]   Package averaged_perceptron_tagger is already up-to-\n",
      "[nltk_data]       date!\n"
     ]
    }
   ],
   "source": [
    "import nltk; nltk.download('wordnet'); nltk.download('stopwords')\n",
    "from nltk.stem import WordNetLemmatizer\n",
    "from nltk.corpus import wordnet as wn\n",
    "from nltk.corpus import stopwords\n",
    "from wordcloud import WordCloud\n",
    "import matplotlib.pyplot as plt\n",
    "import string\n",
    "\n",
    "nltk.download('averaged_perceptron_tagger')\n",
    "\n",
    "appos = {\"ain't\": \"am not\", \"aren't\": \"are not\", \"can't\": \"cannot\", \n",
    "         \"can't've\": \"cannot have\", \"'cause\": \"because\", \n",
    "         \"could've\": \"could have\", \"couldn't\": \"could not\", \n",
    "         \"couldn't've\": \"could not have\", \"didn't\": \"did not\", \n",
    "         \"doesn't\": \"does not\", \"don't\": \"do not\", \"hadn't\": \"had not\", \n",
    "         \"hadn't've\": \"had not have\", \"hasn't\": \"has not\", \n",
    "         \"haven't\": \"have not\", \"he'd\": \"he would\", \"he'd've\": \"he would have\", \n",
    "         \"he'll\": \"he will\", \"he'll've\": \"he will have\", \n",
    "         \"he's\": \"he is\", \"how'd\": \"how did\", \n",
    "         \"how'd'y\": \"how do you\", \"how'll\": \"how will\", \"how's\": \"how is\",\n",
    "         \"I'd\": \"I would\", \"I'd've\": \"I would have\", \"I'll\": \"I will\", \n",
    "         \"I'll've\": \"I will have\", \"I'm\": \"I am\", \"I've\": \"I have\", \n",
    "         \"isn't\": \"is not\", \"it'd\": \"it would\", \"it'd've\": \"it would have\", \n",
    "         \"it'll\": \"it will\", \"it'll've\": \"it will have\", \"it's\": \"it is\", \n",
    "         \"let's\": \"let us\", \"ma'am\": \"madam\", \"mayn't\": \"may not\", \n",
    "         \"might've\": \"might have\", \"mightn't\": \"might not\", \n",
    "         \"mightn't've\": \"might not have\", \"must've\": \"must have\", \n",
    "         \"mustn't\": \"must not\", \"mustn't've\": \"must not have\", \n",
    "         \"needn't\": \"need not\", \"needn't've\": \"need not have\",\n",
    "         \"o'clock\": \"of the clock\", \"oughtn't\": \"ought not\", \n",
    "         \"oughtn't've\": \"ought not have\", \"shan't\": \"shall not\", \n",
    "         \"sha'n't\": \"shall not\", \"shan't've\": \"shall not have\", \n",
    "         \"she'd\": \"she would\", \"she'd've\": \"she would have\", \n",
    "         \"she'll\": \"she will\", \"she'll've\": \"she will have\",\n",
    "         \"she's\": \"she is\", \"should've\": \"should have\", \n",
    "         \"shouldn't\": \"should not\", \"shouldn't've\": \"should not have\", \n",
    "         \"so've\": \"so have\", \"so's\": \"so is\", \n",
    "         \"that'd\": \"that had\", \"that'd've\": \"that would have\", \n",
    "         \"that's\": \"that that is\", \"there'd\": \"there would\", \n",
    "         \"there'd've\": \"there would have\", \"there's\": \"there is\", \n",
    "         \"they'd\": \"they would\", \"they'd've\": \"they would have\", \n",
    "         \"they'll\": \"they will\", \"they'll've\": \"they will have\", \n",
    "         \"they're\": \"they are\", \"they've\": \"they have\", \n",
    "         \"to've\": \"to have\", \"wasn't\": \"was not\", \"we'd\": \"we would\", \n",
    "         \"we'd've\": \"we would have\", \"we'll\": \"we will\", \n",
    "         \"we'll've\": \"we will have\", \"we're\": \"we are\", \n",
    "         \"we've\": \"we have\", \"weren't\": \"were not\", \n",
    "         \"what'll\": \"what will\", \"what'll've\": \"what will have\", \n",
    "         \"what're\": \"what are\", \"what's\": \"what is\", \n",
    "         \"what've\": \"what have\", \"when's\": \"when is\", \n",
    "         \"when've\": \"when have\", \"where'd\": \"where did\", \n",
    "         \"where's\": \"where is\", \"where've\": \"where have\", \n",
    "         \"who'll\": \"who will\", \"who'll've\": \"who will have\", \n",
    "         \"who's\": \"who is\", \"who've\": \"who have\", \n",
    "         \"why's\": \"why is\", \"why've\": \"why have\", \"will've\": \"will have\", \n",
    "         \"won't\": \"will not\", \"won't've\": \"will not have\",\n",
    "         \"would've\": \"would have\", \"wouldn't\": \"would not\", \n",
    "         \"wouldn't've\": \"would not have\", \"y'all\": \"you all\", \n",
    "         \"y'all'd\": \"you all would\", \"y'all'd've\": \"you all would have\", \n",
    "         \"y'all're\": \"you all are\", \"y'all've\": \"you all have\", \n",
    "         \"you'd\": \"you would\", \"you'd've\": \"you would have\",\n",
    "         \"you'll\": \"you will\", \"you'll've\": \"you will have\", \n",
    "         \"you're\": \"you are\", \"you've\": \"you have\"}\n",
    "\n",
    "# Helper function to replace appos\n",
    "def replace_words(description):\n",
    "    cleaned_description = []\n",
    "    for word in str(description).split():\n",
    "        if word.lower() in appos.keys():\n",
    "            cleaned_description.append(appos[word.lower()])\n",
    "        else:\n",
    "            cleaned_description.append(word)\n",
    "    return ' '.join(cleaned_description)\n",
    "\n",
    "# Helper function to remove punctuations\n",
    "# Reference: https://www.programiz.com/python-programming/methods/string/translate\n",
    "PUNCT_TO_REMOVE = '!\"#$%&\\'()*+,-./:;<=>?@[\\\\]^_`{|}~' #string.punctuation\n",
    "def remove_punctuation(text):\n",
    "    \"\"\"function to remove the punctuation\"\"\"\n",
    "    return text.translate(str.maketrans('', '', PUNCT_TO_REMOVE))\n",
    "\n",
    "# Helper function to lemmatize\n",
    "lemmatizer = WordNetLemmatizer()\n",
    "def lemmatize(text):\n",
    "  return ''.join([lemmatizer.lemmatize(word) for word in text])\n",
    "\n",
    "# Helper function to remove stopwords\n",
    "stoplist = set(stopwords.words('english'))\n",
    "stoplist.update(('cm', 'kg', 'mr', 'wa' ,'nv', 'ore', 'da', 'pm', 'am', 'cx'))\n",
    "stoplist.remove('not')\n",
    "def remove_stopwords(text):\n",
    "    \"\"\"function to remove the stopwords\"\"\"\n",
    "    return \" \".join([word for word in str(text).split() if word not in stoplist])\n",
    "\n",
    "# Helper function for wordcloud\n",
    "# Reference: https://www.kaggle.com/aashita/word-clouds-of-various-shapes\n",
    "def plot_wordcloud(text, mask = None, max_words = 500, max_font_size = 40, \n",
    "                   figure_size = (12, 6), title = None, title_size = 15):\n",
    "    wordcloud = WordCloud(background_color = 'white', max_words = max_words,\n",
    "                          random_state = 42, width = 350, height = 150, \n",
    "                          mask = mask, stopwords = stoplist, collocations = False)\n",
    "    wordcloud.generate(str(text))\n",
    "    \n",
    "    plt.figure(figsize = figure_size)\n",
    "    plt.imshow(wordcloud, interpolation = 'bilinear');\n",
    "    plt.title(title, fontdict = {'size': title_size, 'color': 'black', \n",
    "                               'verticalalignment': 'bottom'})\n",
    "    plt.axis('off');\n",
    "    plt.tight_layout()\n",
    "\n",
    "# Second helper function for lemmatizing\n",
    "lemmatizer = WordNetLemmatizer()\n",
    "def lem(text):\n",
    "    pos_dict = {'N': wn.NOUN, 'V': wn.VERB, 'J': wn.ADJ, 'R': wn.ADV}\n",
    "    return(' '.join([lemmatizer.lemmatize(w,pos_dict.get(t, wn.NOUN)) for w,t in nltk.pos_tag(text.split())]))"
   ]
  },
  {
   "cell_type": "code",
   "execution_count": 21,
   "metadata": {},
   "outputs": [
    {
     "name": "stdout",
     "output_type": "stream",
     "text": [
      "------------------------------------------------------------\n",
      "Converting description to lower case\n",
      "Replacing apostrophes to the standard lexicons\n",
      "Removing punctuations\n",
      "Applying Lemmatizer\n",
      "Removing multiple spaces between words\n",
      "------------------------------------------------------------\n"
     ]
    }
   ],
   "source": [
    "\n",
    "print('--'*30); print('Converting description to lower case')\n",
    "industry_df['Cleaned_Description'] = industry_df['Description'].apply(lambda x : x.lower())\n",
    "\n",
    "print('Replacing apostrophes to the standard lexicons')\n",
    "industry_df['Cleaned_Description'] = industry_df['Cleaned_Description'].apply(lambda x : replace_words(x))\n",
    "\n",
    "print('Removing punctuations')\n",
    "industry_df['Cleaned_Description'] = industry_df['Cleaned_Description'].apply(lambda x: remove_punctuation(x))\n",
    "\n",
    "print('Applying Lemmatizer')\n",
    "industry_df['Cleaned_Description'] = industry_df['Cleaned_Description'].apply(lambda x: lemmatize(x))\n",
    "\n",
    "print('Removing multiple spaces between words')\n",
    "industry_df['Cleaned_Description'] = industry_df['Cleaned_Description'].apply(lambda x: re.sub(' +', ' ', x))\n",
    "\n",
    "\n",
    "print('--'*30)"
   ]
  },
  {
   "cell_type": "code",
   "execution_count": 22,
   "metadata": {},
   "outputs": [
    {
     "name": "stdout",
     "output_type": "stream",
     "text": [
      "Requirement already up-to-date: gensim in c:\\users\\7uxs48\\anaconda3\\lib\\site-packages (4.1.2)\n",
      "Requirement already satisfied, skipping upgrade: smart-open>=1.8.1 in c:\\users\\7uxs48\\anaconda3\\lib\\site-packages (from gensim) (5.2.1)\n",
      "Requirement already satisfied, skipping upgrade: Cython==0.29.23 in c:\\users\\7uxs48\\anaconda3\\lib\\site-packages (from gensim) (0.29.23)\n",
      "Requirement already satisfied, skipping upgrade: numpy>=1.17.0 in c:\\users\\7uxs48\\anaconda3\\lib\\site-packages (from gensim) (1.19.2)\n",
      "Requirement already satisfied, skipping upgrade: scipy>=0.18.1 in c:\\users\\7uxs48\\anaconda3\\lib\\site-packages (from gensim) (1.5.2)\n",
      "Note: you may need to restart the kernel to use updated packages.\n"
     ]
    }
   ],
   "source": [
    "pip install --upgrade gensim"
   ]
  },
  {
   "cell_type": "code",
   "execution_count": null,
   "metadata": {},
   "outputs": [],
   "source": []
  },
  {
   "cell_type": "code",
   "execution_count": null,
   "metadata": {},
   "outputs": [],
   "source": []
  },
  {
   "cell_type": "code",
   "execution_count": 23,
   "metadata": {},
   "outputs": [
    {
     "name": "stdout",
     "output_type": "stream",
     "text": [
      "------------------------------------------------------------------------------------------\n",
      "Get the length of each line, find the maximum length and print the maximum length line\n",
      "Length of line ranges from 64 to 672.\n",
      "------------------------------------------------------------------------------------------\n",
      "Minimum line length: 92\n",
      "Maximum line length: 1010\n",
      "Line with maximum length: when performing the sleeve removal maneuver when the hole was 600 meters deep general da silva pressed only one side of the locking nut of the rods which together with the jack holds the entire weight of the rods in the maneuver as the locking procedure was not effective the weight of the rods was only secured by the steel wire rope of the probe winch at the moment that driller pedro released the brake of the winch the inefficacy of the locking done only in one side of the chestnut and without aid of the monkey caused the sliding of the rods auxiliary was prepared for manual unlocking of the rods holding the faucet key firmly against the probe tower as the composition shifted as the stems slid his hands were shifted downward causing his left hand to strike against the base of the probe tower structure causing cuts to the 4th and 5th quirodactyl employee was taken to the hospital where he went through medical care wound was sutured with 16 stitches same was removed for 10 days from his activities\n"
     ]
    }
   ],
   "source": [
    "print('--'*45); print('Get the length of each line, find the maximum length and print the maximum length line'); \n",
    "print('Length of line ranges from 64 to 672.'); print('--'*45)\n",
    "\n",
    "# Get length of each line\n",
    "industry_df['line_length'] = industry_df['Cleaned_Description'].str.len()\n",
    "\n",
    "print('Minimum line length: {}'.format(industry_df['line_length'].min()))\n",
    "print('Maximum line length: {}'.format(industry_df['line_length'].max()))\n",
    "print('Line with maximum length: {}'.format(industry_df[industry_df['line_length'] == industry_df['line_length'].max()]['Cleaned_Description'].values[0]))"
   ]
  },
  {
   "cell_type": "code",
   "execution_count": 24,
   "metadata": {},
   "outputs": [
    {
     "name": "stdout",
     "output_type": "stream",
     "text": [
      "------------------------------------------------------------------------------------------\n",
      "Get the number of words, find the maximum number of words and print the maximum number of words\n",
      "Number of words ranges from 10 to 98.\n",
      "------------------------------------------------------------------------------------------\n"
     ]
    }
   ],
   "source": [
    "print('--'*45); print('Get the number of words, find the maximum number of words and print the maximum number of words'); \n",
    "print('Number of words ranges from 10 to 98.'); print('--'*45)\n",
    "\n",
    "# Get length of each line\n",
    "industry_df['nb_words'] = industry_df['Cleaned_Description'].apply(lambda x: len(x.split(' ')))"
   ]
  },
  {
   "cell_type": "code",
   "execution_count": 25,
   "metadata": {},
   "outputs": [
    {
     "data": {
      "image/png": "[encoded data removed]",
      "text/plain": [
       "<Figure size 1080x720 with 1 Axes>"
      ]
     },
     "metadata": {
      "needs_background": "light"
     },
     "output_type": "display_data"
    }
   ],
   "source": [
    "wordcloud = WordCloud(width = 1500, height = 800, random_state=0, background_color='black', colormap='rainbow', \\\n",
    "                      min_font_size=5, max_words=300, collocations=False).generate(\" \".join(industry_df['Cleaned_Description'].values))\n",
    "plt.figure(figsize=(15,10))\n",
    "plt.imshow(wordcloud)\n",
    "plt.axis('off')\n",
    "plt.show()\n"
   ]
  },
  {
   "cell_type": "code",
   "execution_count": 26,
   "metadata": {},
   "outputs": [
    {
     "name": "stdout",
     "output_type": "stream",
     "text": [
      "------------------------------------------------------------\n",
      "Five point summary for number of words\n"
     ]
    },
    {
     "data": {
      "text/plain": [
       "count    418\n",
       "mean      65\n",
       "std       32\n",
       "min       16\n",
       "25%       40\n",
       "50%       60\n",
       "75%       82\n",
       "max      183\n",
       "Name: nb_words, dtype: int32"
      ]
     },
     "metadata": {},
     "output_type": "display_data"
    },
    {
     "name": "stdout",
     "output_type": "stream",
     "text": [
      "99% quantilie: 159.48999999999995\n",
      "------------------------------------------------------------\n"
     ]
    }
   ],
   "source": [
    "print('--'*30); print('Five point summary for number of words')\n",
    "display(industry_df['nb_words'].describe().round(0).astype(int)); \n",
    "\n",
    "print('99% quantilie: {}'.format(industry_df['nb_words'].quantile(0.99)));print('--'*30)"
   ]
  },
  {
   "cell_type": "code",
   "execution_count": 27,
   "metadata": {},
   "outputs": [
    {
     "name": "stdout",
     "output_type": "stream",
     "text": [
      "Word2Vec(vocab=48, vector_size=100, alpha=0.025)\n",
      "[' ', 'e', 't', 'a', 'o', 'i', 'h', 'n', 'r', 's', 'l', 'c', 'd', 'f', 'p', 'm', 'g', 'u', 'w', 'b', 'y', 'v', 'k', '0', '1', 'x', 'j', '2', '5', '4', '3', 'q', '8', '7', '6', 'z', '9', '\\u200b', '°', 'á', 'é', 'ã', 'ó', 'â', 'í', 'ô', '¼', 'ú']\n"
     ]
    }
   ],
   "source": [
    "from gensim.models import Word2Vec\n",
    "# define training data\n",
    "sentences = industry_df['Cleaned_Description']\n",
    "\n",
    "# train model\n",
    "model = Word2Vec(sentences, min_count=1)\n",
    "\n",
    "# summarize the loaded model\n",
    "print(model)\n",
    "\n",
    "# summarize vocabulary\n",
    "words = list(model.wv.index_to_key)\n",
    "print(words)\n",
    "\n",
    "# save model\n",
    "#model.save('model.bin')"
   ]
  },
  {
   "cell_type": "code",
   "execution_count": 28,
   "metadata": {},
   "outputs": [
    {
     "name": "stderr",
     "output_type": "stream",
     "text": [
      "400000it [00:30, 13296.67it/s]"
     ]
    },
    {
     "name": "stdout",
     "output_type": "stream",
     "text": [
      "Found 400000 word vectors.\n"
     ]
    },
    {
     "name": "stderr",
     "output_type": "stream",
     "text": [
      "\n"
     ]
    }
   ],
   "source": [
    "from tqdm import tqdm\n",
    "\n",
    "embeddings_index = {}\n",
    "EMBEDDING_FILE = 'glove.6B.200d.txt'\n",
    "f = open(EMBEDDING_FILE, encoding=\"utf8\")\n",
    "for line in tqdm(f):\n",
    "    values = line.split()\n",
    "    word = values[0]\n",
    "    coefs = np.asarray(values[1:], dtype='float32')\n",
    "    embeddings_index[word] = coefs\n",
    "f.close()\n",
    "\n",
    "print('Found %s word vectors.' % len(embeddings_index))"
   ]
  },
  {
   "cell_type": "code",
   "execution_count": 29,
   "metadata": {},
   "outputs": [],
   "source": [
    "# this function creates a normalized vector for the whole sentence\n",
    "def sent2vec(s):\n",
    "    words = str(s).lower()\n",
    "    words = word_tokenize(words)\n",
    "    #words = [w for w in words if not w in stop_words]\n",
    "    words = [w for w in words if w.isalpha()]\n",
    "    M = []\n",
    "    for w in words:\n",
    "        try:\n",
    "            M.append(embeddings_index[w])\n",
    "        except:\n",
    "            continue\n",
    "    M = np.array(M)\n",
    "    v = M.sum(axis=0)\n",
    "    if type(v) != np.ndarray:\n",
    "        return np.zeros(300)\n",
    "    return v / np.sqrt((v ** 2).sum())"
   ]
  },
  {
   "cell_type": "code",
   "execution_count": 30,
   "metadata": {},
   "outputs": [
    {
     "name": "stderr",
     "output_type": "stream",
     "text": [
      "100%|█████████████████████████████████████████████████████████████████████████████████████████████████████████████████████████████████████████████████████████████████████████| 418/418 [00:00<00:00, 2765.84it/s]\n"
     ]
    }
   ],
   "source": [
    "from nltk.tokenize import word_tokenize\n",
    "\n",
    "# create sentence GLOVE embeddings vectors using the above function for training and validation set\n",
    "ind_glove_df = [sent2vec(x) for x in tqdm(industry_df['Cleaned_Description'])]"
   ]
  },
  {
   "cell_type": "code",
   "execution_count": 31,
   "metadata": {},
   "outputs": [
    {
     "data": {
      "text/plain": [
       "array([ 9.28910356e-03,  6.93368539e-02, -7.27849038e-05, -3.93287502e-02,\n",
       "        1.40492674e-02,  6.30981401e-02, -7.00636506e-02, -2.12307163e-02,\n",
       "       -2.85552517e-02,  1.60983745e-02,  1.08201019e-02,  5.44591174e-02,\n",
       "        3.75398993e-02,  2.33113989e-02,  9.07307342e-02, -1.57709159e-02,\n",
       "        4.13321890e-03,  3.15995999e-02, -9.45691764e-03, -1.20418267e-02,\n",
       "        4.22633514e-02,  6.63789153e-01,  3.39912847e-02, -2.71379855e-03,\n",
       "        2.59857029e-02,  2.28768364e-02, -4.05137353e-02,  2.27483734e-02,\n",
       "       -3.29361646e-03,  7.04122649e-04,  2.77600531e-02, -4.18297239e-02,\n",
       "       -3.35876481e-03,  3.41943279e-03, -7.29908329e-03, -3.26016881e-02,\n",
       "       -1.42883301e-01, -7.00050667e-02, -3.98264900e-02, -1.86401308e-02,\n",
       "        2.51627602e-02, -3.75698060e-02,  1.72892604e-02,  7.41079450e-02,\n",
       "       -7.79693946e-03,  7.26518333e-02,  6.41815215e-02,  2.97078751e-02,\n",
       "        3.09688374e-02,  8.84541869e-02, -1.12419380e-02,  5.19632036e-03,\n",
       "        3.65180429e-03,  4.43776920e-02,  2.73734890e-02, -3.97650478e-03,\n",
       "       -1.51990205e-02,  3.83612444e-03, -2.53402777e-02,  6.09310996e-03,\n",
       "        2.83887871e-02, -1.79821942e-02, -8.93308818e-02, -1.97313186e-02,\n",
       "        3.91187221e-02,  1.31220995e-02, -2.69970186e-02,  2.00807415e-02,\n",
       "        3.66527331e-03, -1.30905127e-02,  8.77151862e-02,  5.96041558e-03,\n",
       "        4.30528633e-02,  3.84571590e-02, -3.03609893e-02,  1.02006063e-01,\n",
       "       -1.43743167e-02, -5.54129342e-03, -2.39469833e-03, -2.39482671e-02,\n",
       "        9.40854941e-03, -3.79066691e-02, -5.08777127e-02,  2.27349177e-02,\n",
       "        2.19792686e-02, -6.79282425e-03, -4.35468853e-02, -6.88944012e-02,\n",
       "        1.49932012e-01, -1.48180529e-01,  2.09684614e-02,  1.48585513e-02,\n",
       "        7.38699064e-02,  1.09182661e-02, -4.02951017e-02,  1.01956408e-02,\n",
       "        4.83034961e-02, -1.49059230e-02, -6.16086787e-03, -3.12074721e-02,\n",
       "       -1.13258520e-02,  2.24794075e-03, -6.31420291e-04,  2.26295684e-02,\n",
       "       -2.13790461e-02, -3.80299725e-02,  1.42956721e-02,  2.47021154e-01,\n",
       "       -3.82392853e-02, -1.40428673e-02, -1.94499251e-02, -3.93113308e-02,\n",
       "        8.85737594e-03,  4.50787507e-02,  2.40611956e-02, -5.63811464e-03,\n",
       "        6.27273601e-03, -2.76219100e-02, -4.33732718e-02, -1.69469845e-02,\n",
       "        5.15949652e-02,  1.60934012e-02,  1.38603635e-02,  5.03382012e-02,\n",
       "        1.15762707e-02, -1.03341870e-01,  6.78915977e-02,  3.14292237e-02,\n",
       "       -4.40416066e-03,  2.59971758e-03, -4.55869175e-02,  6.80257604e-02,\n",
       "        5.12968302e-02, -8.19330737e-02, -1.14008402e-02,  5.36176413e-02,\n",
       "        9.83516499e-03, -4.30694632e-02, -2.83830483e-02, -2.82673817e-02,\n",
       "       -4.99445200e-03,  3.12392004e-02,  3.44679840e-02, -1.72324721e-02,\n",
       "        2.79157400e-01,  2.54949462e-02, -3.14197689e-02, -5.10645136e-02,\n",
       "        4.61106887e-03,  2.49053165e-02,  1.88441910e-02,  4.97454964e-02,\n",
       "        6.52668439e-03, -4.47461009e-02,  5.11697792e-02,  2.02353280e-02,\n",
       "       -5.13767675e-02,  7.15705827e-02, -2.26571038e-02, -1.22615218e-01,\n",
       "        3.21558863e-02, -2.12703031e-02, -4.35226709e-02,  5.97096886e-03,\n",
       "       -7.68811954e-03,  2.70416439e-02, -5.01958579e-02, -1.07827792e-02,\n",
       "       -7.24892467e-02,  1.30063966e-01,  2.19414756e-02,  2.60742195e-02,\n",
       "        5.15972339e-02, -3.69186401e-02,  1.03474809e-02,  3.43452441e-03,\n",
       "       -2.86738575e-02, -9.09963846e-02, -1.97037752e-03,  1.68492901e-03,\n",
       "        2.31199518e-01, -6.00665212e-02, -1.16413916e-02,  8.57940875e-03,\n",
       "       -1.99466441e-02, -3.84952687e-02, -3.08573004e-02,  1.64419040e-02,\n",
       "        2.27130149e-02,  8.13681930e-02, -1.41941309e-02,  3.62826549e-02,\n",
       "       -4.26532216e-02,  5.36608696e-02, -4.42760019e-03,  5.27504226e-03,\n",
       "       -9.33769217e-04,  1.96551811e-02, -3.33457291e-02,  5.56656867e-02],\n",
       "      dtype=float32)"
      ]
     },
     "execution_count": 31,
     "metadata": {},
     "output_type": "execute_result"
    }
   ],
   "source": [
    "ind_glove_df[0]"
   ]
  },
  {
   "cell_type": "markdown",
   "metadata": {},
   "source": [
    "#### Variable Creation - TFIDF Features"
   ]
  },
  {
   "cell_type": "code",
   "execution_count": 32,
   "metadata": {},
   "outputs": [
    {
     "data": {
      "text/html": [
       "<div>\n",
       "<style scoped>\n",
       "    .dataframe tbody tr th:only-of-type {\n",
       "        vertical-align: middle;\n",
       "    }\n",
       "\n",
       "    .dataframe tbody tr th {\n",
       "        vertical-align: top;\n",
       "    }\n",
       "\n",
       "    .dataframe thead th {\n",
       "        text-align: right;\n",
       "    }\n",
       "</style>\n",
       "<table border=\"1\" class=\"dataframe\">\n",
       "  <thead>\n",
       "    <tr style=\"text-align: right;\">\n",
       "      <th></th>\n",
       "      <th>TFIDF_activity</th>\n",
       "      <th>TFIDF_area</th>\n",
       "      <th>TFIDF_causing</th>\n",
       "      <th>TFIDF_employee</th>\n",
       "      <th>TFIDF_hand</th>\n",
       "      <th>TFIDF_injury</th>\n",
       "      <th>TFIDF_left</th>\n",
       "      <th>TFIDF_operator</th>\n",
       "      <th>TFIDF_right</th>\n",
       "      <th>TFIDF_time</th>\n",
       "      <th>...</th>\n",
       "      <th>TFIDF_causing injury described</th>\n",
       "      <th>TFIDF_described time accident</th>\n",
       "      <th>TFIDF_finger left hand</th>\n",
       "      <th>TFIDF_finger right hand</th>\n",
       "      <th>TFIDF_generating described injury</th>\n",
       "      <th>TFIDF_hand causing injury</th>\n",
       "      <th>TFIDF_injury time accident</th>\n",
       "      <th>TFIDF_left hand causing</th>\n",
       "      <th>TFIDF_right hand causing</th>\n",
       "      <th>TFIDF_time accident employee</th>\n",
       "    </tr>\n",
       "  </thead>\n",
       "  <tbody>\n",
       "    <tr>\n",
       "      <th>0</th>\n",
       "      <td>0.0</td>\n",
       "      <td>0.00000</td>\n",
       "      <td>0.000000</td>\n",
       "      <td>0.0</td>\n",
       "      <td>0.000000</td>\n",
       "      <td>0.000000</td>\n",
       "      <td>0.000000</td>\n",
       "      <td>0.0</td>\n",
       "      <td>0.0</td>\n",
       "      <td>0.0</td>\n",
       "      <td>...</td>\n",
       "      <td>0.0</td>\n",
       "      <td>0.0</td>\n",
       "      <td>0.0</td>\n",
       "      <td>0.0</td>\n",
       "      <td>0.0</td>\n",
       "      <td>0.0</td>\n",
       "      <td>0.0</td>\n",
       "      <td>0.0</td>\n",
       "      <td>0.0</td>\n",
       "      <td>0.0</td>\n",
       "    </tr>\n",
       "    <tr>\n",
       "      <th>1</th>\n",
       "      <td>0.0</td>\n",
       "      <td>1.00000</td>\n",
       "      <td>0.000000</td>\n",
       "      <td>0.0</td>\n",
       "      <td>0.000000</td>\n",
       "      <td>0.000000</td>\n",
       "      <td>0.000000</td>\n",
       "      <td>0.0</td>\n",
       "      <td>0.0</td>\n",
       "      <td>0.0</td>\n",
       "      <td>...</td>\n",
       "      <td>0.0</td>\n",
       "      <td>0.0</td>\n",
       "      <td>0.0</td>\n",
       "      <td>0.0</td>\n",
       "      <td>0.0</td>\n",
       "      <td>0.0</td>\n",
       "      <td>0.0</td>\n",
       "      <td>0.0</td>\n",
       "      <td>0.0</td>\n",
       "      <td>0.0</td>\n",
       "    </tr>\n",
       "    <tr>\n",
       "      <th>2</th>\n",
       "      <td>0.0</td>\n",
       "      <td>0.55361</td>\n",
       "      <td>0.383117</td>\n",
       "      <td>0.0</td>\n",
       "      <td>0.413742</td>\n",
       "      <td>0.460892</td>\n",
       "      <td>0.403897</td>\n",
       "      <td>0.0</td>\n",
       "      <td>0.0</td>\n",
       "      <td>0.0</td>\n",
       "      <td>...</td>\n",
       "      <td>0.0</td>\n",
       "      <td>0.0</td>\n",
       "      <td>0.0</td>\n",
       "      <td>0.0</td>\n",
       "      <td>0.0</td>\n",
       "      <td>0.0</td>\n",
       "      <td>0.0</td>\n",
       "      <td>0.0</td>\n",
       "      <td>0.0</td>\n",
       "      <td>0.0</td>\n",
       "    </tr>\n",
       "  </tbody>\n",
       "</table>\n",
       "<p>3 rows × 30 columns</p>\n",
       "</div>"
      ],
      "text/plain": [
       "   TFIDF_activity  TFIDF_area  TFIDF_causing  TFIDF_employee  TFIDF_hand  \\\n",
       "0             0.0     0.00000       0.000000             0.0    0.000000   \n",
       "1             0.0     1.00000       0.000000             0.0    0.000000   \n",
       "2             0.0     0.55361       0.383117             0.0    0.413742   \n",
       "\n",
       "   TFIDF_injury  TFIDF_left  TFIDF_operator  TFIDF_right  TFIDF_time  ...  \\\n",
       "0      0.000000    0.000000             0.0          0.0         0.0  ...   \n",
       "1      0.000000    0.000000             0.0          0.0         0.0  ...   \n",
       "2      0.460892    0.403897             0.0          0.0         0.0  ...   \n",
       "\n",
       "   TFIDF_causing injury described  TFIDF_described time accident  \\\n",
       "0                             0.0                            0.0   \n",
       "1                             0.0                            0.0   \n",
       "2                             0.0                            0.0   \n",
       "\n",
       "   TFIDF_finger left hand  TFIDF_finger right hand  \\\n",
       "0                     0.0                      0.0   \n",
       "1                     0.0                      0.0   \n",
       "2                     0.0                      0.0   \n",
       "\n",
       "   TFIDF_generating described injury  TFIDF_hand causing injury  \\\n",
       "0                                0.0                        0.0   \n",
       "1                                0.0                        0.0   \n",
       "2                                0.0                        0.0   \n",
       "\n",
       "   TFIDF_injury time accident  TFIDF_left hand causing  \\\n",
       "0                         0.0                      0.0   \n",
       "1                         0.0                      0.0   \n",
       "2                         0.0                      0.0   \n",
       "\n",
       "   TFIDF_right hand causing  TFIDF_time accident employee  \n",
       "0                       0.0                           0.0  \n",
       "1                       0.0                           0.0  \n",
       "2                       0.0                           0.0  \n",
       "\n",
       "[3 rows x 30 columns]"
      ]
     },
     "execution_count": 32,
     "metadata": {},
     "output_type": "execute_result"
    }
   ],
   "source": [
    "from sklearn.feature_extraction.text import TfidfVectorizer\n",
    "\n",
    "ind_tfidf_df = pd.DataFrame()\n",
    "for i in [1,2,3]:\n",
    "    vec_tfidf = TfidfVectorizer(max_features=10, norm='l2', stop_words='english', lowercase=True, use_idf=True, ngram_range=(i,i))\n",
    "    X = vec_tfidf.fit_transform(industry_df['Cleaned_Description']).toarray()\n",
    "    tfs = pd.DataFrame(X, columns=[\"TFIDF_\" + n for n in vec_tfidf.get_feature_names()])\n",
    "    ind_tfidf_df = pd.concat([ind_tfidf_df.reset_index(drop=True), tfs.reset_index(drop=True)], axis=1)\n",
    "\n",
    "ind_tfidf_df.head(3)"
   ]
  },
  {
   "cell_type": "markdown",
   "metadata": {},
   "source": [
    "#### Variable Creation - Label Encoding"
   ]
  },
  {
   "cell_type": "code",
   "execution_count": 33,
   "metadata": {},
   "outputs": [
    {
     "data": {
      "text/plain": [
       "Third_Party             185\n",
       "Employee                178\n",
       "Third_Party_(Remote)     55\n",
       "Name: Employee type, dtype: int64"
      ]
     },
     "execution_count": 33,
     "metadata": {},
     "output_type": "execute_result"
    }
   ],
   "source": [
    "# To replace white space everywhere in Employee type\n",
    "industry_df['Employee type'] = industry_df['Employee type'].str.replace(' ', '_')\n",
    "industry_df['Employee type'].value_counts()"
   ]
  },
  {
   "cell_type": "code",
   "execution_count": 34,
   "metadata": {},
   "outputs": [
    {
     "data": {
      "text/plain": [
       "Others                 229\n",
       "Pressed                 24\n",
       "Manual_Tools            20\n",
       "Chemical_substances     17\n",
       "Cut                     14\n",
       "Name: Critical Risk, dtype: int64"
      ]
     },
     "execution_count": 34,
     "metadata": {},
     "output_type": "execute_result"
    }
   ],
   "source": [
    "# To replace white space everywhere in Critical Risk\n",
    "industry_df['Critical Risk'] = industry_df['Critical Risk'].str.replace('\\n', '').str.replace(' ', '_')\n",
    "industry_df['Critical Risk'].value_counts().head()"
   ]
  },
  {
   "cell_type": "code",
   "execution_count": 35,
   "metadata": {},
   "outputs": [],
   "source": [
    "from sklearn.preprocessing import LabelEncoder\n",
    "\n",
    "# Create Industry DataFrame\n",
    "ind_featenc_df = pd.DataFrame()\n",
    "\n",
    "# Label encoding\n",
    "industry_df['Season'] = industry_df['Season'].replace('Summer', 'aSummer').replace('Autumn', 'bAutumn').replace('Winter', 'cWinter').replace('Spring', 'dSpring')\n",
    "ind_featenc_df['Season'] = LabelEncoder().fit_transform(industry_df['Season']).astype(np.int8)\n",
    "\n",
    "industry_df['Weekday'] = industry_df['Weekday'].replace('Monday', 'aMonday').replace('Tuesday', 'bTuesday').replace('Wednesday', 'cWednesday').replace('Thursday', 'dThursday').replace('Friday', 'eFriday').replace('Saturday', 'fSaturday').replace('Sunday', 'gSunday')\n",
    "ind_featenc_df['Weekday'] = LabelEncoder().fit_transform(industry_df['Weekday']).astype(np.int8)\n",
    "\n",
    "ind_featenc_df['Accident Level'] = LabelEncoder().fit_transform(industry_df['Accident Level']).astype(np.int8)\n",
    "ind_featenc_df['Potential Accident Level'] = LabelEncoder().fit_transform(industry_df['Potential Accident Level']).astype(np.int8)"
   ]
  },
  {
   "cell_type": "code",
   "execution_count": 36,
   "metadata": {},
   "outputs": [
    {
     "data": {
      "text/plain": [
       "array([[1., 0., 0., 0., 0.],\n",
       "       [1., 0., 0., 0., 0.],\n",
       "       [1., 0., 0., 0., 0.],\n",
       "       ...,\n",
       "       [1., 0., 0., 0., 0.],\n",
       "       [1., 0., 0., 0., 0.],\n",
       "       [1., 0., 0., 0., 0.]], dtype=float32)"
      ]
     },
     "execution_count": 36,
     "metadata": {},
     "output_type": "execute_result"
    }
   ],
   "source": [
    "from keras.utils import np_utils\n",
    "\n",
    "# convert integers to dummy variables (i.e. one hot encoded)\n",
    "dummy_y = np_utils.to_categorical(ind_featenc_df['Accident Level'])\n",
    "dummy_y\n"
   ]
  },
  {
   "cell_type": "code",
   "execution_count": 37,
   "metadata": {},
   "outputs": [
    {
     "data": {
      "text/html": [
       "<div>\n",
       "<style scoped>\n",
       "    .dataframe tbody tr th:only-of-type {\n",
       "        vertical-align: middle;\n",
       "    }\n",
       "\n",
       "    .dataframe tbody tr th {\n",
       "        vertical-align: top;\n",
       "    }\n",
       "\n",
       "    .dataframe thead th {\n",
       "        text-align: right;\n",
       "    }\n",
       "</style>\n",
       "<table border=\"1\" class=\"dataframe\">\n",
       "  <thead>\n",
       "    <tr style=\"text-align: right;\">\n",
       "      <th></th>\n",
       "      <th>Year</th>\n",
       "      <th>Month</th>\n",
       "      <th>Day</th>\n",
       "      <th>WeekofYear</th>\n",
       "      <th>Season</th>\n",
       "      <th>Weekday</th>\n",
       "      <th>Accident Level</th>\n",
       "      <th>Potential Accident Level</th>\n",
       "      <th>Country_02</th>\n",
       "      <th>Country_03</th>\n",
       "      <th>...</th>\n",
       "      <th>CR_Projection</th>\n",
       "      <th>CR_Projection/Burning</th>\n",
       "      <th>CR_Projection/Choco</th>\n",
       "      <th>CR_Projection/Manual_Tools</th>\n",
       "      <th>CR_Projection_of_fragments</th>\n",
       "      <th>CR_Suspended_Loads</th>\n",
       "      <th>CR_Traffic</th>\n",
       "      <th>CR_Vehicles_and_Mobile_Equipment</th>\n",
       "      <th>CR_Venomous_Animals</th>\n",
       "      <th>CR_remains_of_choco</th>\n",
       "    </tr>\n",
       "  </thead>\n",
       "  <tbody>\n",
       "    <tr>\n",
       "      <th>0</th>\n",
       "      <td>2016</td>\n",
       "      <td>1</td>\n",
       "      <td>1</td>\n",
       "      <td>53</td>\n",
       "      <td>0</td>\n",
       "      <td>4</td>\n",
       "      <td>0</td>\n",
       "      <td>3</td>\n",
       "      <td>0</td>\n",
       "      <td>0</td>\n",
       "      <td>...</td>\n",
       "      <td>0</td>\n",
       "      <td>0</td>\n",
       "      <td>0</td>\n",
       "      <td>0</td>\n",
       "      <td>0</td>\n",
       "      <td>0</td>\n",
       "      <td>0</td>\n",
       "      <td>0</td>\n",
       "      <td>0</td>\n",
       "      <td>0</td>\n",
       "    </tr>\n",
       "    <tr>\n",
       "      <th>1</th>\n",
       "      <td>2016</td>\n",
       "      <td>1</td>\n",
       "      <td>2</td>\n",
       "      <td>53</td>\n",
       "      <td>0</td>\n",
       "      <td>5</td>\n",
       "      <td>0</td>\n",
       "      <td>3</td>\n",
       "      <td>1</td>\n",
       "      <td>0</td>\n",
       "      <td>...</td>\n",
       "      <td>0</td>\n",
       "      <td>0</td>\n",
       "      <td>0</td>\n",
       "      <td>0</td>\n",
       "      <td>0</td>\n",
       "      <td>0</td>\n",
       "      <td>0</td>\n",
       "      <td>0</td>\n",
       "      <td>0</td>\n",
       "      <td>0</td>\n",
       "    </tr>\n",
       "    <tr>\n",
       "      <th>2</th>\n",
       "      <td>2016</td>\n",
       "      <td>1</td>\n",
       "      <td>6</td>\n",
       "      <td>1</td>\n",
       "      <td>0</td>\n",
       "      <td>2</td>\n",
       "      <td>0</td>\n",
       "      <td>2</td>\n",
       "      <td>0</td>\n",
       "      <td>0</td>\n",
       "      <td>...</td>\n",
       "      <td>0</td>\n",
       "      <td>0</td>\n",
       "      <td>0</td>\n",
       "      <td>0</td>\n",
       "      <td>0</td>\n",
       "      <td>0</td>\n",
       "      <td>0</td>\n",
       "      <td>0</td>\n",
       "      <td>0</td>\n",
       "      <td>0</td>\n",
       "    </tr>\n",
       "  </tbody>\n",
       "</table>\n",
       "<p>3 rows × 58 columns</p>\n",
       "</div>"
      ],
      "text/plain": [
       "   Year  Month  Day  WeekofYear  Season  Weekday  Accident Level  \\\n",
       "0  2016      1    1          53       0        4               0   \n",
       "1  2016      1    2          53       0        5               0   \n",
       "2  2016      1    6           1       0        2               0   \n",
       "\n",
       "   Potential Accident Level  Country_02  Country_03  ...  CR_Projection  \\\n",
       "0                         3           0           0  ...              0   \n",
       "1                         3           1           0  ...              0   \n",
       "2                         2           0           0  ...              0   \n",
       "\n",
       "   CR_Projection/Burning  CR_Projection/Choco  CR_Projection/Manual_Tools  \\\n",
       "0                      0                    0                           0   \n",
       "1                      0                    0                           0   \n",
       "2                      0                    0                           0   \n",
       "\n",
       "   CR_Projection_of_fragments  CR_Suspended_Loads  CR_Traffic  \\\n",
       "0                           0                   0           0   \n",
       "1                           0                   0           0   \n",
       "2                           0                   0           0   \n",
       "\n",
       "   CR_Vehicles_and_Mobile_Equipment  CR_Venomous_Animals  CR_remains_of_choco  \n",
       "0                                 0                    0                    0  \n",
       "1                                 0                    0                    0  \n",
       "2                                 0                    0                    0  \n",
       "\n",
       "[3 rows x 58 columns]"
      ]
     },
     "execution_count": 37,
     "metadata": {},
     "output_type": "execute_result"
    }
   ],
   "source": [
    "# Dummy variables encoding\n",
    "Country_dummies = pd.get_dummies(industry_df['Country'], columns=[\"Country\"], drop_first=True)\n",
    "Local_dummies = pd.get_dummies(industry_df['Local'], columns=[\"Local\"], drop_first=True)\n",
    "Gender_dummies = pd.get_dummies(industry_df['Gender'], columns=[\"Gender\"], drop_first=True)\n",
    "IS_dummies = pd.get_dummies(industry_df['Industry Sector'], columns=['Industry Sector'], prefix='IS', drop_first=True)\n",
    "EmpType_dummies = pd.get_dummies(industry_df['Employee type'], columns=['Employee type'], prefix='EmpType', drop_first=True)\n",
    "CR_dummies = pd.get_dummies(industry_df['Critical Risk'], columns=['Critical Risk'], prefix='CR', drop_first=True)\n",
    "\n",
    "# Merge the above dataframe with the original dataframe ind_feat_df\n",
    "ind_featenc_df = ind_featenc_df.join(Country_dummies.reset_index(drop=True)).join(Local_dummies.reset_index(drop=True)).join(Gender_dummies.reset_index(drop=True)).join(IS_dummies.reset_index(drop=True)).join(EmpType_dummies.reset_index(drop=True)).join(CR_dummies.reset_index(drop=True))\n",
    "\n",
    "ind_featenc_df = industry_df[['Year','Month','Day','WeekofYear']].reset_index(drop=True).join(ind_featenc_df.reset_index(drop=True))\n",
    "\n",
    "ind_featenc_df.head(3)"
   ]
  },
  {
   "cell_type": "code",
   "execution_count": 38,
   "metadata": {},
   "outputs": [
    {
     "data": {
      "text/plain": [
       "False"
      ]
     },
     "execution_count": 38,
     "metadata": {},
     "output_type": "execute_result"
    }
   ],
   "source": [
    "# Check NaN values\n",
    "np.any(np.isnan(ind_featenc_df))"
   ]
  },
  {
   "cell_type": "code",
   "execution_count": 39,
   "metadata": {},
   "outputs": [],
   "source": [
    "# Consider only top 30 GLOVE features\n",
    "ind_feat_df = ind_featenc_df.join(pd.DataFrame(ind_glove_df).iloc[:,0:30].reset_index(drop=True))"
   ]
  },
  {
   "cell_type": "code",
   "execution_count": 40,
   "metadata": {},
   "outputs": [
    {
     "data": {
      "text/html": [
       "<div>\n",
       "<style scoped>\n",
       "    .dataframe tbody tr th:only-of-type {\n",
       "        vertical-align: middle;\n",
       "    }\n",
       "\n",
       "    .dataframe tbody tr th {\n",
       "        vertical-align: top;\n",
       "    }\n",
       "\n",
       "    .dataframe thead th {\n",
       "        text-align: right;\n",
       "    }\n",
       "</style>\n",
       "<table border=\"1\" class=\"dataframe\">\n",
       "  <thead>\n",
       "    <tr style=\"text-align: right;\">\n",
       "      <th></th>\n",
       "      <th>Year</th>\n",
       "      <th>Month</th>\n",
       "      <th>Day</th>\n",
       "      <th>WeekofYear</th>\n",
       "      <th>Season</th>\n",
       "      <th>Weekday</th>\n",
       "      <th>Accident Level</th>\n",
       "      <th>Potential Accident Level</th>\n",
       "      <th>Country_02</th>\n",
       "      <th>Country_03</th>\n",
       "      <th>...</th>\n",
       "      <th>20</th>\n",
       "      <th>21</th>\n",
       "      <th>22</th>\n",
       "      <th>23</th>\n",
       "      <th>24</th>\n",
       "      <th>25</th>\n",
       "      <th>26</th>\n",
       "      <th>27</th>\n",
       "      <th>28</th>\n",
       "      <th>29</th>\n",
       "    </tr>\n",
       "  </thead>\n",
       "  <tbody>\n",
       "    <tr>\n",
       "      <th>0</th>\n",
       "      <td>2016</td>\n",
       "      <td>1</td>\n",
       "      <td>1</td>\n",
       "      <td>53</td>\n",
       "      <td>0</td>\n",
       "      <td>4</td>\n",
       "      <td>0</td>\n",
       "      <td>3</td>\n",
       "      <td>0</td>\n",
       "      <td>0</td>\n",
       "      <td>...</td>\n",
       "      <td>0.042263</td>\n",
       "      <td>0.663789</td>\n",
       "      <td>0.033991</td>\n",
       "      <td>-0.002714</td>\n",
       "      <td>0.025986</td>\n",
       "      <td>0.022877</td>\n",
       "      <td>-0.040514</td>\n",
       "      <td>0.022748</td>\n",
       "      <td>-0.003294</td>\n",
       "      <td>0.000704</td>\n",
       "    </tr>\n",
       "    <tr>\n",
       "      <th>1</th>\n",
       "      <td>2016</td>\n",
       "      <td>1</td>\n",
       "      <td>2</td>\n",
       "      <td>53</td>\n",
       "      <td>0</td>\n",
       "      <td>5</td>\n",
       "      <td>0</td>\n",
       "      <td>3</td>\n",
       "      <td>1</td>\n",
       "      <td>0</td>\n",
       "      <td>...</td>\n",
       "      <td>0.013255</td>\n",
       "      <td>0.663710</td>\n",
       "      <td>-0.021372</td>\n",
       "      <td>-0.031337</td>\n",
       "      <td>0.048378</td>\n",
       "      <td>-0.035714</td>\n",
       "      <td>-0.061907</td>\n",
       "      <td>0.009785</td>\n",
       "      <td>0.010836</td>\n",
       "      <td>0.046505</td>\n",
       "    </tr>\n",
       "    <tr>\n",
       "      <th>2</th>\n",
       "      <td>2016</td>\n",
       "      <td>1</td>\n",
       "      <td>6</td>\n",
       "      <td>1</td>\n",
       "      <td>0</td>\n",
       "      <td>2</td>\n",
       "      <td>0</td>\n",
       "      <td>2</td>\n",
       "      <td>0</td>\n",
       "      <td>0</td>\n",
       "      <td>...</td>\n",
       "      <td>0.052326</td>\n",
       "      <td>0.648238</td>\n",
       "      <td>0.046345</td>\n",
       "      <td>-0.020786</td>\n",
       "      <td>0.036717</td>\n",
       "      <td>0.005619</td>\n",
       "      <td>-0.042718</td>\n",
       "      <td>0.017302</td>\n",
       "      <td>-0.030272</td>\n",
       "      <td>-0.018189</td>\n",
       "    </tr>\n",
       "  </tbody>\n",
       "</table>\n",
       "<p>3 rows × 88 columns</p>\n",
       "</div>"
      ],
      "text/plain": [
       "   Year  Month  Day  WeekofYear  Season  Weekday  Accident Level  \\\n",
       "0  2016      1    1          53       0        4               0   \n",
       "1  2016      1    2          53       0        5               0   \n",
       "2  2016      1    6           1       0        2               0   \n",
       "\n",
       "   Potential Accident Level  Country_02  Country_03  ...        20        21  \\\n",
       "0                         3           0           0  ...  0.042263  0.663789   \n",
       "1                         3           1           0  ...  0.013255  0.663710   \n",
       "2                         2           0           0  ...  0.052326  0.648238   \n",
       "\n",
       "         22        23        24        25        26        27        28  \\\n",
       "0  0.033991 -0.002714  0.025986  0.022877 -0.040514  0.022748 -0.003294   \n",
       "1 -0.021372 -0.031337  0.048378 -0.035714 -0.061907  0.009785  0.010836   \n",
       "2  0.046345 -0.020786  0.036717  0.005619 -0.042718  0.017302 -0.030272   \n",
       "\n",
       "         29  \n",
       "0  0.000704  \n",
       "1  0.046505  \n",
       "2 -0.018189  \n",
       "\n",
       "[3 rows x 88 columns]"
      ]
     },
     "execution_count": 40,
     "metadata": {},
     "output_type": "execute_result"
    }
   ],
   "source": [
    "ind_feat_df.head(3)"
   ]
  },
  {
   "cell_type": "code",
   "execution_count": 41,
   "metadata": {},
   "outputs": [],
   "source": [
    "# Consider only top 30 GLOVE features\n",
    "ind_feat_df = ind_featenc_df.join(ind_tfidf_df.reset_index(drop=True))"
   ]
  },
  {
   "cell_type": "code",
   "execution_count": 42,
   "metadata": {},
   "outputs": [
    {
     "data": {
      "text/html": [
       "<div>\n",
       "<style scoped>\n",
       "    .dataframe tbody tr th:only-of-type {\n",
       "        vertical-align: middle;\n",
       "    }\n",
       "\n",
       "    .dataframe tbody tr th {\n",
       "        vertical-align: top;\n",
       "    }\n",
       "\n",
       "    .dataframe thead th {\n",
       "        text-align: right;\n",
       "    }\n",
       "</style>\n",
       "<table border=\"1\" class=\"dataframe\">\n",
       "  <thead>\n",
       "    <tr style=\"text-align: right;\">\n",
       "      <th></th>\n",
       "      <th>Year</th>\n",
       "      <th>Month</th>\n",
       "      <th>Day</th>\n",
       "      <th>WeekofYear</th>\n",
       "      <th>Season</th>\n",
       "      <th>Weekday</th>\n",
       "      <th>Accident Level</th>\n",
       "      <th>Potential Accident Level</th>\n",
       "      <th>Country_02</th>\n",
       "      <th>Country_03</th>\n",
       "      <th>...</th>\n",
       "      <th>TFIDF_causing injury described</th>\n",
       "      <th>TFIDF_described time accident</th>\n",
       "      <th>TFIDF_finger left hand</th>\n",
       "      <th>TFIDF_finger right hand</th>\n",
       "      <th>TFIDF_generating described injury</th>\n",
       "      <th>TFIDF_hand causing injury</th>\n",
       "      <th>TFIDF_injury time accident</th>\n",
       "      <th>TFIDF_left hand causing</th>\n",
       "      <th>TFIDF_right hand causing</th>\n",
       "      <th>TFIDF_time accident employee</th>\n",
       "    </tr>\n",
       "  </thead>\n",
       "  <tbody>\n",
       "    <tr>\n",
       "      <th>0</th>\n",
       "      <td>2016</td>\n",
       "      <td>1</td>\n",
       "      <td>1</td>\n",
       "      <td>53</td>\n",
       "      <td>0</td>\n",
       "      <td>4</td>\n",
       "      <td>0</td>\n",
       "      <td>3</td>\n",
       "      <td>0</td>\n",
       "      <td>0</td>\n",
       "      <td>...</td>\n",
       "      <td>0.0</td>\n",
       "      <td>0.0</td>\n",
       "      <td>0.0</td>\n",
       "      <td>0.0</td>\n",
       "      <td>0.0</td>\n",
       "      <td>0.0</td>\n",
       "      <td>0.0</td>\n",
       "      <td>0.0</td>\n",
       "      <td>0.0</td>\n",
       "      <td>0.0</td>\n",
       "    </tr>\n",
       "    <tr>\n",
       "      <th>1</th>\n",
       "      <td>2016</td>\n",
       "      <td>1</td>\n",
       "      <td>2</td>\n",
       "      <td>53</td>\n",
       "      <td>0</td>\n",
       "      <td>5</td>\n",
       "      <td>0</td>\n",
       "      <td>3</td>\n",
       "      <td>1</td>\n",
       "      <td>0</td>\n",
       "      <td>...</td>\n",
       "      <td>0.0</td>\n",
       "      <td>0.0</td>\n",
       "      <td>0.0</td>\n",
       "      <td>0.0</td>\n",
       "      <td>0.0</td>\n",
       "      <td>0.0</td>\n",
       "      <td>0.0</td>\n",
       "      <td>0.0</td>\n",
       "      <td>0.0</td>\n",
       "      <td>0.0</td>\n",
       "    </tr>\n",
       "    <tr>\n",
       "      <th>2</th>\n",
       "      <td>2016</td>\n",
       "      <td>1</td>\n",
       "      <td>6</td>\n",
       "      <td>1</td>\n",
       "      <td>0</td>\n",
       "      <td>2</td>\n",
       "      <td>0</td>\n",
       "      <td>2</td>\n",
       "      <td>0</td>\n",
       "      <td>0</td>\n",
       "      <td>...</td>\n",
       "      <td>0.0</td>\n",
       "      <td>0.0</td>\n",
       "      <td>0.0</td>\n",
       "      <td>0.0</td>\n",
       "      <td>0.0</td>\n",
       "      <td>0.0</td>\n",
       "      <td>0.0</td>\n",
       "      <td>0.0</td>\n",
       "      <td>0.0</td>\n",
       "      <td>0.0</td>\n",
       "    </tr>\n",
       "  </tbody>\n",
       "</table>\n",
       "<p>3 rows × 88 columns</p>\n",
       "</div>"
      ],
      "text/plain": [
       "   Year  Month  Day  WeekofYear  Season  Weekday  Accident Level  \\\n",
       "0  2016      1    1          53       0        4               0   \n",
       "1  2016      1    2          53       0        5               0   \n",
       "2  2016      1    6           1       0        2               0   \n",
       "\n",
       "   Potential Accident Level  Country_02  Country_03  ...  \\\n",
       "0                         3           0           0  ...   \n",
       "1                         3           1           0  ...   \n",
       "2                         2           0           0  ...   \n",
       "\n",
       "   TFIDF_causing injury described  TFIDF_described time accident  \\\n",
       "0                             0.0                            0.0   \n",
       "1                             0.0                            0.0   \n",
       "2                             0.0                            0.0   \n",
       "\n",
       "   TFIDF_finger left hand  TFIDF_finger right hand  \\\n",
       "0                     0.0                      0.0   \n",
       "1                     0.0                      0.0   \n",
       "2                     0.0                      0.0   \n",
       "\n",
       "   TFIDF_generating described injury  TFIDF_hand causing injury  \\\n",
       "0                                0.0                        0.0   \n",
       "1                                0.0                        0.0   \n",
       "2                                0.0                        0.0   \n",
       "\n",
       "   TFIDF_injury time accident  TFIDF_left hand causing  \\\n",
       "0                         0.0                      0.0   \n",
       "1                         0.0                      0.0   \n",
       "2                         0.0                      0.0   \n",
       "\n",
       "   TFIDF_right hand causing  TFIDF_time accident employee  \n",
       "0                       0.0                           0.0  \n",
       "1                       0.0                           0.0  \n",
       "2                       0.0                           0.0  \n",
       "\n",
       "[3 rows x 88 columns]"
      ]
     },
     "execution_count": 42,
     "metadata": {},
     "output_type": "execute_result"
    }
   ],
   "source": [
    "ind_feat_df.head(3)"
   ]
  },
  {
   "cell_type": "markdown",
   "metadata": {},
   "source": [
    "#### Sampling Techniques - Create Training and Test Set"
   ]
  },
  {
   "cell_type": "code",
   "execution_count": 43,
   "metadata": {},
   "outputs": [],
   "source": [
    "X = ind_feat_df.drop(['Accident Level','Potential Accident Level'], axis = 1) # Considering all Predictors\n",
    "y = ind_feat_df['Accident Level']"
   ]
  },
  {
   "cell_type": "code",
   "execution_count": 44,
   "metadata": {},
   "outputs": [],
   "source": [
    "from sklearn.model_selection import train_test_split\n",
    "\n",
    "X_train, X_test, y_train, y_test = train_test_split(X, y, test_size = 0.20, random_state = 1, stratify = y)"
   ]
  },
  {
   "cell_type": "code",
   "execution_count": 45,
   "metadata": {},
   "outputs": [],
   "source": [
    "X_train, X_test, y_train_dummy, y_test_dummy = train_test_split(X, dummy_y, test_size = 0.20, random_state = 1, stratify = y)"
   ]
  },
  {
   "cell_type": "code",
   "execution_count": 46,
   "metadata": {},
   "outputs": [
    {
     "name": "stdout",
     "output_type": "stream",
     "text": [
      "X_train shape : (334,86)\n",
      "y_train shape : (334,)\n",
      "X_test shape : (84,86)\n",
      "y_test shape : (84,)\n"
     ]
    }
   ],
   "source": [
    "print('X_train shape : ({0},{1})'.format(X_train.shape[0], X_train.shape[1]))\n",
    "print('y_train shape : ({0},)'.format(y_train.shape[0]))\n",
    "print('X_test shape : ({0},{1})'.format(X_test.shape[0], X_test.shape[1]))\n",
    "print('y_test shape : ({0},)'.format(y_test.shape[0]))"
   ]
  },
  {
   "cell_type": "code",
   "execution_count": 47,
   "metadata": {},
   "outputs": [
    {
     "data": {
      "text/plain": [
       "0    309\n",
       "1     40\n",
       "2     31\n",
       "3     30\n",
       "4      8\n",
       "Name: Accident Level, dtype: int64"
      ]
     },
     "execution_count": 47,
     "metadata": {},
     "output_type": "execute_result"
    }
   ],
   "source": [
    "# Display old accident level counts\n",
    "ind_feat_df['Accident Level'].value_counts()"
   ]
  },
  {
   "cell_type": "code",
   "execution_count": 48,
   "metadata": {},
   "outputs": [],
   "source": [
    "from sklearn.utils import resample\n",
    "from imblearn.over_sampling import SMOTE"
   ]
  },
  {
   "cell_type": "code",
   "execution_count": 49,
   "metadata": {},
   "outputs": [],
   "source": [
    "# Concatenate our training data back together\n",
    "X_up = pd.concat([X_train, y_train], axis=1)\n",
    "\n",
    "# Get the majority and minority class\n",
    "acclevel_0_majority = X_up[X_up['Accident Level'] == 0]\n",
    "acclevel_1_minority = X_up[X_up['Accident Level'] == 1]\n",
    "acclevel_2_minority = X_up[X_up['Accident Level'] == 2]\n",
    "acclevel_3_minority = X_up[X_up['Accident Level'] == 3]\n",
    "acclevel_4_minority = X_up[X_up['Accident Level'] == 4]\n",
    "\n",
    "# Upsample Level1 minority class\n",
    "acclevel_1_minority_upsampled = resample(acclevel_1_minority,\n",
    "                                replace = True, # sample with replacement\n",
    "                                n_samples = len(acclevel_0_majority), # to match majority class\n",
    "                                random_state = 1)\n",
    "\n",
    "# Upsample Level2 minority class\n",
    "acclevel_2_minority_upsampled = resample(acclevel_2_minority,\n",
    "                                replace = True, # sample with replacement\n",
    "                                n_samples = len(acclevel_0_majority), # to match majority class\n",
    "                                random_state = 1)\n",
    "\n",
    "# Upsample Level3 minority class\n",
    "acclevel_3_minority_upsampled = resample(acclevel_3_minority,\n",
    "                                replace = True, # sample with replacement\n",
    "                                n_samples = len(acclevel_0_majority), # to match majority class\n",
    "                                random_state = 1)\n",
    "\n",
    "# Upsample Level4 minority class\n",
    "acclevel_4_minority_upsampled = resample(acclevel_4_minority,\n",
    "                                replace = True, # sample with replacement\n",
    "                                n_samples = len(acclevel_0_majority), # to match majority class\n",
    "                                random_state = 1)\n"
   ]
  },
  {
   "cell_type": "code",
   "execution_count": 50,
   "metadata": {},
   "outputs": [],
   "source": [
    "# Combine majority class with upsampled minority classes\n",
    "df_upsampled = pd.concat([acclevel_0_majority, acclevel_1_minority_upsampled, acclevel_2_minority_upsampled, acclevel_3_minority_upsampled, \n",
    "                          acclevel_4_minority_upsampled])"
   ]
  },
  {
   "cell_type": "code",
   "execution_count": 51,
   "metadata": {},
   "outputs": [
    {
     "data": {
      "text/plain": [
       "4    247\n",
       "3    247\n",
       "2    247\n",
       "1    247\n",
       "0    247\n",
       "Name: Accident Level, dtype: int64"
      ]
     },
     "execution_count": 51,
     "metadata": {},
     "output_type": "execute_result"
    }
   ],
   "source": [
    "# Display new accident level counts\n",
    "df_upsampled['Accident Level'].value_counts()"
   ]
  },
  {
   "cell_type": "code",
   "execution_count": 52,
   "metadata": {},
   "outputs": [],
   "source": [
    "# Separate input features and target\n",
    "X_train_up = df_upsampled.drop(['Accident Level'], axis = 1) # Considering all Predictors\n",
    "y_train_up = df_upsampled['Accident Level']"
   ]
  },
  {
   "cell_type": "code",
   "execution_count": 53,
   "metadata": {},
   "outputs": [],
   "source": [
    "sm = SMOTE(random_state=1)\n",
    "X_train_smote, y_train_smote = sm.fit_resample(X_train, y_train)\n",
    "df_smote = pd.concat([pd.DataFrame(X_train_smote), pd.DataFrame(y_train_smote)], axis=1)\n",
    "df_smote.columns = ['Year', 'Month', 'Day',\n",
    "        'WeekofYear', 'Season', 'Weekday',\n",
    "       'Country_02', 'Country_03', 'Local_02', 'Local_03', 'Local_04',\n",
    "       'Local_05', 'Local_06', 'Local_07', 'Local_08', 'Local_09', 'Local_10',\n",
    "       'Local_11', 'Local_12', 'Male', 'IS_Mining', 'IS_Others',\n",
    "       'EmpType_Third_Party', 'EmpType_Third_Party_(Remote)',\n",
    "       'CR_Blocking_and_isolation_of_energies', 'CR_Burn',\n",
    "       'CR_Chemical_substances', 'CR_Confined_space', 'CR_Cut',\n",
    "       'CR_Electrical_Shock', 'CR_Electrical_installation', 'CR_Fall',\n",
    "       'CR_Fall_prevention', 'CR_Fall_prevention_(same_level)',\n",
    "       'CR_Individual_protection_equipment', 'CR_Liquid_Metal',\n",
    "       'CR_Machine_Protection', 'CR_Manual_Tools', 'CR_Not_applicable',\n",
    "       'CR_Others', 'CR_Plates', 'CR_Poll', 'CR_Power_lock', 'CR_Pressed',\n",
    "       'CR_Pressurized_Systems',\n",
    "       'CR_Pressurized_Systems_/_Chemical_Substances', 'CR_Projection',\n",
    "       'CR_Projection/Burning', 'CR_Projection/Choco',\n",
    "       'CR_Projection/Manual_Tools', 'CR_Projection_of_fragments',\n",
    "       'CR_Suspended_Loads', 'CR_Traffic', 'CR_Vehicles_and_Mobile_Equipment',\n",
    "       'CR_Venomous_Animals', 'CR_remains_of_choco', 'TFIDF_activity', 'TFIDF_area',\n",
    "       'TFIDF_causing', 'TFIDF_employee', 'TFIDF_hand', 'TFIDF_injury',\n",
    "       'TFIDF_left', 'TFIDF_operator', 'TFIDF_right', 'TFIDF_time',\n",
    "       'TFIDF_causing injury', 'TFIDF_described injury',\n",
    "       'TFIDF_employee reports', 'TFIDF_finger left', 'TFIDF_injury described',\n",
    "       'TFIDF_left foot', 'TFIDF_left hand', 'TFIDF_medical center',\n",
    "       'TFIDF_right hand', 'TFIDF_time accident',\n",
    "       'TFIDF_causing injury described', 'TFIDF_described time accident',\n",
    "       'TFIDF_finger left hand', 'TFIDF_finger right hand',\n",
    "       'TFIDF_generating described injury', 'TFIDF_hand causing injury',\n",
    "       'TFIDF_injury time accident', 'TFIDF_left hand causing',\n",
    "       'TFIDF_right hand causing', 'TFIDF_time accident employee', 'Accident Level']"
   ]
  },
  {
   "cell_type": "code",
   "execution_count": 54,
   "metadata": {},
   "outputs": [],
   "source": [
    "# Separate input features and target\n",
    "X_train_smote = df_smote.iloc[:,:-1] # Considering all Predictors\n",
    "y_train_smote = df_smote.iloc[:,-1:]"
   ]
  },
  {
   "cell_type": "code",
   "execution_count": 55,
   "metadata": {},
   "outputs": [
    {
     "data": {
      "text/html": [
       "<div>\n",
       "<style scoped>\n",
       "    .dataframe tbody tr th:only-of-type {\n",
       "        vertical-align: middle;\n",
       "    }\n",
       "\n",
       "    .dataframe tbody tr th {\n",
       "        vertical-align: top;\n",
       "    }\n",
       "\n",
       "    .dataframe thead th {\n",
       "        text-align: right;\n",
       "    }\n",
       "</style>\n",
       "<table border=\"1\" class=\"dataframe\">\n",
       "  <thead>\n",
       "    <tr style=\"text-align: right;\">\n",
       "      <th></th>\n",
       "      <th>Year</th>\n",
       "      <th>Month</th>\n",
       "      <th>Day</th>\n",
       "      <th>WeekofYear</th>\n",
       "      <th>Season</th>\n",
       "      <th>Weekday</th>\n",
       "      <th>Country_02</th>\n",
       "      <th>Country_03</th>\n",
       "      <th>Local_02</th>\n",
       "      <th>Local_03</th>\n",
       "      <th>...</th>\n",
       "      <th>TFIDF_causing injury described</th>\n",
       "      <th>TFIDF_described time accident</th>\n",
       "      <th>TFIDF_finger left hand</th>\n",
       "      <th>TFIDF_finger right hand</th>\n",
       "      <th>TFIDF_generating described injury</th>\n",
       "      <th>TFIDF_hand causing injury</th>\n",
       "      <th>TFIDF_injury time accident</th>\n",
       "      <th>TFIDF_left hand causing</th>\n",
       "      <th>TFIDF_right hand causing</th>\n",
       "      <th>TFIDF_time accident employee</th>\n",
       "    </tr>\n",
       "  </thead>\n",
       "  <tbody>\n",
       "    <tr>\n",
       "      <th>0</th>\n",
       "      <td>2016</td>\n",
       "      <td>9</td>\n",
       "      <td>1</td>\n",
       "      <td>35</td>\n",
       "      <td>3</td>\n",
       "      <td>3</td>\n",
       "      <td>1</td>\n",
       "      <td>0</td>\n",
       "      <td>0</td>\n",
       "      <td>0</td>\n",
       "      <td>...</td>\n",
       "      <td>0.0</td>\n",
       "      <td>0.0</td>\n",
       "      <td>0.0</td>\n",
       "      <td>0.0</td>\n",
       "      <td>0.0</td>\n",
       "      <td>0.0</td>\n",
       "      <td>0.0</td>\n",
       "      <td>0.0</td>\n",
       "      <td>0.0</td>\n",
       "      <td>0.0</td>\n",
       "    </tr>\n",
       "  </tbody>\n",
       "</table>\n",
       "<p>1 rows × 86 columns</p>\n",
       "</div>"
      ],
      "text/plain": [
       "   Year  Month  Day  WeekofYear  Season  Weekday  Country_02  Country_03  \\\n",
       "0  2016      9    1          35       3        3           1           0   \n",
       "\n",
       "   Local_02  Local_03  ...  TFIDF_causing injury described  \\\n",
       "0         0         0  ...                             0.0   \n",
       "\n",
       "   TFIDF_described time accident  TFIDF_finger left hand  \\\n",
       "0                            0.0                     0.0   \n",
       "\n",
       "   TFIDF_finger right hand  TFIDF_generating described injury  \\\n",
       "0                      0.0                                0.0   \n",
       "\n",
       "   TFIDF_hand causing injury  TFIDF_injury time accident  \\\n",
       "0                        0.0                         0.0   \n",
       "\n",
       "   TFIDF_left hand causing  TFIDF_right hand causing  \\\n",
       "0                      0.0                       0.0   \n",
       "\n",
       "   TFIDF_time accident employee  \n",
       "0                           0.0  \n",
       "\n",
       "[1 rows x 86 columns]"
      ]
     },
     "execution_count": 55,
     "metadata": {},
     "output_type": "execute_result"
    }
   ],
   "source": [
    "X_train_smote.head(1)"
   ]
  },
  {
   "cell_type": "code",
   "execution_count": 56,
   "metadata": {},
   "outputs": [
    {
     "data": {
      "text/plain": [
       "4    247\n",
       "3    247\n",
       "2    247\n",
       "1    247\n",
       "0    247\n",
       "Name: Accident Level, dtype: int64"
      ]
     },
     "execution_count": 56,
     "metadata": {},
     "output_type": "execute_result"
    }
   ],
   "source": [
    "# Display new accident level counts\n",
    "y_train_smote['Accident Level'].value_counts()"
   ]
  },
  {
   "cell_type": "code",
   "execution_count": 57,
   "metadata": {},
   "outputs": [
    {
     "data": {
      "text/plain": [
       "array([[0., 1., 0., 0., 0.],\n",
       "       [0., 1., 0., 0., 0.],\n",
       "       [1., 0., 0., 0., 0.],\n",
       "       ...,\n",
       "       [0., 0., 0., 0., 1.],\n",
       "       [0., 0., 0., 0., 1.],\n",
       "       [0., 0., 0., 0., 1.]], dtype=float32)"
      ]
     },
     "execution_count": 57,
     "metadata": {},
     "output_type": "execute_result"
    }
   ],
   "source": [
    "# convert integers to dummy variables (i.e. one hot encoded)\n",
    "y_train_smote_dummy = np_utils.to_categorical(y_train_smote['Accident Level'])\n",
    "y_train_smote_dummy"
   ]
  },
  {
   "cell_type": "code",
   "execution_count": 58,
   "metadata": {},
   "outputs": [
    {
     "name": "stderr",
     "output_type": "stream",
     "text": [
      "C:\\Users\\7uxs48\\Anaconda3\\lib\\site-packages\\pandas\\core\\indexing.py:1736: SettingWithCopyWarning: \n",
      "A value is trying to be set on a copy of a slice from a DataFrame.\n",
      "Try using .loc[row_indexer,col_indexer] = value instead\n",
      "\n",
      "See the caveats in the documentation: https://pandas.pydata.org/pandas-docs/stable/user_guide/indexing.html#returning-a-view-versus-a-copy\n",
      "  isetter(loc, value[:, i].tolist())\n",
      "C:\\Users\\7uxs48\\Anaconda3\\lib\\site-packages\\pandas\\core\\indexing.py:1736: SettingWithCopyWarning: \n",
      "A value is trying to be set on a copy of a slice from a DataFrame.\n",
      "Try using .loc[row_indexer,col_indexer] = value instead\n",
      "\n",
      "See the caveats in the documentation: https://pandas.pydata.org/pandas-docs/stable/user_guide/indexing.html#returning-a-view-versus-a-copy\n",
      "  isetter(loc, value[:, i].tolist())\n"
     ]
    }
   ],
   "source": [
    "# Transform independent features\n",
    "from sklearn.preprocessing import StandardScaler\n",
    "from sklearn.pipeline import Pipeline\n",
    "\n",
    "scaler_X = StandardScaler()#StandardScaler()\n",
    "pipeline = Pipeline(steps=[('s', scaler_X)])\n",
    "X_train.iloc[:,:6] = pipeline.fit_transform(X_train.iloc[:,:6]) # Scaling only first 6 feautres\n",
    "\n",
    "X_test.iloc[:,:6] = pipeline.fit_transform(X_test.iloc[:,:6]) # Scaling only first 6 feautres"
   ]
  },
  {
   "cell_type": "code",
   "execution_count": 59,
   "metadata": {},
   "outputs": [
    {
     "data": {
      "text/html": [
       "<div>\n",
       "<style scoped>\n",
       "    .dataframe tbody tr th:only-of-type {\n",
       "        vertical-align: middle;\n",
       "    }\n",
       "\n",
       "    .dataframe tbody tr th {\n",
       "        vertical-align: top;\n",
       "    }\n",
       "\n",
       "    .dataframe thead th {\n",
       "        text-align: right;\n",
       "    }\n",
       "</style>\n",
       "<table border=\"1\" class=\"dataframe\">\n",
       "  <thead>\n",
       "    <tr style=\"text-align: right;\">\n",
       "      <th></th>\n",
       "      <th>Year</th>\n",
       "      <th>Month</th>\n",
       "      <th>Day</th>\n",
       "      <th>WeekofYear</th>\n",
       "      <th>Season</th>\n",
       "      <th>Weekday</th>\n",
       "      <th>Country_02</th>\n",
       "      <th>Country_03</th>\n",
       "      <th>Local_02</th>\n",
       "      <th>Local_03</th>\n",
       "      <th>...</th>\n",
       "      <th>TFIDF_causing injury described</th>\n",
       "      <th>TFIDF_described time accident</th>\n",
       "      <th>TFIDF_finger left hand</th>\n",
       "      <th>TFIDF_finger right hand</th>\n",
       "      <th>TFIDF_generating described injury</th>\n",
       "      <th>TFIDF_hand causing injury</th>\n",
       "      <th>TFIDF_injury time accident</th>\n",
       "      <th>TFIDF_left hand causing</th>\n",
       "      <th>TFIDF_right hand causing</th>\n",
       "      <th>TFIDF_time accident employee</th>\n",
       "    </tr>\n",
       "  </thead>\n",
       "  <tbody>\n",
       "    <tr>\n",
       "      <th>202</th>\n",
       "      <td>-0.700765</td>\n",
       "      <td>1.168926</td>\n",
       "      <td>-1.673853</td>\n",
       "      <td>0.996914</td>\n",
       "      <td>1.728348</td>\n",
       "      <td>0.075496</td>\n",
       "      <td>1</td>\n",
       "      <td>0</td>\n",
       "      <td>0</td>\n",
       "      <td>0</td>\n",
       "      <td>...</td>\n",
       "      <td>0.0</td>\n",
       "      <td>0.0</td>\n",
       "      <td>0.0</td>\n",
       "      <td>0.0</td>\n",
       "      <td>0.0</td>\n",
       "      <td>0.0</td>\n",
       "      <td>0.0</td>\n",
       "      <td>0.0</td>\n",
       "      <td>0.0</td>\n",
       "      <td>0.0</td>\n",
       "    </tr>\n",
       "    <tr>\n",
       "      <th>258</th>\n",
       "      <td>-0.700765</td>\n",
       "      <td>1.802213</td>\n",
       "      <td>1.559083</td>\n",
       "      <td>1.934247</td>\n",
       "      <td>1.728348</td>\n",
       "      <td>-0.997510</td>\n",
       "      <td>1</td>\n",
       "      <td>0</td>\n",
       "      <td>0</td>\n",
       "      <td>0</td>\n",
       "      <td>...</td>\n",
       "      <td>0.0</td>\n",
       "      <td>0.0</td>\n",
       "      <td>0.0</td>\n",
       "      <td>0.0</td>\n",
       "      <td>0.0</td>\n",
       "      <td>0.0</td>\n",
       "      <td>0.0</td>\n",
       "      <td>0.0</td>\n",
       "      <td>0.0</td>\n",
       "      <td>0.0</td>\n",
       "    </tr>\n",
       "    <tr>\n",
       "      <th>6</th>\n",
       "      <td>-0.700765</td>\n",
       "      <td>-1.364221</td>\n",
       "      <td>0.058077</td>\n",
       "      <td>-1.382469</td>\n",
       "      <td>-1.221916</td>\n",
       "      <td>1.148501</td>\n",
       "      <td>1</td>\n",
       "      <td>0</td>\n",
       "      <td>0</td>\n",
       "      <td>0</td>\n",
       "      <td>...</td>\n",
       "      <td>0.0</td>\n",
       "      <td>0.0</td>\n",
       "      <td>0.0</td>\n",
       "      <td>0.0</td>\n",
       "      <td>0.0</td>\n",
       "      <td>0.0</td>\n",
       "      <td>0.0</td>\n",
       "      <td>0.0</td>\n",
       "      <td>0.0</td>\n",
       "      <td>0.0</td>\n",
       "    </tr>\n",
       "  </tbody>\n",
       "</table>\n",
       "<p>3 rows × 86 columns</p>\n",
       "</div>"
      ],
      "text/plain": [
       "         Year     Month       Day  WeekofYear    Season   Weekday  Country_02  \\\n",
       "202 -0.700765  1.168926 -1.673853    0.996914  1.728348  0.075496           1   \n",
       "258 -0.700765  1.802213  1.559083    1.934247  1.728348 -0.997510           1   \n",
       "6   -0.700765 -1.364221  0.058077   -1.382469 -1.221916  1.148501           1   \n",
       "\n",
       "     Country_03  Local_02  Local_03  ...  TFIDF_causing injury described  \\\n",
       "202           0         0         0  ...                             0.0   \n",
       "258           0         0         0  ...                             0.0   \n",
       "6             0         0         0  ...                             0.0   \n",
       "\n",
       "     TFIDF_described time accident  TFIDF_finger left hand  \\\n",
       "202                            0.0                     0.0   \n",
       "258                            0.0                     0.0   \n",
       "6                              0.0                     0.0   \n",
       "\n",
       "     TFIDF_finger right hand  TFIDF_generating described injury  \\\n",
       "202                      0.0                                0.0   \n",
       "258                      0.0                                0.0   \n",
       "6                        0.0                                0.0   \n",
       "\n",
       "     TFIDF_hand causing injury  TFIDF_injury time accident  \\\n",
       "202                        0.0                         0.0   \n",
       "258                        0.0                         0.0   \n",
       "6                          0.0                         0.0   \n",
       "\n",
       "     TFIDF_left hand causing  TFIDF_right hand causing  \\\n",
       "202                      0.0                       0.0   \n",
       "258                      0.0                       0.0   \n",
       "6                        0.0                       0.0   \n",
       "\n",
       "     TFIDF_time accident employee  \n",
       "202                           0.0  \n",
       "258                           0.0  \n",
       "6                             0.0  \n",
       "\n",
       "[3 rows x 86 columns]"
      ]
     },
     "execution_count": 59,
     "metadata": {},
     "output_type": "execute_result"
    }
   ],
   "source": [
    "X_train.head(3)"
   ]
  },
  {
   "cell_type": "markdown",
   "metadata": {},
   "source": [
    "### Use PCA - Extract Principal Components that capture about 95% of the variance in the data"
   ]
  },
  {
   "cell_type": "code",
   "execution_count": 60,
   "metadata": {},
   "outputs": [
    {
     "name": "stdout",
     "output_type": "stream",
     "text": [
      "Covariance Matrix \n",
      "%s [[ 1.00300300e+00 -4.24727770e-01  2.53271550e-02 ... -2.06945085e-03\n",
      "  -4.89406968e-03 -5.68968778e-03]\n",
      " [-4.24727770e-01  1.00300300e+00  2.68776694e-02 ...  7.08759577e-03\n",
      "   4.65172198e-03  5.42953855e-03]\n",
      " [ 2.53271550e-02  2.68776694e-02  1.00300300e+00 ... -1.28805019e-03\n",
      "  -5.08213127e-03 -3.28488592e-03]\n",
      " ...\n",
      " [-2.06945085e-03  7.08759577e-03 -1.28805019e-03 ...  6.86698871e-03\n",
      "  -7.05215662e-05 -1.74059396e-04]\n",
      " [-4.89406968e-03  4.65172198e-03 -5.08213127e-03 ... -7.05215662e-05\n",
      "   5.61025313e-03 -1.20024227e-04]\n",
      " [-5.68968778e-03  5.42953855e-03 -3.28488592e-03 ... -1.74059396e-04\n",
      "  -1.20024227e-04  1.63635526e-02]]\n",
      "Eigenvectors \n",
      "[[-3.52848651e-01 -5.95190322e-03  2.45569047e-01 ...  1.19761829e-16\n",
      "  -1.68663353e-16  0.00000000e+00]\n",
      " [ 5.64490875e-01  2.14076816e-02  1.53603616e-02 ... -1.39498865e-15\n",
      "   4.16954173e-16  0.00000000e+00]\n",
      " [ 2.64301524e-02  6.24916616e-01  7.40100622e-01 ... -2.23928710e-16\n",
      "   1.07024953e-16  0.00000000e+00]\n",
      " ...\n",
      " [ 3.15903643e-03  4.91389713e-03 -6.09700873e-03 ...  1.37568354e-15\n",
      "  -7.80698731e-16  0.00000000e+00]\n",
      " [ 3.42544855e-03 -4.09189258e-03 -3.97252480e-03 ...  1.15759217e-15\n",
      "  -1.25378601e-15  0.00000000e+00]\n",
      " [ 4.47489728e-03  4.12653347e-03 -9.38347606e-03 ...  1.80534094e-15\n",
      "  -1.43242359e-15  0.00000000e+00]]\n",
      "\n",
      "Eigenvalues \n",
      "[ 2.84928415e+00  1.10855478e+00  9.80253210e-01  7.83008425e-01\n",
      "  5.67510769e-01  4.84014877e-01  3.97644335e-01  2.26117534e-01\n",
      "  1.85542827e-01  1.79944902e-01  1.52625862e-01  1.40580544e-01\n",
      "  1.22589534e-01  1.17565123e-01  9.73607448e-02  9.35770501e-02\n",
      "  8.28767505e-02  7.91021411e-02  7.36315381e-02  6.88416596e-02\n",
      "  6.36374492e-02  5.91031007e-02  5.63699991e-02  5.37723477e-02\n",
      "  4.87808512e-02  4.22159783e-02  4.16391133e-02  3.64337790e-02\n",
      "  3.56677996e-02  3.43166304e-02  3.10125564e-02  3.15889874e-02\n",
      "  2.80773928e-02  2.69176225e-02  2.61081047e-02  2.38719799e-02\n",
      "  2.34947873e-02  2.26564005e-02  1.99695230e-02  1.96066525e-02\n",
      "  1.90783497e-02  1.81962878e-02  1.73631384e-02  1.65790782e-02\n",
      "  1.60452421e-02  1.55861267e-02  1.51940371e-02  1.39032340e-02\n",
      "  1.34940248e-02  1.28111490e-02  1.19558616e-02  1.22277167e-02\n",
      "  9.68841360e-03  9.03086499e-03  7.79428781e-03  8.17783689e-03\n",
      "  8.06040754e-03  6.94815405e-03  4.35750393e-04  6.67246183e-03\n",
      "  6.25465670e-03  5.55148373e-03  4.12564711e-03  5.03707322e-03\n",
      "  5.29054515e-03  4.46021134e-03  1.33560982e-03  1.58402755e-03\n",
      "  1.70539628e-03  5.14734740e-03  3.50477005e-03  3.12157080e-03\n",
      "  2.20407938e-03  2.91607903e-03  2.31256283e-03  2.48615167e-03\n",
      "  2.58332125e-03  2.77484519e-03  2.80196699e-03  2.70702736e-03\n",
      "  2.36579391e-03  6.81420378e-17  1.38637671e-16  1.83281599e-17\n",
      " -2.77708506e-19  0.00000000e+00]\n"
     ]
    }
   ],
   "source": [
    "# generating the covariance matrix and the eigen values for the PCA analysis\n",
    "cov_matrix = np.cov(X_train.T) # the relevanat covariance matrix\n",
    "print('Covariance Matrix \\n%s', cov_matrix)\n",
    "\n",
    "#generating the eigen values and the eigen vectors\n",
    "e_vals, e_vecs = np.linalg.eig(cov_matrix)\n",
    "print('Eigenvectors \\n%s' %e_vecs)\n",
    "print('\\nEigenvalues \\n%s' %e_vals)"
   ]
  },
  {
   "cell_type": "code",
   "execution_count": 61,
   "metadata": {},
   "outputs": [
    {
     "name": "stdout",
     "output_type": "stream",
     "text": [
      "Cumulative Variance Explained [ 28.99922478  40.28178824  50.25853388  58.22777673  64.00374413\n",
      "  68.92991348  72.97702737  75.278389    77.16679249  78.99822186\n",
      "  80.5516056   81.98239544  83.23007776  84.42662301  85.4175337\n",
      "  86.369935    87.21343161  88.01851129  88.76791269  89.46856403\n",
      "  90.11624836  90.71778334  91.29150158  91.83878164  92.33525963\n",
      "  92.76492217  93.18871353  93.55952644  93.92254342  94.27180858\n",
      "  94.59331254  94.90894975  95.19471368  95.46867378  95.73439484\n",
      "  95.97735724  96.21648068  96.44707124  96.65031552  96.8498666\n",
      "  97.04404075  97.22923753  97.40595474  97.57469201  97.73799604\n",
      "  97.89662732  98.05126802  98.19277128  98.33010973  98.46049806\n",
      "  98.58494837  98.70663182  98.80523781  98.89715145  98.98038321\n",
      "  99.0624198   99.14174791  99.21246429  99.28037476  99.34403292\n",
      "  99.40053439  99.45438009  99.50676837  99.5580343   99.6034291\n",
      "  99.64541879  99.68108937  99.71285985  99.7425389   99.77105654\n",
      "  99.79929815  99.82684952  99.85314185  99.87844521  99.90252361\n",
      "  99.92606023  99.94849274  99.96584979  99.98197159  99.99556505\n",
      " 100.         100.         100.         100.         100.\n",
      " 100.        ]\n"
     ]
    }
   ],
   "source": [
    "# the \"cumulative variance explained\" analysis \n",
    "tot = sum(e_vals)\n",
    "var_exp = [( i /tot ) * 100 for i in sorted(e_vals, reverse=True)]\n",
    "cum_var_exp = np.cumsum(var_exp)\n",
    "print(\"Cumulative Variance Explained\", cum_var_exp)"
   ]
  },
  {
   "cell_type": "code",
   "execution_count": 62,
   "metadata": {},
   "outputs": [
    {
     "data": {
      "image/png": "[encoded data removed]",
      "text/plain": [
       "<Figure size 1440x360 with 1 Axes>"
      ]
     },
     "metadata": {
      "needs_background": "light"
     },
     "output_type": "display_data"
    }
   ],
   "source": [
    "# Plotting the variance expalained by the principal components and the cumulative variance explained.\n",
    "plt.figure(figsize=(20 , 5))\n",
    "plt.bar(range(1, e_vals.size + 1), var_exp, alpha = 0.5, align = 'center', label = 'Individual explained variance')\n",
    "plt.step(range(1, e_vals.size + 1), cum_var_exp, where='mid', label = 'Cumulative explained variance')\n",
    "plt.ylabel('Explained Variance Ratio')\n",
    "plt.xlabel('Principal Components')\n",
    "plt.legend(loc = 'best')\n",
    "plt.tight_layout()\n",
    "plt.show()"
   ]
  },
  {
   "cell_type": "code",
   "execution_count": 63,
   "metadata": {},
   "outputs": [],
   "source": [
    "from sklearn.decomposition import PCA\n",
    "\n",
    "# Capturing 90% variance of the data\n",
    "pca = PCA(n_components = 0.90)\n",
    "X_train_reduced = pca.fit_transform(X_train)\n",
    "X_test_reduced = pca.transform(X_test)"
   ]
  },
  {
   "cell_type": "code",
   "execution_count": 64,
   "metadata": {},
   "outputs": [
    {
     "name": "stdout",
     "output_type": "stream",
     "text": [
      "(334, 21)\n",
      "(84, 21)\n"
     ]
    }
   ],
   "source": [
    "print(X_train_reduced.shape)\n",
    "print(X_test_reduced.shape)"
   ]
  },
  {
   "cell_type": "code",
   "execution_count": 65,
   "metadata": {},
   "outputs": [
    {
     "name": "stdout",
     "output_type": "stream",
     "text": [
      "Unique predicted labels:  [0 1 2 3 4]\n",
      "Test score:  0.5476190476190477\n"
     ]
    }
   ],
   "source": [
    "from sklearn.dummy import DummyClassifier\n",
    "from sklearn.metrics import accuracy_score, f1_score, confusion_matrix, recall_score, precision_score, roc_auc_score\n",
    "\n",
    "# DummyClassifier to predict all Accident levels\n",
    "dummy = DummyClassifier(strategy='stratified').fit(X_train, y_train)\n",
    "dummy_pred = dummy.predict(X_test)\n",
    "\n",
    "# checking unique labels\n",
    "print('Unique predicted labels: ', (np.unique(dummy_pred)))\n",
    "\n",
    "# checking accuracy\n",
    "print('Test score: ', accuracy_score(y_test, dummy_pred))"
   ]
  },
  {
   "cell_type": "code",
   "execution_count": 66,
   "metadata": {},
   "outputs": [
    {
     "data": {
      "text/plain": [
       "0    62\n",
       "2     8\n",
       "1     7\n",
       "3     6\n",
       "4     1\n",
       "Name: 0, dtype: int64"
      ]
     },
     "execution_count": 66,
     "metadata": {},
     "output_type": "execute_result"
    }
   ],
   "source": [
    "# Checking unique values\n",
    "predictions = pd.DataFrame(dummy_pred)\n",
    "predictions[0].value_counts()"
   ]
  },
  {
   "cell_type": "code",
   "execution_count": 72,
   "metadata": {},
   "outputs": [],
   "source": [
    "# the classification models \n",
    "from sklearn.dummy import DummyClassifier\n",
    "from sklearn.linear_model import LogisticRegression\n",
    "from sklearn.linear_model import RidgeClassifier\n",
    "from sklearn.linear_model import Lasso\n",
    "from sklearn.neighbors import KNeighborsClassifier\n",
    "from sklearn.naive_bayes import GaussianNB\n",
    "from sklearn.svm import SVC\n",
    "from sklearn.tree import DecisionTreeClassifier\n",
    "\n",
    "# ensemble models\n",
    "from sklearn.ensemble import RandomForestClassifier\n",
    "from sklearn.ensemble import StackingClassifier\n",
    "from sklearn.ensemble import BaggingClassifier\n",
    "from sklearn.ensemble import ExtraTreesClassifier\n",
    "from sklearn.ensemble import AdaBoostClassifier\n",
    "from sklearn.ensemble import GradientBoostingClassifier\n",
    "from catboost import CatBoostClassifier\n",
    "from lightgbm import LGBMClassifier\n",
    "from xgboost import XGBClassifier\n",
    "\n",
    "# methods and classes for evaluation\n",
    "from sklearn.model_selection import cross_val_score\n",
    "from sklearn.model_selection import StratifiedKFold\n",
    "\n",
    "from sklearn import metrics\n",
    "from sklearn.metrics import classification_report\n",
    "from sklearn.metrics import accuracy_score, f1_score, confusion_matrix, recall_score, precision_score, roc_auc_score\n",
    "\n",
    "# cross-validation methods\n",
    "from sklearn.model_selection import KFold\n",
    "from sklearn.model_selection import RepeatedStratifiedKFold\n",
    "from sklearn.model_selection import GridSearchCV, RandomizedSearchCV"
   ]
  },
  {
   "cell_type": "code",
   "execution_count": 73,
   "metadata": {},
   "outputs": [],
   "source": [
    "def multiclass_logloss(actual, predicted, eps=1e-15):\n",
    "    \"\"\"Multi class version of Logarithmic Loss metric.\n",
    "    :param actual: Array containing the actual target classes\n",
    "    :param predicted: Matrix with class predictions, one probability per class\n",
    "    \"\"\"\n",
    "    # Convert 'actual' to a binary array if it's not already:\n",
    "    if len(actual.shape) == 1:\n",
    "        actual2 = np.zeros((actual.shape[0], predicted.shape[1]))\n",
    "        for i, val in enumerate(actual):\n",
    "            actual2[i, val] = 1\n",
    "        actual = actual2\n",
    "\n",
    "    clip = np.clip(predicted, eps, 1 - eps)\n",
    "    rows = actual.shape[0]\n",
    "    vsota = np.sum(actual * np.log(clip))\n",
    "    return -1.0 / rows * vsota"
   ]
  },
  {
   "cell_type": "code",
   "execution_count": 74,
   "metadata": {},
   "outputs": [],
   "source": [
    "def train_test_model(model, method, X_train, X_test, y_train, y_test, of_type, index, scale, report, save_model):\n",
    "    \n",
    "    if report == \"yes\":\n",
    "        print (model)\n",
    "        print (\"***************************************************************************\")\n",
    "\n",
    "    if method == 'CatBoostClassifier' or method == 'LGBMClassifier':\n",
    "\n",
    "      model.fit(X_train, y_train) # Fit the model on Training set\n",
    "    else:\n",
    "      model.fit(X_train, y_train) # Fit the model on Training set\n",
    "\n",
    "    from sklearn.metrics import accuracy_score, f1_score, confusion_matrix, recall_score, precision_score\n",
    "    \n",
    "    if of_type == \"coef\":\n",
    "        # Intercept and Coefficients\n",
    "        print(\"The intercept for our model is {}\".format(model.intercept_), \"\\n\")\n",
    "        \n",
    "        for idx, col_name in enumerate(X_train.columns):\n",
    "            print(\"The coefficient for {} is {}\".format(col_name, model.coef_.ravel()[idx]))\n",
    "\n",
    "    y_pred = model.predict(X_test) # Predict on Test set\n",
    "\n",
    "    # Initialise mc_logloss\n",
    "    mc_logloss = 1.00\n",
    "    if method != 'RidgeClassifier':\n",
    "      y_predictions = model.predict_proba(X_test)\n",
    "\n",
    "    train_accuracy_score = model.score(X_train, y_train)\n",
    "    test_accuracy_score = model.score(X_test, y_test)\n",
    "\n",
    "    precision_score = precision_score(y_test, y_pred, average='weighted')\n",
    "    recall_score = recall_score(y_test, y_pred, average='weighted')\n",
    "    f1_score = f1_score(y_test, y_pred, average='weighted')\n",
    "\n",
    "    if method != 'RidgeClassifier':\n",
    "      mc_logloss = multiclass_logloss(y_test, y_predictions, eps=1e-15)\n",
    "\n",
    "    if report == \"yes\":\n",
    "      # Model - Confusion matrix\n",
    "      model_cm = confusion_matrix(y_test, y_pred)\n",
    "\n",
    "      sns.heatmap(model_cm, annot=True,  fmt='.2f', xticklabels = [\"I\", \"II\", \"III\", \"IV\", \"V\"] , yticklabels = [\"I\", \"II\", \"III\", \"IV\", \"V\"] )\n",
    "      plt.ylabel('Actual')\n",
    "      plt.xlabel('Predicted')\n",
    "      plt.show()\n",
    "\n",
    "      # Model - Classification report\n",
    "      model_cr = classification_report(y_test, y_pred)\n",
    "      print(model_cr)\n",
    "\n",
    "    # Store the accuracy results for each model in a dataframe for final comparison\n",
    "    resultsDf = pd.DataFrame({'Method': method, 'Train Accuracy': train_accuracy_score, 'Test Accuracy': test_accuracy_score, \n",
    "                              'Precision': precision_score, 'Recall': recall_score, 'F1-Score': f1_score, \n",
    "                              'Multi-Class Logloss': mc_logloss}, index=[index])\n",
    "    \n",
    "    # Save the model\n",
    "    if save_model == \"yes\":\n",
    "      filename = 'finalised_model.sav'\n",
    "      pickle.dump(model, open(filename, 'wb'))\n",
    "      \n",
    "    return resultsDf  # return all the metrics along with predictions\n"
   ]
  },
  {
   "cell_type": "code",
   "execution_count": 75,
   "metadata": {},
   "outputs": [],
   "source": [
    "import lightgbm as lgb\n",
    "\n",
    "def train_test_allmodels(X_train_common, X_test_common, y_train, y_test, scale):\n",
    "\n",
    "    # define classification models\n",
    "    models=[['LogisticRegression',LogisticRegression(solver='lbfgs', multi_class='multinomial', random_state = 1)],\n",
    "        ['RidgeClassifier',RidgeClassifier(random_state = 1)],\n",
    "        #['Lasso',Lasso(random_state = 1)],\n",
    "        ['KNeighborsClassifier',KNeighborsClassifier(n_neighbors = 3)],\n",
    "        ['SVC',SVC(kernel = 'rbf', probability=True)],\n",
    "        ['DecisionTreeClassifier',DecisionTreeClassifier(criterion = 'gini', random_state=1)],\n",
    "        ['RandomForestClassifier',RandomForestClassifier(n_estimators=10, random_state=1)],\n",
    "        ['BaggingClassifier',BaggingClassifier(n_estimators=30, max_samples=0.75, random_state=1, oob_score=True)],\n",
    "        ['ExtraTreesClassifier',ExtraTreesClassifier(n_estimators = 50, criterion='entropy', max_features='auto', min_samples_split=2, \n",
    "                                 bootstrap=True, oob_score=True)],\n",
    "        ['AdaBoostClassifier',AdaBoostClassifier(n_estimators=100, learning_rate=0.25, random_state=1)],\n",
    "        ['GradientBoostingClassifier',GradientBoostingClassifier(loss='deviance', n_estimators=50, learning_rate=0.1, validation_fraction=0.2, \n",
    "                                       random_state=1)],\n",
    "        ['CatBoostClassifier',CatBoostClassifier(task_type= 'GPU', loss_function=\"MultiClass\", random_state=1, verbose=0)],\n",
    "                                                #early_stopping_rounds = 30)],\n",
    "        ['LGBMClassifier',LGBMClassifier(random_state=1, metric = \"multi_logloss\", objective=\"multiclass\")],\n",
    "                                         #early_stopping_rounds = 30)],\n",
    "        ['XGBClassifier',XGBClassifier(min_child_weight = 7, max_depth = 6, objective=\"multi:softmax\", learning_rate = 0.1, gamma = 0.4, \n",
    "                                       colsample_bytree = 0.5)]\n",
    "    ]\n",
    "\n",
    "    resultsDf_common = pd.DataFrame()\n",
    "    i = 1\n",
    "    for name, classifier in models:\n",
    "        # Train and Test the model\n",
    "        reg_resultsDf = train_test_model(classifier, name, X_train_common, X_test_common, y_train, y_test, 'none', i, scale, 'no', 'no')\n",
    "\n",
    "        # Store the accuracy results for each model in a dataframe for final comparison\n",
    "        resultsDf_common = pd.concat([resultsDf_common, reg_resultsDf])\n",
    "        i = i+1\n",
    "\n",
    "    return resultsDf_common"
   ]
  },
  {
   "cell_type": "code",
   "execution_count": 76,
   "metadata": {},
   "outputs": [],
   "source": [
    "def hyperparameterstune_model(name, model, X_train, y_train, param_grid):\n",
    "    \n",
    "    start = time.time()  # note the start time \n",
    "    \n",
    "    # Before starting with grid search we need to create a scoring function. This is accomplished using the make_scorer function of scikit-learn.\n",
    "    mll_scorer = metrics.make_scorer(multiclass_logloss, greater_is_better=False, needs_proba=True)\n",
    "\n",
    "    # define grid search\n",
    "    cv = RepeatedStratifiedKFold(n_splits=10, n_repeats=3, random_state=1)\n",
    "    if name == 'LGBMClassifier':\n",
    "      grid_search = RandomizedSearchCV(estimator=model, param_distributions=param_grid, n_iter=100, n_jobs=-1, cv=cv, \n",
    "                                       scoring = mll_scorer, error_score=0)\n",
    "    else:\n",
    "      grid_search = GridSearchCV(estimator=model, param_grid=param_grid, n_jobs=-1, cv=cv, \n",
    "                                 scoring = mll_scorer, error_score=0)\n",
    "      \n",
    "    model_grid_result = grid_search.fit(X_train, y_train)\n",
    "\n",
    "    # summarize results\n",
    "    print(\"Best F1_Score: %f using %s\" % (model_grid_result.best_score_, model_grid_result.best_params_))\n",
    "    means = model_grid_result.cv_results_['mean_test_score']\n",
    "    stds = model_grid_result.cv_results_['std_test_score']\n",
    "    params = model_grid_result.cv_results_['params']\n",
    "    for mean, stdev, param in zip(means, stds, params):\n",
    "      if param == model_grid_result.best_params_:\n",
    "        print(\"%f (%f) with: %r\" % (mean, stdev, param))\n",
    "        print(\"95% Confidence interval range: ({0:.4f} %, {1:.4f} %)\".format(mean-(2*stdev), mean+(2*stdev)))\n",
    "\n",
    "    end = time.time()  # note the end time\n",
    "    duration = end - start  # calculate the total duration\n",
    "    print(\"Total duration\" , duration, \"\\n\")\n",
    "    \n",
    "    return model_grid_result.best_estimator_"
   ]
  },
  {
   "cell_type": "code",
   "execution_count": 77,
   "metadata": {},
   "outputs": [
    {
     "name": "stdout",
     "output_type": "stream",
     "text": [
      "LogisticRegression(multi_class='multinomial', random_state=1)\n",
      "***************************************************************************\n"
     ]
    },
    {
     "name": "stderr",
     "output_type": "stream",
     "text": [
      "C:\\Users\\7uxs48\\Anaconda3\\lib\\site-packages\\sklearn\\metrics\\_classification.py:1221: UndefinedMetricWarning: Precision is ill-defined and being set to 0.0 in labels with no predicted samples. Use `zero_division` parameter to control this behavior.\n",
      "  _warn_prf(average, modifier, msg_start, len(result))\n"
     ]
    },
    {
     "data": {
      "image/png": "[encoded data removed]",
      "text/plain": [
       "<Figure size 432x288 with 2 Axes>"
      ]
     },
     "metadata": {
      "needs_background": "light"
     },
     "output_type": "display_data"
    },
    {
     "name": "stdout",
     "output_type": "stream",
     "text": [
      "              precision    recall  f1-score   support\n",
      "\n",
      "           0       0.75      0.97      0.85        62\n",
      "           1       0.00      0.00      0.00         8\n",
      "           2       0.00      0.00      0.00         6\n",
      "           3       0.00      0.00      0.00         6\n",
      "           4       0.00      0.00      0.00         2\n",
      "\n",
      "    accuracy                           0.71        84\n",
      "   macro avg       0.15      0.19      0.17        84\n",
      "weighted avg       0.55      0.71      0.62        84\n",
      "\n"
     ]
    },
    {
     "name": "stderr",
     "output_type": "stream",
     "text": [
      "C:\\Users\\7uxs48\\Anaconda3\\lib\\site-packages\\sklearn\\metrics\\_classification.py:1221: UndefinedMetricWarning: Precision and F-score are ill-defined and being set to 0.0 in labels with no predicted samples. Use `zero_division` parameter to control this behavior.\n",
      "  _warn_prf(average, modifier, msg_start, len(result))\n"
     ]
    },
    {
     "data": {
      "text/html": [
       "<div>\n",
       "<style scoped>\n",
       "    .dataframe tbody tr th:only-of-type {\n",
       "        vertical-align: middle;\n",
       "    }\n",
       "\n",
       "    .dataframe tbody tr th {\n",
       "        vertical-align: top;\n",
       "    }\n",
       "\n",
       "    .dataframe thead th {\n",
       "        text-align: right;\n",
       "    }\n",
       "</style>\n",
       "<table border=\"1\" class=\"dataframe\">\n",
       "  <thead>\n",
       "    <tr style=\"text-align: right;\">\n",
       "      <th></th>\n",
       "      <th>Method</th>\n",
       "      <th>Train Accuracy</th>\n",
       "      <th>Test Accuracy</th>\n",
       "      <th>Precision</th>\n",
       "      <th>Recall</th>\n",
       "      <th>F1-Score</th>\n",
       "      <th>Multi-Class Logloss</th>\n",
       "    </tr>\n",
       "  </thead>\n",
       "  <tbody>\n",
       "    <tr>\n",
       "      <th>1</th>\n",
       "      <td>Logistic Regression without Sampling</td>\n",
       "      <td>0.754491</td>\n",
       "      <td>0.714286</td>\n",
       "      <td>0.553571</td>\n",
       "      <td>0.714286</td>\n",
       "      <td>0.623742</td>\n",
       "      <td>0.894264</td>\n",
       "    </tr>\n",
       "  </tbody>\n",
       "</table>\n",
       "</div>"
      ],
      "text/plain": [
       "                                 Method  Train Accuracy  Test Accuracy  \\\n",
       "1  Logistic Regression without Sampling        0.754491       0.714286   \n",
       "\n",
       "   Precision    Recall  F1-Score  Multi-Class Logloss  \n",
       "1   0.553571  0.714286  0.623742             0.894264  "
      ]
     },
     "execution_count": 77,
     "metadata": {},
     "output_type": "execute_result"
    }
   ],
   "source": [
    "# For multiclass problems, only 'newton-cg', 'sag', 'saga' and 'lbfgs' handle multinomial loss; 'liblinear' is limited to one-versus-rest schemes.\n",
    "\n",
    "resultsDf = pd.DataFrame()\n",
    "\n",
    "# Building a Linear Regression model\n",
    "lr = LogisticRegression(solver='lbfgs', multi_class='multinomial', random_state = 1)\n",
    "                                                     \n",
    "# Train and Test the model\n",
    "resultsDf = train_test_model(lr, 'Logistic Regression without Sampling', X_train, X_test, y_train, y_test, 'none', 1, 'no', 'yes', 'no')\n",
    "\n",
    "# Store the accuracy results for each model in a dataframe for final comparison\n",
    "resultsDf"
   ]
  },
  {
   "cell_type": "code",
   "execution_count": 78,
   "metadata": {},
   "outputs": [
    {
     "name": "stdout",
     "output_type": "stream",
     "text": [
      "RandomForestClassifier(n_estimators=10, random_state=1)\n",
      "***************************************************************************\n"
     ]
    },
    {
     "name": "stderr",
     "output_type": "stream",
     "text": [
      "C:\\Users\\7uxs48\\Anaconda3\\lib\\site-packages\\sklearn\\metrics\\_classification.py:1221: UndefinedMetricWarning: Precision is ill-defined and being set to 0.0 in labels with no predicted samples. Use `zero_division` parameter to control this behavior.\n",
      "  _warn_prf(average, modifier, msg_start, len(result))\n"
     ]
    },
    {
     "data": {
      "image/png": "[encoded data removed]",
      "text/plain": [
       "<Figure size 432x288 with 2 Axes>"
      ]
     },
     "metadata": {
      "needs_background": "light"
     },
     "output_type": "display_data"
    },
    {
     "name": "stdout",
     "output_type": "stream",
     "text": [
      "              precision    recall  f1-score   support\n",
      "\n",
      "           0       0.75      0.95      0.84        62\n",
      "           1       0.00      0.00      0.00         8\n",
      "           2       0.00      0.00      0.00         6\n",
      "           3       0.00      0.00      0.00         6\n",
      "           4       0.00      0.00      0.00         2\n",
      "\n",
      "    accuracy                           0.70        84\n",
      "   macro avg       0.15      0.19      0.17        84\n",
      "weighted avg       0.55      0.70      0.62        84\n",
      "\n"
     ]
    },
    {
     "name": "stderr",
     "output_type": "stream",
     "text": [
      "C:\\Users\\7uxs48\\Anaconda3\\lib\\site-packages\\sklearn\\metrics\\_classification.py:1221: UndefinedMetricWarning: Precision and F-score are ill-defined and being set to 0.0 in labels with no predicted samples. Use `zero_division` parameter to control this behavior.\n",
      "  _warn_prf(average, modifier, msg_start, len(result))\n"
     ]
    },
    {
     "data": {
      "text/html": [
       "<div>\n",
       "<style scoped>\n",
       "    .dataframe tbody tr th:only-of-type {\n",
       "        vertical-align: middle;\n",
       "    }\n",
       "\n",
       "    .dataframe tbody tr th {\n",
       "        vertical-align: top;\n",
       "    }\n",
       "\n",
       "    .dataframe thead th {\n",
       "        text-align: right;\n",
       "    }\n",
       "</style>\n",
       "<table border=\"1\" class=\"dataframe\">\n",
       "  <thead>\n",
       "    <tr style=\"text-align: right;\">\n",
       "      <th></th>\n",
       "      <th>Method</th>\n",
       "      <th>Train Accuracy</th>\n",
       "      <th>Test Accuracy</th>\n",
       "      <th>Precision</th>\n",
       "      <th>Recall</th>\n",
       "      <th>F1-Score</th>\n",
       "      <th>Multi-Class Logloss</th>\n",
       "    </tr>\n",
       "  </thead>\n",
       "  <tbody>\n",
       "    <tr>\n",
       "      <th>1</th>\n",
       "      <td>Logistic Regression without Sampling</td>\n",
       "      <td>0.754491</td>\n",
       "      <td>0.714286</td>\n",
       "      <td>0.553571</td>\n",
       "      <td>0.714286</td>\n",
       "      <td>0.623742</td>\n",
       "      <td>0.894264</td>\n",
       "    </tr>\n",
       "    <tr>\n",
       "      <th>2</th>\n",
       "      <td>Random Forest with original data</td>\n",
       "      <td>0.955090</td>\n",
       "      <td>0.702381</td>\n",
       "      <td>0.551236</td>\n",
       "      <td>0.702381</td>\n",
       "      <td>0.617697</td>\n",
       "      <td>3.413944</td>\n",
       "    </tr>\n",
       "  </tbody>\n",
       "</table>\n",
       "</div>"
      ],
      "text/plain": [
       "                                 Method  Train Accuracy  Test Accuracy  \\\n",
       "1  Logistic Regression without Sampling        0.754491       0.714286   \n",
       "2      Random Forest with original data        0.955090       0.702381   \n",
       "\n",
       "   Precision    Recall  F1-Score  Multi-Class Logloss  \n",
       "1   0.553571  0.714286  0.623742             0.894264  \n",
       "2   0.551236  0.702381  0.617697             3.413944  "
      ]
     },
     "execution_count": 78,
     "metadata": {},
     "output_type": "execute_result"
    }
   ],
   "source": [
    "# Building a Random Forest Classifier on Training set\n",
    "rfc_model = RandomForestClassifier(n_estimators=10, random_state=1)\n",
    "\n",
    "# Train and Test the model\n",
    "rf_df = train_test_model(rfc_model, 'Random Forest with original data', X_train, X_test, y_train, y_test, 'none', 2, 'no', 'yes', 'no')\n",
    "\n",
    "#Store the accuracy results for each model in a dataframe for final comparison\n",
    "resultsDf = pd.concat([resultsDf,rf_df])\n",
    "resultsDf"
   ]
  },
  {
   "cell_type": "code",
   "execution_count": 79,
   "metadata": {},
   "outputs": [
    {
     "name": "stdout",
     "output_type": "stream",
     "text": [
      "LogisticRegression(multi_class='multinomial', random_state=1)\n",
      "***************************************************************************\n"
     ]
    },
    {
     "name": "stderr",
     "output_type": "stream",
     "text": [
      "C:\\Users\\7uxs48\\Anaconda3\\lib\\site-packages\\sklearn\\linear_model\\_logistic.py:762: ConvergenceWarning: lbfgs failed to converge (status=1):\n",
      "STOP: TOTAL NO. of ITERATIONS REACHED LIMIT.\n",
      "\n",
      "Increase the number of iterations (max_iter) or scale the data as shown in:\n",
      "    https://scikit-learn.org/stable/modules/preprocessing.html\n",
      "Please also refer to the documentation for alternative solver options:\n",
      "    https://scikit-learn.org/stable/modules/linear_model.html#logistic-regression\n",
      "  n_iter_i = _check_optimize_result(\n"
     ]
    },
    {
     "data": {
      "image/png": "[encoded data removed]",
      "text/plain": [
       "<Figure size 432x288 with 2 Axes>"
      ]
     },
     "metadata": {
      "needs_background": "light"
     },
     "output_type": "display_data"
    },
    {
     "name": "stdout",
     "output_type": "stream",
     "text": [
      "              precision    recall  f1-score   support\n",
      "\n",
      "           0       1.00      0.03      0.06        62\n",
      "           1       0.09      0.25      0.13         8\n",
      "           2       0.13      0.33      0.19         6\n",
      "           3       0.00      0.00      0.00         6\n",
      "           4       0.02      0.50      0.05         2\n",
      "\n",
      "    accuracy                           0.08        84\n",
      "   macro avg       0.25      0.22      0.09        84\n",
      "weighted avg       0.76      0.08      0.07        84\n",
      "\n"
     ]
    },
    {
     "data": {
      "text/html": [
       "<div>\n",
       "<style scoped>\n",
       "    .dataframe tbody tr th:only-of-type {\n",
       "        vertical-align: middle;\n",
       "    }\n",
       "\n",
       "    .dataframe tbody tr th {\n",
       "        vertical-align: top;\n",
       "    }\n",
       "\n",
       "    .dataframe thead th {\n",
       "        text-align: right;\n",
       "    }\n",
       "</style>\n",
       "<table border=\"1\" class=\"dataframe\">\n",
       "  <thead>\n",
       "    <tr style=\"text-align: right;\">\n",
       "      <th></th>\n",
       "      <th>Method</th>\n",
       "      <th>Train Accuracy</th>\n",
       "      <th>Test Accuracy</th>\n",
       "      <th>Precision</th>\n",
       "      <th>Recall</th>\n",
       "      <th>F1-Score</th>\n",
       "      <th>Multi-Class Logloss</th>\n",
       "    </tr>\n",
       "  </thead>\n",
       "  <tbody>\n",
       "    <tr>\n",
       "      <th>1</th>\n",
       "      <td>Logistic Regression without Sampling</td>\n",
       "      <td>0.754491</td>\n",
       "      <td>0.714286</td>\n",
       "      <td>0.553571</td>\n",
       "      <td>0.714286</td>\n",
       "      <td>0.623742</td>\n",
       "      <td>0.894264</td>\n",
       "    </tr>\n",
       "    <tr>\n",
       "      <th>2</th>\n",
       "      <td>Random Forest with original data</td>\n",
       "      <td>0.955090</td>\n",
       "      <td>0.702381</td>\n",
       "      <td>0.551236</td>\n",
       "      <td>0.702381</td>\n",
       "      <td>0.617697</td>\n",
       "      <td>3.413944</td>\n",
       "    </tr>\n",
       "    <tr>\n",
       "      <th>3</th>\n",
       "      <td>Logistic Regression with Sampling</td>\n",
       "      <td>0.356275</td>\n",
       "      <td>0.083333</td>\n",
       "      <td>0.756481</td>\n",
       "      <td>0.083333</td>\n",
       "      <td>0.073133</td>\n",
       "      <td>1.701462</td>\n",
       "    </tr>\n",
       "  </tbody>\n",
       "</table>\n",
       "</div>"
      ],
      "text/plain": [
       "                                 Method  Train Accuracy  Test Accuracy  \\\n",
       "1  Logistic Regression without Sampling        0.754491       0.714286   \n",
       "2      Random Forest with original data        0.955090       0.702381   \n",
       "3     Logistic Regression with Sampling        0.356275       0.083333   \n",
       "\n",
       "   Precision    Recall  F1-Score  Multi-Class Logloss  \n",
       "1   0.553571  0.714286  0.623742             0.894264  \n",
       "2   0.551236  0.702381  0.617697             3.413944  \n",
       "3   0.756481  0.083333  0.073133             1.701462  "
      ]
     },
     "execution_count": 79,
     "metadata": {},
     "output_type": "execute_result"
    }
   ],
   "source": [
    "# Building a Linear Regression model\n",
    "lr = LogisticRegression(solver='lbfgs', multi_class='multinomial', random_state = 1)\n",
    "                                                     \n",
    "# Train and Test the model\n",
    "lr_df = train_test_model(lr, 'Logistic Regression with Sampling', X_train_up, X_test, y_train_up, y_test, 'none', 3, 'no', 'yes', 'no')\n",
    "\n",
    "#Store the accuracy results for each model in a dataframe for final comparison\n",
    "resultsDf = pd.concat([resultsDf,lr_df])\n",
    "resultsDf"
   ]
  },
  {
   "cell_type": "code",
   "execution_count": 80,
   "metadata": {},
   "outputs": [
    {
     "name": "stdout",
     "output_type": "stream",
     "text": [
      "LogisticRegression(multi_class='multinomial', random_state=1)\n",
      "***************************************************************************\n"
     ]
    },
    {
     "name": "stderr",
     "output_type": "stream",
     "text": [
      "C:\\Users\\7uxs48\\Anaconda3\\lib\\site-packages\\sklearn\\utils\\validation.py:72: DataConversionWarning: A column-vector y was passed when a 1d array was expected. Please change the shape of y to (n_samples, ), for example using ravel().\n",
      "  return f(**kwargs)\n",
      "C:\\Users\\7uxs48\\Anaconda3\\lib\\site-packages\\sklearn\\linear_model\\_logistic.py:762: ConvergenceWarning: lbfgs failed to converge (status=1):\n",
      "STOP: TOTAL NO. of ITERATIONS REACHED LIMIT.\n",
      "\n",
      "Increase the number of iterations (max_iter) or scale the data as shown in:\n",
      "    https://scikit-learn.org/stable/modules/preprocessing.html\n",
      "Please also refer to the documentation for alternative solver options:\n",
      "    https://scikit-learn.org/stable/modules/linear_model.html#logistic-regression\n",
      "  n_iter_i = _check_optimize_result(\n"
     ]
    },
    {
     "data": {
      "image/png": "[encoded data removed]",
      "text/plain": [
       "<Figure size 432x288 with 2 Axes>"
      ]
     },
     "metadata": {
      "needs_background": "light"
     },
     "output_type": "display_data"
    },
    {
     "name": "stdout",
     "output_type": "stream",
     "text": [
      "              precision    recall  f1-score   support\n",
      "\n",
      "           0       0.88      0.24      0.38        62\n",
      "           1       0.11      0.25      0.15         8\n",
      "           2       0.00      0.00      0.00         6\n",
      "           3       0.00      0.00      0.00         6\n",
      "           4       0.02      0.50      0.04         2\n",
      "\n",
      "    accuracy                           0.21        84\n",
      "   macro avg       0.20      0.20      0.12        84\n",
      "weighted avg       0.66      0.21      0.30        84\n",
      "\n"
     ]
    },
    {
     "data": {
      "text/html": [
       "<div>\n",
       "<style scoped>\n",
       "    .dataframe tbody tr th:only-of-type {\n",
       "        vertical-align: middle;\n",
       "    }\n",
       "\n",
       "    .dataframe tbody tr th {\n",
       "        vertical-align: top;\n",
       "    }\n",
       "\n",
       "    .dataframe thead th {\n",
       "        text-align: right;\n",
       "    }\n",
       "</style>\n",
       "<table border=\"1\" class=\"dataframe\">\n",
       "  <thead>\n",
       "    <tr style=\"text-align: right;\">\n",
       "      <th></th>\n",
       "      <th>Method</th>\n",
       "      <th>Train Accuracy</th>\n",
       "      <th>Test Accuracy</th>\n",
       "      <th>Precision</th>\n",
       "      <th>Recall</th>\n",
       "      <th>F1-Score</th>\n",
       "      <th>Multi-Class Logloss</th>\n",
       "    </tr>\n",
       "  </thead>\n",
       "  <tbody>\n",
       "    <tr>\n",
       "      <th>1</th>\n",
       "      <td>Logistic Regression without Sampling</td>\n",
       "      <td>0.754491</td>\n",
       "      <td>0.714286</td>\n",
       "      <td>0.553571</td>\n",
       "      <td>0.714286</td>\n",
       "      <td>0.623742</td>\n",
       "      <td>0.894264</td>\n",
       "    </tr>\n",
       "    <tr>\n",
       "      <th>2</th>\n",
       "      <td>Random Forest with original data</td>\n",
       "      <td>0.955090</td>\n",
       "      <td>0.702381</td>\n",
       "      <td>0.551236</td>\n",
       "      <td>0.702381</td>\n",
       "      <td>0.617697</td>\n",
       "      <td>3.413944</td>\n",
       "    </tr>\n",
       "    <tr>\n",
       "      <th>3</th>\n",
       "      <td>Logistic Regression with Sampling</td>\n",
       "      <td>0.356275</td>\n",
       "      <td>0.083333</td>\n",
       "      <td>0.756481</td>\n",
       "      <td>0.083333</td>\n",
       "      <td>0.073133</td>\n",
       "      <td>1.701462</td>\n",
       "    </tr>\n",
       "    <tr>\n",
       "      <th>4</th>\n",
       "      <td>Logistic Regression with SMOTE</td>\n",
       "      <td>0.442105</td>\n",
       "      <td>0.214286</td>\n",
       "      <td>0.662360</td>\n",
       "      <td>0.214286</td>\n",
       "      <td>0.295933</td>\n",
       "      <td>1.654097</td>\n",
       "    </tr>\n",
       "  </tbody>\n",
       "</table>\n",
       "</div>"
      ],
      "text/plain": [
       "                                 Method  Train Accuracy  Test Accuracy  \\\n",
       "1  Logistic Regression without Sampling        0.754491       0.714286   \n",
       "2      Random Forest with original data        0.955090       0.702381   \n",
       "3     Logistic Regression with Sampling        0.356275       0.083333   \n",
       "4        Logistic Regression with SMOTE        0.442105       0.214286   \n",
       "\n",
       "   Precision    Recall  F1-Score  Multi-Class Logloss  \n",
       "1   0.553571  0.714286  0.623742             0.894264  \n",
       "2   0.551236  0.702381  0.617697             3.413944  \n",
       "3   0.756481  0.083333  0.073133             1.701462  \n",
       "4   0.662360  0.214286  0.295933             1.654097  "
      ]
     },
     "execution_count": 80,
     "metadata": {},
     "output_type": "execute_result"
    }
   ],
   "source": [
    "# Building a Linear Regression model\n",
    "lr = LogisticRegression(solver='lbfgs', multi_class='multinomial', random_state = 1)\n",
    "                                                     \n",
    "# Train and Test the model\n",
    "lr_smote_df = train_test_model(lr, 'Logistic Regression with SMOTE', X_train_smote, X_test, y_train_smote, y_test, 'none', 4, 'no', 'yes', 'no')\n",
    "\n",
    "#Store the accuracy results for each model in a dataframe for final comparison\n",
    "resultsDf = pd.concat([resultsDf,lr_smote_df])\n",
    "resultsDf"
   ]
  },
  {
   "cell_type": "code",
   "execution_count": 84,
   "metadata": {},
   "outputs": [],
   "source": [
    "import lightgbm as lgb\n",
    "\n",
    "def train_test_allmodels(X_train_common, X_test_common, y_train, y_test, scale):\n",
    "\n",
    "    # define classification models\n",
    "    models=[['LogisticRegression',LogisticRegression(solver='lbfgs', multi_class='multinomial', random_state = 1)],\n",
    "        ['RidgeClassifier',RidgeClassifier(random_state = 1)],\n",
    "        #['Lasso',Lasso(random_state = 1)],\n",
    "        ['KNeighborsClassifier',KNeighborsClassifier(n_neighbors = 3)],\n",
    "        ['SVC',SVC(kernel = 'rbf', probability=True)],\n",
    "        ['DecisionTreeClassifier',DecisionTreeClassifier(criterion = 'gini', random_state=1)],\n",
    "        ['RandomForestClassifier',RandomForestClassifier(n_estimators=10, random_state=1)],\n",
    "        ['BaggingClassifier',BaggingClassifier(n_estimators=30, max_samples=0.75, random_state=1, oob_score=True)],\n",
    "        ['ExtraTreesClassifier',ExtraTreesClassifier(n_estimators = 50, criterion='entropy', max_features='auto', min_samples_split=2, \n",
    "                                 bootstrap=True, oob_score=True)],\n",
    "        ['AdaBoostClassifier',AdaBoostClassifier(n_estimators=100, learning_rate=0.25, random_state=1)],\n",
    "        ['GradientBoostingClassifier',GradientBoostingClassifier(loss='deviance', n_estimators=50, learning_rate=0.1, validation_fraction=0.2, \n",
    "                                       random_state=1)],\n",
    "        ['LGBMClassifier',LGBMClassifier(random_state=1, metric = \"multi_logloss\", objective=\"multiclass\")],\n",
    "                                         #early_stopping_rounds = 30)],\n",
    "        ['XGBClassifier',XGBClassifier(min_child_weight = 7, max_depth = 6, objective=\"multi:softmax\", learning_rate = 0.1, gamma = 0.4, \n",
    "                                       colsample_bytree = 0.5)]\n",
    "    ]\n",
    "\n",
    "    resultsDf_common = pd.DataFrame()\n",
    "    i = 1\n",
    "    for name, classifier in models:\n",
    "        # Train and Test the model\n",
    "        reg_resultsDf = train_test_model(classifier, name, X_train_common, X_test_common, y_train, y_test, 'none', i, scale, 'no', 'no')\n",
    "\n",
    "        # Store the accuracy results for each model in a dataframe for final comparison\n",
    "        resultsDf_common = pd.concat([resultsDf_common, reg_resultsDf])\n",
    "        i = i+1\n",
    "\n",
    "    return resultsDf_common"
   ]
  },
  {
   "cell_type": "markdown",
   "metadata": {},
   "source": [
    "#### 4. Modelling - Logistic Regression - SMOTE"
   ]
  },
  {
   "cell_type": "code",
   "execution_count": 85,
   "metadata": {},
   "outputs": [
    {
     "name": "stdout",
     "output_type": "stream",
     "text": [
      "LogisticRegression(multi_class='multinomial', random_state=1)\n",
      "***************************************************************************\n"
     ]
    },
    {
     "name": "stderr",
     "output_type": "stream",
     "text": [
      "C:\\Users\\7uxs48\\Anaconda3\\lib\\site-packages\\sklearn\\utils\\validation.py:72: DataConversionWarning: A column-vector y was passed when a 1d array was expected. Please change the shape of y to (n_samples, ), for example using ravel().\n",
      "  return f(**kwargs)\n",
      "C:\\Users\\7uxs48\\Anaconda3\\lib\\site-packages\\sklearn\\linear_model\\_logistic.py:762: ConvergenceWarning: lbfgs failed to converge (status=1):\n",
      "STOP: TOTAL NO. of ITERATIONS REACHED LIMIT.\n",
      "\n",
      "Increase the number of iterations (max_iter) or scale the data as shown in:\n",
      "    https://scikit-learn.org/stable/modules/preprocessing.html\n",
      "Please also refer to the documentation for alternative solver options:\n",
      "    https://scikit-learn.org/stable/modules/linear_model.html#logistic-regression\n",
      "  n_iter_i = _check_optimize_result(\n"
     ]
    },
    {
     "data": {
      "image/png": "[encoded data removed]",
      "text/plain": [
       "<Figure size 432x288 with 2 Axes>"
      ]
     },
     "metadata": {
      "needs_background": "light"
     },
     "output_type": "display_data"
    },
    {
     "name": "stdout",
     "output_type": "stream",
     "text": [
      "              precision    recall  f1-score   support\n",
      "\n",
      "           0       0.88      0.24      0.38        62\n",
      "           1       0.11      0.25      0.15         8\n",
      "           2       0.00      0.00      0.00         6\n",
      "           3       0.00      0.00      0.00         6\n",
      "           4       0.02      0.50      0.04         2\n",
      "\n",
      "    accuracy                           0.21        84\n",
      "   macro avg       0.20      0.20      0.12        84\n",
      "weighted avg       0.66      0.21      0.30        84\n",
      "\n"
     ]
    },
    {
     "data": {
      "text/html": [
       "<div>\n",
       "<style scoped>\n",
       "    .dataframe tbody tr th:only-of-type {\n",
       "        vertical-align: middle;\n",
       "    }\n",
       "\n",
       "    .dataframe tbody tr th {\n",
       "        vertical-align: top;\n",
       "    }\n",
       "\n",
       "    .dataframe thead th {\n",
       "        text-align: right;\n",
       "    }\n",
       "</style>\n",
       "<table border=\"1\" class=\"dataframe\">\n",
       "  <thead>\n",
       "    <tr style=\"text-align: right;\">\n",
       "      <th></th>\n",
       "      <th>Method</th>\n",
       "      <th>Train Accuracy</th>\n",
       "      <th>Test Accuracy</th>\n",
       "      <th>Precision</th>\n",
       "      <th>Recall</th>\n",
       "      <th>F1-Score</th>\n",
       "      <th>Multi-Class Logloss</th>\n",
       "    </tr>\n",
       "  </thead>\n",
       "  <tbody>\n",
       "    <tr>\n",
       "      <th>1</th>\n",
       "      <td>Logistic Regression without Sampling</td>\n",
       "      <td>0.754491</td>\n",
       "      <td>0.714286</td>\n",
       "      <td>0.553571</td>\n",
       "      <td>0.714286</td>\n",
       "      <td>0.623742</td>\n",
       "      <td>0.894264</td>\n",
       "    </tr>\n",
       "    <tr>\n",
       "      <th>2</th>\n",
       "      <td>Random Forest with original data</td>\n",
       "      <td>0.955090</td>\n",
       "      <td>0.702381</td>\n",
       "      <td>0.551236</td>\n",
       "      <td>0.702381</td>\n",
       "      <td>0.617697</td>\n",
       "      <td>3.413944</td>\n",
       "    </tr>\n",
       "    <tr>\n",
       "      <th>3</th>\n",
       "      <td>Logistic Regression with Sampling</td>\n",
       "      <td>0.356275</td>\n",
       "      <td>0.083333</td>\n",
       "      <td>0.756481</td>\n",
       "      <td>0.083333</td>\n",
       "      <td>0.073133</td>\n",
       "      <td>1.701462</td>\n",
       "    </tr>\n",
       "    <tr>\n",
       "      <th>4</th>\n",
       "      <td>Logistic Regression with SMOTE</td>\n",
       "      <td>0.442105</td>\n",
       "      <td>0.214286</td>\n",
       "      <td>0.662360</td>\n",
       "      <td>0.214286</td>\n",
       "      <td>0.295933</td>\n",
       "      <td>1.654097</td>\n",
       "    </tr>\n",
       "    <tr>\n",
       "      <th>4</th>\n",
       "      <td>Logistic Regression with SMOTE</td>\n",
       "      <td>0.442105</td>\n",
       "      <td>0.214286</td>\n",
       "      <td>0.662360</td>\n",
       "      <td>0.214286</td>\n",
       "      <td>0.295933</td>\n",
       "      <td>1.654097</td>\n",
       "    </tr>\n",
       "    <tr>\n",
       "      <th>4</th>\n",
       "      <td>Logistic Regression with SMOTE</td>\n",
       "      <td>0.442105</td>\n",
       "      <td>0.214286</td>\n",
       "      <td>0.662360</td>\n",
       "      <td>0.214286</td>\n",
       "      <td>0.295933</td>\n",
       "      <td>1.654097</td>\n",
       "    </tr>\n",
       "  </tbody>\n",
       "</table>\n",
       "</div>"
      ],
      "text/plain": [
       "                                 Method  Train Accuracy  Test Accuracy  \\\n",
       "1  Logistic Regression without Sampling        0.754491       0.714286   \n",
       "2      Random Forest with original data        0.955090       0.702381   \n",
       "3     Logistic Regression with Sampling        0.356275       0.083333   \n",
       "4        Logistic Regression with SMOTE        0.442105       0.214286   \n",
       "4        Logistic Regression with SMOTE        0.442105       0.214286   \n",
       "4        Logistic Regression with SMOTE        0.442105       0.214286   \n",
       "\n",
       "   Precision    Recall  F1-Score  Multi-Class Logloss  \n",
       "1   0.553571  0.714286  0.623742             0.894264  \n",
       "2   0.551236  0.702381  0.617697             3.413944  \n",
       "3   0.756481  0.083333  0.073133             1.701462  \n",
       "4   0.662360  0.214286  0.295933             1.654097  \n",
       "4   0.662360  0.214286  0.295933             1.654097  \n",
       "4   0.662360  0.214286  0.295933             1.654097  "
      ]
     },
     "execution_count": 85,
     "metadata": {},
     "output_type": "execute_result"
    }
   ],
   "source": [
    "# Building a Linear Regression model\n",
    "lr = LogisticRegression(solver='lbfgs', multi_class='multinomial', random_state = 1)\n",
    "                                                     \n",
    "# Train and Test the model\n",
    "lr_smote_df = train_test_model(lr, 'Logistic Regression with SMOTE', X_train_smote, X_test, y_train_smote, y_test, 'none', 4, 'no', 'yes', 'no')\n",
    "\n",
    "#Store the accuracy results for each model in a dataframe for final comparison\n",
    "resultsDf = pd.concat([resultsDf,lr_smote_df])\n",
    "resultsDf"
   ]
  },
  {
   "cell_type": "markdown",
   "metadata": {},
   "source": [
    "#### All models - Original data"
   ]
  },
  {
   "cell_type": "code",
   "execution_count": 86,
   "metadata": {},
   "outputs": [
    {
     "name": "stderr",
     "output_type": "stream",
     "text": [
      "C:\\Users\\7uxs48\\Anaconda3\\lib\\site-packages\\sklearn\\metrics\\_classification.py:1221: UndefinedMetricWarning: Precision is ill-defined and being set to 0.0 in labels with no predicted samples. Use `zero_division` parameter to control this behavior.\n",
      "  _warn_prf(average, modifier, msg_start, len(result))\n",
      "C:\\Users\\7uxs48\\Anaconda3\\lib\\site-packages\\sklearn\\metrics\\_classification.py:1221: UndefinedMetricWarning: Precision is ill-defined and being set to 0.0 in labels with no predicted samples. Use `zero_division` parameter to control this behavior.\n",
      "  _warn_prf(average, modifier, msg_start, len(result))\n",
      "C:\\Users\\7uxs48\\Anaconda3\\lib\\site-packages\\sklearn\\metrics\\_classification.py:1221: UndefinedMetricWarning: Precision is ill-defined and being set to 0.0 in labels with no predicted samples. Use `zero_division` parameter to control this behavior.\n",
      "  _warn_prf(average, modifier, msg_start, len(result))\n",
      "C:\\Users\\7uxs48\\Anaconda3\\lib\\site-packages\\sklearn\\metrics\\_classification.py:1221: UndefinedMetricWarning: Precision is ill-defined and being set to 0.0 in labels with no predicted samples. Use `zero_division` parameter to control this behavior.\n",
      "  _warn_prf(average, modifier, msg_start, len(result))\n",
      "C:\\Users\\7uxs48\\Anaconda3\\lib\\site-packages\\sklearn\\metrics\\_classification.py:1221: UndefinedMetricWarning: Precision is ill-defined and being set to 0.0 in labels with no predicted samples. Use `zero_division` parameter to control this behavior.\n",
      "  _warn_prf(average, modifier, msg_start, len(result))\n",
      "C:\\Users\\7uxs48\\Anaconda3\\lib\\site-packages\\sklearn\\metrics\\_classification.py:1221: UndefinedMetricWarning: Precision is ill-defined and being set to 0.0 in labels with no predicted samples. Use `zero_division` parameter to control this behavior.\n",
      "  _warn_prf(average, modifier, msg_start, len(result))\n",
      "C:\\Users\\7uxs48\\Anaconda3\\lib\\site-packages\\sklearn\\metrics\\_classification.py:1221: UndefinedMetricWarning: Precision is ill-defined and being set to 0.0 in labels with no predicted samples. Use `zero_division` parameter to control this behavior.\n",
      "  _warn_prf(average, modifier, msg_start, len(result))\n",
      "C:\\Users\\7uxs48\\Anaconda3\\lib\\site-packages\\sklearn\\metrics\\_classification.py:1221: UndefinedMetricWarning: Precision is ill-defined and being set to 0.0 in labels with no predicted samples. Use `zero_division` parameter to control this behavior.\n",
      "  _warn_prf(average, modifier, msg_start, len(result))\n",
      "C:\\Users\\7uxs48\\Anaconda3\\lib\\site-packages\\sklearn\\metrics\\_classification.py:1221: UndefinedMetricWarning: Precision is ill-defined and being set to 0.0 in labels with no predicted samples. Use `zero_division` parameter to control this behavior.\n",
      "  _warn_prf(average, modifier, msg_start, len(result))\n",
      "C:\\Users\\7uxs48\\Anaconda3\\lib\\site-packages\\xgboost\\sklearn.py:1146: UserWarning: The use of label encoder in XGBClassifier is deprecated and will be removed in a future release. To remove this warning, do the following: 1) Pass option use_label_encoder=False when constructing XGBClassifier object; and 2) Encode your labels (y) as integers starting with 0, i.e. 0, 1, 2, ..., [num_class - 1].\n",
      "  warnings.warn(label_encoder_deprecation_msg, UserWarning)\n"
     ]
    },
    {
     "name": "stdout",
     "output_type": "stream",
     "text": [
      "[01:06:58] WARNING: C:/Users/Administrator/workspace/xgboost-win64_release_1.4.0/src/learner.cc:1095: Starting in XGBoost 1.3.0, the default evaluation metric used with the objective 'multi:softprob' was changed from 'merror' to 'mlogloss'. Explicitly set eval_metric if you'd like to restore the old behavior.\n"
     ]
    },
    {
     "data": {
      "text/html": [
       "<div>\n",
       "<style scoped>\n",
       "    .dataframe tbody tr th:only-of-type {\n",
       "        vertical-align: middle;\n",
       "    }\n",
       "\n",
       "    .dataframe tbody tr th {\n",
       "        vertical-align: top;\n",
       "    }\n",
       "\n",
       "    .dataframe thead th {\n",
       "        text-align: right;\n",
       "    }\n",
       "</style>\n",
       "<table border=\"1\" class=\"dataframe\">\n",
       "  <thead>\n",
       "    <tr style=\"text-align: right;\">\n",
       "      <th></th>\n",
       "      <th>Method</th>\n",
       "      <th>Train Accuracy</th>\n",
       "      <th>Test Accuracy</th>\n",
       "      <th>Precision</th>\n",
       "      <th>Recall</th>\n",
       "      <th>F1-Score</th>\n",
       "      <th>Multi-Class Logloss</th>\n",
       "    </tr>\n",
       "  </thead>\n",
       "  <tbody>\n",
       "    <tr>\n",
       "      <th>1</th>\n",
       "      <td>LogisticRegression</td>\n",
       "      <td>0.754491</td>\n",
       "      <td>0.714286</td>\n",
       "      <td>0.553571</td>\n",
       "      <td>0.714286</td>\n",
       "      <td>0.623742</td>\n",
       "      <td>0.894264</td>\n",
       "    </tr>\n",
       "    <tr>\n",
       "      <th>2</th>\n",
       "      <td>RidgeClassifier</td>\n",
       "      <td>0.757485</td>\n",
       "      <td>0.726190</td>\n",
       "      <td>0.562798</td>\n",
       "      <td>0.726190</td>\n",
       "      <td>0.634138</td>\n",
       "      <td>1.000000</td>\n",
       "    </tr>\n",
       "    <tr>\n",
       "      <th>3</th>\n",
       "      <td>KNeighborsClassifier</td>\n",
       "      <td>0.742515</td>\n",
       "      <td>0.726190</td>\n",
       "      <td>0.601190</td>\n",
       "      <td>0.726190</td>\n",
       "      <td>0.642790</td>\n",
       "      <td>6.094028</td>\n",
       "    </tr>\n",
       "    <tr>\n",
       "      <th>4</th>\n",
       "      <td>SVC</td>\n",
       "      <td>0.739521</td>\n",
       "      <td>0.738095</td>\n",
       "      <td>0.544785</td>\n",
       "      <td>0.738095</td>\n",
       "      <td>0.626875</td>\n",
       "      <td>0.902108</td>\n",
       "    </tr>\n",
       "    <tr>\n",
       "      <th>5</th>\n",
       "      <td>DecisionTreeClassifier</td>\n",
       "      <td>0.994012</td>\n",
       "      <td>0.607143</td>\n",
       "      <td>0.609599</td>\n",
       "      <td>0.607143</td>\n",
       "      <td>0.606349</td>\n",
       "      <td>13.577057</td>\n",
       "    </tr>\n",
       "    <tr>\n",
       "      <th>6</th>\n",
       "      <td>RandomForestClassifier</td>\n",
       "      <td>0.955090</td>\n",
       "      <td>0.702381</td>\n",
       "      <td>0.551236</td>\n",
       "      <td>0.702381</td>\n",
       "      <td>0.617697</td>\n",
       "      <td>3.413944</td>\n",
       "    </tr>\n",
       "    <tr>\n",
       "      <th>7</th>\n",
       "      <td>BaggingClassifier</td>\n",
       "      <td>0.964072</td>\n",
       "      <td>0.714286</td>\n",
       "      <td>0.553571</td>\n",
       "      <td>0.714286</td>\n",
       "      <td>0.623742</td>\n",
       "      <td>2.304895</td>\n",
       "    </tr>\n",
       "    <tr>\n",
       "      <th>8</th>\n",
       "      <td>ExtraTreesClassifier</td>\n",
       "      <td>0.994012</td>\n",
       "      <td>0.726190</td>\n",
       "      <td>0.549071</td>\n",
       "      <td>0.726190</td>\n",
       "      <td>0.625331</td>\n",
       "      <td>1.235876</td>\n",
       "    </tr>\n",
       "    <tr>\n",
       "      <th>9</th>\n",
       "      <td>AdaBoostClassifier</td>\n",
       "      <td>0.736527</td>\n",
       "      <td>0.726190</td>\n",
       "      <td>0.663004</td>\n",
       "      <td>0.726190</td>\n",
       "      <td>0.653817</td>\n",
       "      <td>1.252899</td>\n",
       "    </tr>\n",
       "    <tr>\n",
       "      <th>10</th>\n",
       "      <td>GradientBoostingClassifier</td>\n",
       "      <td>0.937126</td>\n",
       "      <td>0.690476</td>\n",
       "      <td>0.579683</td>\n",
       "      <td>0.690476</td>\n",
       "      <td>0.629380</td>\n",
       "      <td>0.967042</td>\n",
       "    </tr>\n",
       "    <tr>\n",
       "      <th>11</th>\n",
       "      <td>LGBMClassifier</td>\n",
       "      <td>0.991018</td>\n",
       "      <td>0.785714</td>\n",
       "      <td>0.709365</td>\n",
       "      <td>0.785714</td>\n",
       "      <td>0.731260</td>\n",
       "      <td>1.080878</td>\n",
       "    </tr>\n",
       "    <tr>\n",
       "      <th>12</th>\n",
       "      <td>XGBClassifier</td>\n",
       "      <td>0.826347</td>\n",
       "      <td>0.738095</td>\n",
       "      <td>0.610853</td>\n",
       "      <td>0.738095</td>\n",
       "      <td>0.665776</td>\n",
       "      <td>0.883221</td>\n",
       "    </tr>\n",
       "  </tbody>\n",
       "</table>\n",
       "</div>"
      ],
      "text/plain": [
       "                        Method  Train Accuracy  Test Accuracy  Precision  \\\n",
       "1           LogisticRegression        0.754491       0.714286   0.553571   \n",
       "2              RidgeClassifier        0.757485       0.726190   0.562798   \n",
       "3         KNeighborsClassifier        0.742515       0.726190   0.601190   \n",
       "4                          SVC        0.739521       0.738095   0.544785   \n",
       "5       DecisionTreeClassifier        0.994012       0.607143   0.609599   \n",
       "6       RandomForestClassifier        0.955090       0.702381   0.551236   \n",
       "7            BaggingClassifier        0.964072       0.714286   0.553571   \n",
       "8         ExtraTreesClassifier        0.994012       0.726190   0.549071   \n",
       "9           AdaBoostClassifier        0.736527       0.726190   0.663004   \n",
       "10  GradientBoostingClassifier        0.937126       0.690476   0.579683   \n",
       "11              LGBMClassifier        0.991018       0.785714   0.709365   \n",
       "12               XGBClassifier        0.826347       0.738095   0.610853   \n",
       "\n",
       "      Recall  F1-Score  Multi-Class Logloss  \n",
       "1   0.714286  0.623742             0.894264  \n",
       "2   0.726190  0.634138             1.000000  \n",
       "3   0.726190  0.642790             6.094028  \n",
       "4   0.738095  0.626875             0.902108  \n",
       "5   0.607143  0.606349            13.577057  \n",
       "6   0.702381  0.617697             3.413944  \n",
       "7   0.714286  0.623742             2.304895  \n",
       "8   0.726190  0.625331             1.235876  \n",
       "9   0.726190  0.653817             1.252899  \n",
       "10  0.690476  0.629380             0.967042  \n",
       "11  0.785714  0.731260             1.080878  \n",
       "12  0.738095  0.665776             0.883221  "
      ]
     },
     "execution_count": 86,
     "metadata": {},
     "output_type": "execute_result"
    }
   ],
   "source": [
    "# Train and Test all models with Lasso interaction terms\n",
    "train_test_allmodels(X_train, X_test, y_train, y_test, 'no')"
   ]
  },
  {
   "cell_type": "markdown",
   "metadata": {},
   "source": [
    "#### All models - Oversampling data"
   ]
  },
  {
   "cell_type": "code",
   "execution_count": 87,
   "metadata": {},
   "outputs": [
    {
     "name": "stderr",
     "output_type": "stream",
     "text": [
      "C:\\Users\\7uxs48\\Anaconda3\\lib\\site-packages\\sklearn\\linear_model\\_logistic.py:762: ConvergenceWarning: lbfgs failed to converge (status=1):\n",
      "STOP: TOTAL NO. of ITERATIONS REACHED LIMIT.\n",
      "\n",
      "Increase the number of iterations (max_iter) or scale the data as shown in:\n",
      "    https://scikit-learn.org/stable/modules/preprocessing.html\n",
      "Please also refer to the documentation for alternative solver options:\n",
      "    https://scikit-learn.org/stable/modules/linear_model.html#logistic-regression\n",
      "  n_iter_i = _check_optimize_result(\n",
      "C:\\Users\\7uxs48\\Anaconda3\\lib\\site-packages\\sklearn\\metrics\\_classification.py:1221: UndefinedMetricWarning: Precision is ill-defined and being set to 0.0 in labels with no predicted samples. Use `zero_division` parameter to control this behavior.\n",
      "  _warn_prf(average, modifier, msg_start, len(result))\n",
      "C:\\Users\\7uxs48\\Anaconda3\\lib\\site-packages\\sklearn\\metrics\\_classification.py:1221: UndefinedMetricWarning: Precision is ill-defined and being set to 0.0 in labels with no predicted samples. Use `zero_division` parameter to control this behavior.\n",
      "  _warn_prf(average, modifier, msg_start, len(result))\n",
      "C:\\Users\\7uxs48\\Anaconda3\\lib\\site-packages\\sklearn\\metrics\\_classification.py:1221: UndefinedMetricWarning: Precision is ill-defined and being set to 0.0 in labels with no predicted samples. Use `zero_division` parameter to control this behavior.\n",
      "  _warn_prf(average, modifier, msg_start, len(result))\n",
      "C:\\Users\\7uxs48\\Anaconda3\\lib\\site-packages\\sklearn\\metrics\\_classification.py:1221: UndefinedMetricWarning: Precision is ill-defined and being set to 0.0 in labels with no predicted samples. Use `zero_division` parameter to control this behavior.\n",
      "  _warn_prf(average, modifier, msg_start, len(result))\n",
      "C:\\Users\\7uxs48\\Anaconda3\\lib\\site-packages\\sklearn\\metrics\\_classification.py:1221: UndefinedMetricWarning: Precision is ill-defined and being set to 0.0 in labels with no predicted samples. Use `zero_division` parameter to control this behavior.\n",
      "  _warn_prf(average, modifier, msg_start, len(result))\n",
      "C:\\Users\\7uxs48\\Anaconda3\\lib\\site-packages\\sklearn\\metrics\\_classification.py:1221: UndefinedMetricWarning: Precision is ill-defined and being set to 0.0 in labels with no predicted samples. Use `zero_division` parameter to control this behavior.\n",
      "  _warn_prf(average, modifier, msg_start, len(result))\n",
      "C:\\Users\\7uxs48\\Anaconda3\\lib\\site-packages\\sklearn\\metrics\\_classification.py:1221: UndefinedMetricWarning: Precision is ill-defined and being set to 0.0 in labels with no predicted samples. Use `zero_division` parameter to control this behavior.\n",
      "  _warn_prf(average, modifier, msg_start, len(result))\n",
      "C:\\Users\\7uxs48\\Anaconda3\\lib\\site-packages\\xgboost\\sklearn.py:1146: UserWarning: The use of label encoder in XGBClassifier is deprecated and will be removed in a future release. To remove this warning, do the following: 1) Pass option use_label_encoder=False when constructing XGBClassifier object; and 2) Encode your labels (y) as integers starting with 0, i.e. 0, 1, 2, ..., [num_class - 1].\n",
      "  warnings.warn(label_encoder_deprecation_msg, UserWarning)\n"
     ]
    },
    {
     "name": "stdout",
     "output_type": "stream",
     "text": [
      "[01:07:24] WARNING: C:/Users/Administrator/workspace/xgboost-win64_release_1.4.0/src/learner.cc:1095: Starting in XGBoost 1.3.0, the default evaluation metric used with the objective 'multi:softprob' was changed from 'merror' to 'mlogloss'. Explicitly set eval_metric if you'd like to restore the old behavior.\n"
     ]
    },
    {
     "data": {
      "text/html": [
       "<div>\n",
       "<style scoped>\n",
       "    .dataframe tbody tr th:only-of-type {\n",
       "        vertical-align: middle;\n",
       "    }\n",
       "\n",
       "    .dataframe tbody tr th {\n",
       "        vertical-align: top;\n",
       "    }\n",
       "\n",
       "    .dataframe thead th {\n",
       "        text-align: right;\n",
       "    }\n",
       "</style>\n",
       "<table border=\"1\" class=\"dataframe\">\n",
       "  <thead>\n",
       "    <tr style=\"text-align: right;\">\n",
       "      <th></th>\n",
       "      <th>Method</th>\n",
       "      <th>Train Accuracy</th>\n",
       "      <th>Test Accuracy</th>\n",
       "      <th>Precision</th>\n",
       "      <th>Recall</th>\n",
       "      <th>F1-Score</th>\n",
       "      <th>Multi-Class Logloss</th>\n",
       "    </tr>\n",
       "  </thead>\n",
       "  <tbody>\n",
       "    <tr>\n",
       "      <th>1</th>\n",
       "      <td>LogisticRegression</td>\n",
       "      <td>0.356275</td>\n",
       "      <td>0.083333</td>\n",
       "      <td>0.756481</td>\n",
       "      <td>0.083333</td>\n",
       "      <td>0.073133</td>\n",
       "      <td>1.701462</td>\n",
       "    </tr>\n",
       "    <tr>\n",
       "      <th>2</th>\n",
       "      <td>RidgeClassifier</td>\n",
       "      <td>0.799190</td>\n",
       "      <td>0.738095</td>\n",
       "      <td>0.544785</td>\n",
       "      <td>0.738095</td>\n",
       "      <td>0.626875</td>\n",
       "      <td>1.000000</td>\n",
       "    </tr>\n",
       "    <tr>\n",
       "      <th>3</th>\n",
       "      <td>KNeighborsClassifier</td>\n",
       "      <td>0.948988</td>\n",
       "      <td>0.250000</td>\n",
       "      <td>0.596057</td>\n",
       "      <td>0.250000</td>\n",
       "      <td>0.298241</td>\n",
       "      <td>8.882442</td>\n",
       "    </tr>\n",
       "    <tr>\n",
       "      <th>4</th>\n",
       "      <td>SVC</td>\n",
       "      <td>0.289069</td>\n",
       "      <td>0.071429</td>\n",
       "      <td>0.005102</td>\n",
       "      <td>0.071429</td>\n",
       "      <td>0.009524</td>\n",
       "      <td>1.597353</td>\n",
       "    </tr>\n",
       "    <tr>\n",
       "      <th>5</th>\n",
       "      <td>DecisionTreeClassifier</td>\n",
       "      <td>0.998381</td>\n",
       "      <td>0.583333</td>\n",
       "      <td>0.652791</td>\n",
       "      <td>0.583333</td>\n",
       "      <td>0.604478</td>\n",
       "      <td>14.391157</td>\n",
       "    </tr>\n",
       "    <tr>\n",
       "      <th>6</th>\n",
       "      <td>RandomForestClassifier</td>\n",
       "      <td>0.998381</td>\n",
       "      <td>0.702381</td>\n",
       "      <td>0.637131</td>\n",
       "      <td>0.702381</td>\n",
       "      <td>0.628391</td>\n",
       "      <td>3.131216</td>\n",
       "    </tr>\n",
       "    <tr>\n",
       "      <th>7</th>\n",
       "      <td>BaggingClassifier</td>\n",
       "      <td>0.998381</td>\n",
       "      <td>0.702381</td>\n",
       "      <td>0.589697</td>\n",
       "      <td>0.702381</td>\n",
       "      <td>0.641106</td>\n",
       "      <td>1.641985</td>\n",
       "    </tr>\n",
       "    <tr>\n",
       "      <th>8</th>\n",
       "      <td>ExtraTreesClassifier</td>\n",
       "      <td>0.998381</td>\n",
       "      <td>0.690476</td>\n",
       "      <td>0.541893</td>\n",
       "      <td>0.690476</td>\n",
       "      <td>0.607227</td>\n",
       "      <td>1.684021</td>\n",
       "    </tr>\n",
       "    <tr>\n",
       "      <th>9</th>\n",
       "      <td>AdaBoostClassifier</td>\n",
       "      <td>0.356275</td>\n",
       "      <td>0.738095</td>\n",
       "      <td>0.544785</td>\n",
       "      <td>0.738095</td>\n",
       "      <td>0.626875</td>\n",
       "      <td>1.236702</td>\n",
       "    </tr>\n",
       "    <tr>\n",
       "      <th>10</th>\n",
       "      <td>GradientBoostingClassifier</td>\n",
       "      <td>0.963563</td>\n",
       "      <td>0.666667</td>\n",
       "      <td>0.672224</td>\n",
       "      <td>0.666667</td>\n",
       "      <td>0.668098</td>\n",
       "      <td>0.997115</td>\n",
       "    </tr>\n",
       "    <tr>\n",
       "      <th>11</th>\n",
       "      <td>LGBMClassifier</td>\n",
       "      <td>0.998381</td>\n",
       "      <td>0.750000</td>\n",
       "      <td>0.651088</td>\n",
       "      <td>0.750000</td>\n",
       "      <td>0.665985</td>\n",
       "      <td>1.658342</td>\n",
       "    </tr>\n",
       "    <tr>\n",
       "      <th>12</th>\n",
       "      <td>XGBClassifier</td>\n",
       "      <td>0.995142</td>\n",
       "      <td>0.726190</td>\n",
       "      <td>0.655686</td>\n",
       "      <td>0.726190</td>\n",
       "      <td>0.682237</td>\n",
       "      <td>0.882227</td>\n",
       "    </tr>\n",
       "  </tbody>\n",
       "</table>\n",
       "</div>"
      ],
      "text/plain": [
       "                        Method  Train Accuracy  Test Accuracy  Precision  \\\n",
       "1           LogisticRegression        0.356275       0.083333   0.756481   \n",
       "2              RidgeClassifier        0.799190       0.738095   0.544785   \n",
       "3         KNeighborsClassifier        0.948988       0.250000   0.596057   \n",
       "4                          SVC        0.289069       0.071429   0.005102   \n",
       "5       DecisionTreeClassifier        0.998381       0.583333   0.652791   \n",
       "6       RandomForestClassifier        0.998381       0.702381   0.637131   \n",
       "7            BaggingClassifier        0.998381       0.702381   0.589697   \n",
       "8         ExtraTreesClassifier        0.998381       0.690476   0.541893   \n",
       "9           AdaBoostClassifier        0.356275       0.738095   0.544785   \n",
       "10  GradientBoostingClassifier        0.963563       0.666667   0.672224   \n",
       "11              LGBMClassifier        0.998381       0.750000   0.651088   \n",
       "12               XGBClassifier        0.995142       0.726190   0.655686   \n",
       "\n",
       "      Recall  F1-Score  Multi-Class Logloss  \n",
       "1   0.083333  0.073133             1.701462  \n",
       "2   0.738095  0.626875             1.000000  \n",
       "3   0.250000  0.298241             8.882442  \n",
       "4   0.071429  0.009524             1.597353  \n",
       "5   0.583333  0.604478            14.391157  \n",
       "6   0.702381  0.628391             3.131216  \n",
       "7   0.702381  0.641106             1.641985  \n",
       "8   0.690476  0.607227             1.684021  \n",
       "9   0.738095  0.626875             1.236702  \n",
       "10  0.666667  0.668098             0.997115  \n",
       "11  0.750000  0.665985             1.658342  \n",
       "12  0.726190  0.682237             0.882227  "
      ]
     },
     "execution_count": 87,
     "metadata": {},
     "output_type": "execute_result"
    }
   ],
   "source": [
    "# Train and Test all models with Lasso interaction terms\n",
    "train_test_allmodels(X_train_up, X_test, y_train_up, y_test, 'no')"
   ]
  },
  {
   "cell_type": "code",
   "execution_count": null,
   "metadata": {},
   "outputs": [],
   "source": [
    "#### All models - SMOTE data"
   ]
  },
  {
   "cell_type": "code",
   "execution_count": 88,
   "metadata": {},
   "outputs": [
    {
     "name": "stderr",
     "output_type": "stream",
     "text": [
      "C:\\Users\\7uxs48\\Anaconda3\\lib\\site-packages\\sklearn\\utils\\validation.py:72: DataConversionWarning: A column-vector y was passed when a 1d array was expected. Please change the shape of y to (n_samples, ), for example using ravel().\n",
      "  return f(**kwargs)\n",
      "C:\\Users\\7uxs48\\Anaconda3\\lib\\site-packages\\sklearn\\linear_model\\_logistic.py:762: ConvergenceWarning: lbfgs failed to converge (status=1):\n",
      "STOP: TOTAL NO. of ITERATIONS REACHED LIMIT.\n",
      "\n",
      "Increase the number of iterations (max_iter) or scale the data as shown in:\n",
      "    https://scikit-learn.org/stable/modules/preprocessing.html\n",
      "Please also refer to the documentation for alternative solver options:\n",
      "    https://scikit-learn.org/stable/modules/linear_model.html#logistic-regression\n",
      "  n_iter_i = _check_optimize_result(\n",
      "C:\\Users\\7uxs48\\Anaconda3\\lib\\site-packages\\sklearn\\utils\\validation.py:72: DataConversionWarning: A column-vector y was passed when a 1d array was expected. Please change the shape of y to (n_samples, ), for example using ravel().\n",
      "  return f(**kwargs)\n",
      "C:\\Users\\7uxs48\\Anaconda3\\lib\\site-packages\\sklearn\\metrics\\_classification.py:1221: UndefinedMetricWarning: Precision is ill-defined and being set to 0.0 in labels with no predicted samples. Use `zero_division` parameter to control this behavior.\n",
      "  _warn_prf(average, modifier, msg_start, len(result))\n",
      "<ipython-input-74-1b1759dccc4a>:11: DataConversionWarning: A column-vector y was passed when a 1d array was expected. Please change the shape of y to (n_samples, ), for example using ravel().\n",
      "  model.fit(X_train, y_train) # Fit the model on Training set\n",
      "C:\\Users\\7uxs48\\Anaconda3\\lib\\site-packages\\sklearn\\metrics\\_classification.py:1221: UndefinedMetricWarning: Precision is ill-defined and being set to 0.0 in labels with no predicted samples. Use `zero_division` parameter to control this behavior.\n",
      "  _warn_prf(average, modifier, msg_start, len(result))\n",
      "C:\\Users\\7uxs48\\Anaconda3\\lib\\site-packages\\sklearn\\utils\\validation.py:72: DataConversionWarning: A column-vector y was passed when a 1d array was expected. Please change the shape of y to (n_samples, ), for example using ravel().\n",
      "  return f(**kwargs)\n",
      "C:\\Users\\7uxs48\\Anaconda3\\lib\\site-packages\\sklearn\\metrics\\_classification.py:1221: UndefinedMetricWarning: Precision is ill-defined and being set to 0.0 in labels with no predicted samples. Use `zero_division` parameter to control this behavior.\n",
      "  _warn_prf(average, modifier, msg_start, len(result))\n",
      "<ipython-input-74-1b1759dccc4a>:11: DataConversionWarning: A column-vector y was passed when a 1d array was expected. Please change the shape of y to (n_samples,), for example using ravel().\n",
      "  model.fit(X_train, y_train) # Fit the model on Training set\n",
      "C:\\Users\\7uxs48\\Anaconda3\\lib\\site-packages\\sklearn\\metrics\\_classification.py:1221: UndefinedMetricWarning: Precision is ill-defined and being set to 0.0 in labels with no predicted samples. Use `zero_division` parameter to control this behavior.\n",
      "  _warn_prf(average, modifier, msg_start, len(result))\n",
      "C:\\Users\\7uxs48\\Anaconda3\\lib\\site-packages\\sklearn\\utils\\validation.py:72: DataConversionWarning: A column-vector y was passed when a 1d array was expected. Please change the shape of y to (n_samples, ), for example using ravel().\n",
      "  return f(**kwargs)\n",
      "<ipython-input-74-1b1759dccc4a>:11: DataConversionWarning: A column-vector y was passed when a 1d array was expected. Please change the shape of y to (n_samples,), for example using ravel().\n",
      "  model.fit(X_train, y_train) # Fit the model on Training set\n",
      "C:\\Users\\7uxs48\\Anaconda3\\lib\\site-packages\\sklearn\\metrics\\_classification.py:1221: UndefinedMetricWarning: Precision is ill-defined and being set to 0.0 in labels with no predicted samples. Use `zero_division` parameter to control this behavior.\n",
      "  _warn_prf(average, modifier, msg_start, len(result))\n",
      "C:\\Users\\7uxs48\\Anaconda3\\lib\\site-packages\\sklearn\\utils\\validation.py:72: DataConversionWarning: A column-vector y was passed when a 1d array was expected. Please change the shape of y to (n_samples, ), for example using ravel().\n",
      "  return f(**kwargs)\n",
      "C:\\Users\\7uxs48\\Anaconda3\\lib\\site-packages\\sklearn\\metrics\\_classification.py:1221: UndefinedMetricWarning: Precision is ill-defined and being set to 0.0 in labels with no predicted samples. Use `zero_division` parameter to control this behavior.\n",
      "  _warn_prf(average, modifier, msg_start, len(result))\n",
      "C:\\Users\\7uxs48\\Anaconda3\\lib\\site-packages\\sklearn\\utils\\validation.py:72: DataConversionWarning: A column-vector y was passed when a 1d array was expected. Please change the shape of y to (n_samples, ), for example using ravel().\n",
      "  return f(**kwargs)\n",
      "C:\\Users\\7uxs48\\Anaconda3\\lib\\site-packages\\sklearn\\utils\\validation.py:72: DataConversionWarning: A column-vector y was passed when a 1d array was expected. Please change the shape of y to (n_samples, ), for example using ravel().\n",
      "  return f(**kwargs)\n",
      "C:\\Users\\7uxs48\\Anaconda3\\lib\\site-packages\\xgboost\\sklearn.py:1146: UserWarning: The use of label encoder in XGBClassifier is deprecated and will be removed in a future release. To remove this warning, do the following: 1) Pass option use_label_encoder=False when constructing XGBClassifier object; and 2) Encode your labels (y) as integers starting with 0, i.e. 0, 1, 2, ..., [num_class - 1].\n",
      "  warnings.warn(label_encoder_deprecation_msg, UserWarning)\n"
     ]
    },
    {
     "name": "stdout",
     "output_type": "stream",
     "text": [
      "[01:07:41] WARNING: C:/Users/Administrator/workspace/xgboost-win64_release_1.4.0/src/learner.cc:1095: Starting in XGBoost 1.3.0, the default evaluation metric used with the objective 'multi:softprob' was changed from 'merror' to 'mlogloss'. Explicitly set eval_metric if you'd like to restore the old behavior.\n"
     ]
    },
    {
     "name": "stderr",
     "output_type": "stream",
     "text": [
      "C:\\Users\\7uxs48\\Anaconda3\\lib\\site-packages\\sklearn\\metrics\\_classification.py:1221: UndefinedMetricWarning: Precision is ill-defined and being set to 0.0 in labels with no predicted samples. Use `zero_division` parameter to control this behavior.\n",
      "  _warn_prf(average, modifier, msg_start, len(result))\n"
     ]
    },
    {
     "data": {
      "text/html": [
       "<div>\n",
       "<style scoped>\n",
       "    .dataframe tbody tr th:only-of-type {\n",
       "        vertical-align: middle;\n",
       "    }\n",
       "\n",
       "    .dataframe tbody tr th {\n",
       "        vertical-align: top;\n",
       "    }\n",
       "\n",
       "    .dataframe thead th {\n",
       "        text-align: right;\n",
       "    }\n",
       "</style>\n",
       "<table border=\"1\" class=\"dataframe\">\n",
       "  <thead>\n",
       "    <tr style=\"text-align: right;\">\n",
       "      <th></th>\n",
       "      <th>Method</th>\n",
       "      <th>Train Accuracy</th>\n",
       "      <th>Test Accuracy</th>\n",
       "      <th>Precision</th>\n",
       "      <th>Recall</th>\n",
       "      <th>F1-Score</th>\n",
       "      <th>Multi-Class Logloss</th>\n",
       "    </tr>\n",
       "  </thead>\n",
       "  <tbody>\n",
       "    <tr>\n",
       "      <th>1</th>\n",
       "      <td>LogisticRegression</td>\n",
       "      <td>0.442105</td>\n",
       "      <td>0.214286</td>\n",
       "      <td>0.662360</td>\n",
       "      <td>0.214286</td>\n",
       "      <td>0.295933</td>\n",
       "      <td>1.654097</td>\n",
       "    </tr>\n",
       "    <tr>\n",
       "      <th>2</th>\n",
       "      <td>RidgeClassifier</td>\n",
       "      <td>0.791903</td>\n",
       "      <td>0.071429</td>\n",
       "      <td>0.005102</td>\n",
       "      <td>0.071429</td>\n",
       "      <td>0.009524</td>\n",
       "      <td>1.000000</td>\n",
       "    </tr>\n",
       "    <tr>\n",
       "      <th>3</th>\n",
       "      <td>KNeighborsClassifier</td>\n",
       "      <td>0.907692</td>\n",
       "      <td>0.154762</td>\n",
       "      <td>0.497024</td>\n",
       "      <td>0.154762</td>\n",
       "      <td>0.168746</td>\n",
       "      <td>8.948456</td>\n",
       "    </tr>\n",
       "    <tr>\n",
       "      <th>4</th>\n",
       "      <td>SVC</td>\n",
       "      <td>0.295547</td>\n",
       "      <td>0.071429</td>\n",
       "      <td>0.005102</td>\n",
       "      <td>0.071429</td>\n",
       "      <td>0.009524</td>\n",
       "      <td>1.595718</td>\n",
       "    </tr>\n",
       "    <tr>\n",
       "      <th>5</th>\n",
       "      <td>DecisionTreeClassifier</td>\n",
       "      <td>0.998381</td>\n",
       "      <td>0.416667</td>\n",
       "      <td>0.518088</td>\n",
       "      <td>0.416667</td>\n",
       "      <td>0.454445</td>\n",
       "      <td>20.147620</td>\n",
       "    </tr>\n",
       "    <tr>\n",
       "      <th>6</th>\n",
       "      <td>RandomForestClassifier</td>\n",
       "      <td>0.995951</td>\n",
       "      <td>0.666667</td>\n",
       "      <td>0.615242</td>\n",
       "      <td>0.666667</td>\n",
       "      <td>0.637530</td>\n",
       "      <td>2.447109</td>\n",
       "    </tr>\n",
       "    <tr>\n",
       "      <th>7</th>\n",
       "      <td>BaggingClassifier</td>\n",
       "      <td>0.995142</td>\n",
       "      <td>0.595238</td>\n",
       "      <td>0.589683</td>\n",
       "      <td>0.595238</td>\n",
       "      <td>0.588342</td>\n",
       "      <td>2.539121</td>\n",
       "    </tr>\n",
       "    <tr>\n",
       "      <th>8</th>\n",
       "      <td>ExtraTreesClassifier</td>\n",
       "      <td>0.998381</td>\n",
       "      <td>0.607143</td>\n",
       "      <td>0.581406</td>\n",
       "      <td>0.607143</td>\n",
       "      <td>0.591702</td>\n",
       "      <td>1.784046</td>\n",
       "    </tr>\n",
       "    <tr>\n",
       "      <th>9</th>\n",
       "      <td>AdaBoostClassifier</td>\n",
       "      <td>0.542510</td>\n",
       "      <td>0.726190</td>\n",
       "      <td>0.555850</td>\n",
       "      <td>0.726190</td>\n",
       "      <td>0.629704</td>\n",
       "      <td>1.311231</td>\n",
       "    </tr>\n",
       "    <tr>\n",
       "      <th>10</th>\n",
       "      <td>GradientBoostingClassifier</td>\n",
       "      <td>0.964372</td>\n",
       "      <td>0.607143</td>\n",
       "      <td>0.619983</td>\n",
       "      <td>0.607143</td>\n",
       "      <td>0.602237</td>\n",
       "      <td>1.089282</td>\n",
       "    </tr>\n",
       "    <tr>\n",
       "      <th>11</th>\n",
       "      <td>LGBMClassifier</td>\n",
       "      <td>0.997571</td>\n",
       "      <td>0.714286</td>\n",
       "      <td>0.599619</td>\n",
       "      <td>0.714286</td>\n",
       "      <td>0.645185</td>\n",
       "      <td>1.389368</td>\n",
       "    </tr>\n",
       "    <tr>\n",
       "      <th>12</th>\n",
       "      <td>XGBClassifier</td>\n",
       "      <td>0.985425</td>\n",
       "      <td>0.630952</td>\n",
       "      <td>0.633826</td>\n",
       "      <td>0.630952</td>\n",
       "      <td>0.624093</td>\n",
       "      <td>1.109871</td>\n",
       "    </tr>\n",
       "  </tbody>\n",
       "</table>\n",
       "</div>"
      ],
      "text/plain": [
       "                        Method  Train Accuracy  Test Accuracy  Precision  \\\n",
       "1           LogisticRegression        0.442105       0.214286   0.662360   \n",
       "2              RidgeClassifier        0.791903       0.071429   0.005102   \n",
       "3         KNeighborsClassifier        0.907692       0.154762   0.497024   \n",
       "4                          SVC        0.295547       0.071429   0.005102   \n",
       "5       DecisionTreeClassifier        0.998381       0.416667   0.518088   \n",
       "6       RandomForestClassifier        0.995951       0.666667   0.615242   \n",
       "7            BaggingClassifier        0.995142       0.595238   0.589683   \n",
       "8         ExtraTreesClassifier        0.998381       0.607143   0.581406   \n",
       "9           AdaBoostClassifier        0.542510       0.726190   0.555850   \n",
       "10  GradientBoostingClassifier        0.964372       0.607143   0.619983   \n",
       "11              LGBMClassifier        0.997571       0.714286   0.599619   \n",
       "12               XGBClassifier        0.985425       0.630952   0.633826   \n",
       "\n",
       "      Recall  F1-Score  Multi-Class Logloss  \n",
       "1   0.214286  0.295933             1.654097  \n",
       "2   0.071429  0.009524             1.000000  \n",
       "3   0.154762  0.168746             8.948456  \n",
       "4   0.071429  0.009524             1.595718  \n",
       "5   0.416667  0.454445            20.147620  \n",
       "6   0.666667  0.637530             2.447109  \n",
       "7   0.595238  0.588342             2.539121  \n",
       "8   0.607143  0.591702             1.784046  \n",
       "9   0.726190  0.629704             1.311231  \n",
       "10  0.607143  0.602237             1.089282  \n",
       "11  0.714286  0.645185             1.389368  \n",
       "12  0.630952  0.624093             1.109871  "
      ]
     },
     "execution_count": 88,
     "metadata": {},
     "output_type": "execute_result"
    }
   ],
   "source": [
    "# Train and Test all models with Lasso interaction terms\n",
    "train_test_allmodels(X_train_smote, X_test, y_train_smote, y_test, 'no')"
   ]
  },
  {
   "cell_type": "code",
   "execution_count": 89,
   "metadata": {},
   "outputs": [],
   "source": [
    "### By comparing the results from all above methods, all are over fitting the training data."
   ]
  },
  {
   "cell_type": "code",
   "execution_count": null,
   "metadata": {},
   "outputs": [
    {
     "name": "stderr",
     "output_type": "stream",
     "text": [
      "C:\\Users\\7uxs48\\Anaconda3\\lib\\site-packages\\sklearn\\model_selection\\_split.py:670: UserWarning: The least populated class in y has only 6 members, which is less than n_splits=10.\n",
      "  warnings.warn((\"The least populated class in y has only %d\"\n",
      "C:\\Users\\7uxs48\\Anaconda3\\lib\\site-packages\\sklearn\\model_selection\\_split.py:670: UserWarning: The least populated class in y has only 6 members, which is less than n_splits=10.\n",
      "  warnings.warn((\"The least populated class in y has only %d\"\n",
      "C:\\Users\\7uxs48\\Anaconda3\\lib\\site-packages\\sklearn\\model_selection\\_split.py:670: UserWarning: The least populated class in y has only 6 members, which is less than n_splits=10.\n",
      "  warnings.warn((\"The least populated class in y has only %d\"\n"
     ]
    },
    {
     "name": "stdout",
     "output_type": "stream",
     "text": [
      "Best F1_Score: -0.907606 using {'C': 0.01, 'penalty': 'l2', 'solver': 'saga'}\n",
      "-0.907606 (0.062365) with: {'C': 0.01, 'penalty': 'l2', 'solver': 'saga'}\n",
      "95% Confidence interval range: (-1.0323 %, -0.7829 %)\n",
      "Total duration 19.536131858825684 \n",
      "\n"
     ]
    },
    {
     "name": "stderr",
     "output_type": "stream",
     "text": [
      "C:\\Users\\7uxs48\\Anaconda3\\lib\\site-packages\\sklearn\\model_selection\\_split.py:670: UserWarning: The least populated class in y has only 6 members, which is less than n_splits=10.\n",
      "  warnings.warn((\"The least populated class in y has only %d\"\n",
      "C:\\Users\\7uxs48\\Anaconda3\\lib\\site-packages\\sklearn\\model_selection\\_split.py:670: UserWarning: The least populated class in y has only 6 members, which is less than n_splits=10.\n",
      "  warnings.warn((\"The least populated class in y has only %d\"\n",
      "C:\\Users\\7uxs48\\Anaconda3\\lib\\site-packages\\sklearn\\model_selection\\_split.py:670: UserWarning: The least populated class in y has only 6 members, which is less than n_splits=10.\n",
      "  warnings.warn((\"The least populated class in y has only %d\"\n"
     ]
    },
    {
     "name": "stdout",
     "output_type": "stream",
     "text": [
      "Best F1_Score: -2.636566 using {'metric': 'euclidean', 'n_neighbors': 19, 'weights': 'uniform'}\n",
      "-2.636566 (1.115315) with: {'metric': 'euclidean', 'n_neighbors': 19, 'weights': 'uniform'}\n",
      "95% Confidence interval range: (-4.8672 %, -0.4059 %)\n",
      "Total duration 14.589922904968262 \n",
      "\n"
     ]
    },
    {
     "name": "stderr",
     "output_type": "stream",
     "text": [
      "C:\\Users\\7uxs48\\Anaconda3\\lib\\site-packages\\sklearn\\model_selection\\_split.py:670: UserWarning: The least populated class in y has only 6 members, which is less than n_splits=10.\n",
      "  warnings.warn((\"The least populated class in y has only %d\"\n",
      "C:\\Users\\7uxs48\\Anaconda3\\lib\\site-packages\\sklearn\\model_selection\\_split.py:670: UserWarning: The least populated class in y has only 6 members, which is less than n_splits=10.\n",
      "  warnings.warn((\"The least populated class in y has only %d\"\n",
      "C:\\Users\\7uxs48\\Anaconda3\\lib\\site-packages\\sklearn\\model_selection\\_split.py:670: UserWarning: The least populated class in y has only 6 members, which is less than n_splits=10.\n",
      "  warnings.warn((\"The least populated class in y has only %d\"\n"
     ]
    },
    {
     "name": "stdout",
     "output_type": "stream",
     "text": [
      "Best F1_Score: -0.902368 using {'C': 50, 'decision_function_shape': 'ovr', 'gamma': 'scale', 'kernel': 'sigmoid', 'probability': True}\n",
      "-0.902368 (0.066229) with: {'C': 50, 'decision_function_shape': 'ovr', 'gamma': 'scale', 'kernel': 'sigmoid', 'probability': True}\n",
      "95% Confidence interval range: (-1.0348 %, -0.7699 %)\n",
      "Total duration 30.130528688430786 \n",
      "\n"
     ]
    },
    {
     "name": "stderr",
     "output_type": "stream",
     "text": [
      "C:\\Users\\7uxs48\\Anaconda3\\lib\\site-packages\\sklearn\\model_selection\\_split.py:670: UserWarning: The least populated class in y has only 6 members, which is less than n_splits=10.\n",
      "  warnings.warn((\"The least populated class in y has only %d\"\n",
      "C:\\Users\\7uxs48\\Anaconda3\\lib\\site-packages\\sklearn\\model_selection\\_split.py:670: UserWarning: The least populated class in y has only 6 members, which is less than n_splits=10.\n",
      "  warnings.warn((\"The least populated class in y has only %d\"\n",
      "C:\\Users\\7uxs48\\Anaconda3\\lib\\site-packages\\sklearn\\model_selection\\_split.py:670: UserWarning: The least populated class in y has only 6 members, which is less than n_splits=10.\n",
      "  warnings.warn((\"The least populated class in y has only %d\"\n"
     ]
    },
    {
     "name": "stdout",
     "output_type": "stream",
     "text": [
      "Best F1_Score: -0.961575 using {'max_features': 'log2', 'n_estimators': 1000}\n",
      "-0.961575 (0.099830) with: {'max_features': 'log2', 'n_estimators': 1000}\n",
      "95% Confidence interval range: (-1.1612 %, -0.7619 %)\n",
      "Total duration 100.7982017993927 \n",
      "\n"
     ]
    },
    {
     "name": "stderr",
     "output_type": "stream",
     "text": [
      "C:\\Users\\7uxs48\\Anaconda3\\lib\\site-packages\\sklearn\\model_selection\\_split.py:670: UserWarning: The least populated class in y has only 6 members, which is less than n_splits=10.\n",
      "  warnings.warn((\"The least populated class in y has only %d\"\n",
      "C:\\Users\\7uxs48\\Anaconda3\\lib\\site-packages\\sklearn\\model_selection\\_split.py:670: UserWarning: The least populated class in y has only 6 members, which is less than n_splits=10.\n",
      "  warnings.warn((\"The least populated class in y has only %d\"\n",
      "C:\\Users\\7uxs48\\Anaconda3\\lib\\site-packages\\sklearn\\model_selection\\_split.py:670: UserWarning: The least populated class in y has only 6 members, which is less than n_splits=10.\n",
      "  warnings.warn((\"The least populated class in y has only %d\"\n"
     ]
    },
    {
     "name": "stdout",
     "output_type": "stream",
     "text": [
      "Best F1_Score: -1.088500 using {'max_samples': 0.75, 'n_estimators': 1000}\n",
      "-1.088500 (0.276458) with: {'max_samples': 0.75, 'n_estimators': 1000}\n",
      "95% Confidence interval range: (-1.6414 %, -0.5356 %)\n",
      "Total duration 198.74850416183472 \n",
      "\n"
     ]
    },
    {
     "name": "stderr",
     "output_type": "stream",
     "text": [
      "C:\\Users\\7uxs48\\Anaconda3\\lib\\site-packages\\sklearn\\model_selection\\_split.py:670: UserWarning: The least populated class in y has only 6 members, which is less than n_splits=10.\n",
      "  warnings.warn((\"The least populated class in y has only %d\"\n",
      "C:\\Users\\7uxs48\\Anaconda3\\lib\\site-packages\\sklearn\\model_selection\\_split.py:670: UserWarning: The least populated class in y has only 6 members, which is less than n_splits=10.\n",
      "  warnings.warn((\"The least populated class in y has only %d\"\n",
      "C:\\Users\\7uxs48\\Anaconda3\\lib\\site-packages\\sklearn\\model_selection\\_split.py:670: UserWarning: The least populated class in y has only 6 members, which is less than n_splits=10.\n",
      "  warnings.warn((\"The least populated class in y has only %d\"\n"
     ]
    },
    {
     "name": "stdout",
     "output_type": "stream",
     "text": [
      "Best F1_Score: -0.933869 using {'max_features': 'log2', 'min_samples_split': 13, 'n_estimators': 60}\n",
      "-0.933869 (0.089455) with: {'max_features': 'log2', 'min_samples_split': 13, 'n_estimators': 60}\n",
      "95% Confidence interval range: (-1.1128 %, -0.7550 %)\n",
      "Total duration 147.85789132118225 \n",
      "\n"
     ]
    },
    {
     "name": "stderr",
     "output_type": "stream",
     "text": [
      "C:\\Users\\7uxs48\\Anaconda3\\lib\\site-packages\\sklearn\\model_selection\\_split.py:670: UserWarning: The least populated class in y has only 6 members, which is less than n_splits=10.\n",
      "  warnings.warn((\"The least populated class in y has only %d\"\n",
      "C:\\Users\\7uxs48\\Anaconda3\\lib\\site-packages\\sklearn\\model_selection\\_split.py:670: UserWarning: The least populated class in y has only 6 members, which is less than n_splits=10.\n",
      "  warnings.warn((\"The least populated class in y has only %d\"\n",
      "C:\\Users\\7uxs48\\Anaconda3\\lib\\site-packages\\sklearn\\model_selection\\_split.py:670: UserWarning: The least populated class in y has only 6 members, which is less than n_splits=10.\n",
      "  warnings.warn((\"The least populated class in y has only %d\"\n"
     ]
    },
    {
     "name": "stdout",
     "output_type": "stream",
     "text": [
      "Best F1_Score: -1.119952 using {'learning_rate': 0.1, 'n_estimators': 30}\n",
      "-1.119952 (0.057614) with: {'learning_rate': 0.1, 'n_estimators': 30}\n",
      "95% Confidence interval range: (-1.2352 %, -1.0047 %)\n",
      "Total duration 8.018585681915283 \n",
      "\n"
     ]
    },
    {
     "name": "stderr",
     "output_type": "stream",
     "text": [
      "C:\\Users\\7uxs48\\Anaconda3\\lib\\site-packages\\sklearn\\model_selection\\_split.py:670: UserWarning: The least populated class in y has only 6 members, which is less than n_splits=10.\n",
      "  warnings.warn((\"The least populated class in y has only %d\"\n",
      "C:\\Users\\7uxs48\\Anaconda3\\lib\\site-packages\\sklearn\\model_selection\\_split.py:670: UserWarning: The least populated class in y has only 6 members, which is less than n_splits=10.\n",
      "  warnings.warn((\"The least populated class in y has only %d\"\n",
      "C:\\Users\\7uxs48\\Anaconda3\\lib\\site-packages\\sklearn\\model_selection\\_split.py:670: UserWarning: The least populated class in y has only 6 members, which is less than n_splits=10.\n",
      "  warnings.warn((\"The least populated class in y has only %d\"\n"
     ]
    }
   ],
   "source": [
    "from scipy.stats import randint as sp_randint\n",
    "\n",
    "# define regressor models\n",
    "models=[['LogisticRegression',LogisticRegression()],\n",
    "    ['RidgeClassifier',RidgeClassifier()],\n",
    "    ['KNeighborsClassifier',KNeighborsClassifier()],\n",
    "    ['SVC',SVC()],\n",
    "    ['RandomForestClassifier',RandomForestClassifier()],\n",
    "    ['BaggingClassifier',BaggingClassifier()],\n",
    "    ['ExtraTreesClassifier',ExtraTreesClassifier()],\n",
    "    ['AdaBoostClassifier',AdaBoostClassifier()],\n",
    "    ['GradientBoostingClassifier',GradientBoostingClassifier()],\n",
    "    ['LGBMClassifier',LGBMClassifier(verbose=False)],\n",
    "    ['XGBClassifier',XGBClassifier()]\n",
    "]\n",
    "\n",
    "# define model parameters\n",
    "\n",
    "lr_param_grid = {'solver': ['newton-cg', 'lbfgs', 'liblinear', 'sag', 'saga'],\n",
    "                 'penalty': ['l2'],\n",
    "                 #'penalty': ['none', 'l1', 'l2', 'elasticnet'],\n",
    "                 'C': [100, 10, 1.0, 0.1, 0.01]}\n",
    "                 #'class_weight':['none','balanced'],\n",
    "                 #'multi_class':['ovr', 'multinomial']}\n",
    "ridge_param_grid = {'alpha': [0.1, 0.2, 0.3, 0.4, 0.5, 0.6, 0.7, 0.8, 0.9, 1.0],\n",
    "                    'class_weight':['none','balanced'],\n",
    "                    'solver': ['svd', 'cholesky', 'lsqr', 'sparse_cg', 'sag', 'saga']}\n",
    "lasso_param_grid = {'alpha': [0.02, 0.024, 0.025, 0.026, 0.03]}\n",
    "knn_param_grid = {'n_neighbors': range(3, 21, 2),\n",
    "                 'weights': ['uniform', 'distance'],\n",
    "                 'metric': ['euclidean', 'manhattan', 'minkowski']}\n",
    "svc_param_grid = {'kernel': ['poly', 'rbf', 'sigmoid'],\n",
    "                 'C': [50, 10, 1.0, 0.1, 0.01],\n",
    "                 'gamma': ['scale'],\n",
    "                 'probability':[True],\n",
    "                 'decision_function_shape': ['ovo', 'ovr']}\n",
    "rf_param_grid = {'n_estimators': [10, 100, 1000],\n",
    "                 'max_features': ['auto', 'sqrt', 'log2']}              \n",
    "                 #'class_weight':['balanced','balanced_subsample','none']}\n",
    "bag_param_grid = {'n_estimators': [10, 100, 1000],\n",
    "                 'max_samples': np.arange(0.7, 0.8, 0.05)}\n",
    "et_param_grid = {'n_estimators': np.arange(10,100,10),\n",
    "                 'max_features': ['auto', 'sqrt', 'log2'],\n",
    "                 'min_samples_split': np.arange(2,15,1)}\n",
    "                 #'class_weight':['balanced','balanced_subsample','none']}\n",
    "adb_param_grid = {'n_estimators': np.arange(30,100,10),\n",
    "                 'learning_rate': np.arange(0.1,1,0.5)}\n",
    "gb_param_grid = {'n_estimators': [10, 50, 100, 500],\n",
    "                 'learning_rate': [0.0001, 0.001, 0.01, 0.1, 1.0],\n",
    "                 'subsample':[0.5, 0.7, 1.0],\n",
    "                 'max_depth': [3, 7, 9]}\n",
    "catb_param_grid = {'task_type': 'GPU','depth': [4, 7, 10],\n",
    "                  'learning_rate' : [0.03, 0.1, 0.15],\n",
    "                  'l2_leaf_reg': [1,4,9],\n",
    "                  'early_stopping_rounds':[50],\n",
    "                  'iterations': [300],\n",
    "                  'loss_function':['MultiClass']}\n",
    "lightgbm_param_grid = {'learning_rate': [0.0001, 0.001, 0.01, 0.1, 1.0],\n",
    "                  'n_estimators': [10, 50, 100, 500, 1000, 5000],\n",
    "                  'min_child_samples': sp_randint(100, 500), \n",
    "                  'min_child_weight': [1e-5, 1e-3, 1e-2, 1e-1, 1, 1e1, 1e2, 1e3, 1e4],\n",
    "                  'boosting_type':['gbdt', 'dart', 'goss'],\n",
    "                  'bagging_fraction': (0.5, 1),\n",
    "                  'bagging_frequency' : (5, 8),\n",
    "                  'feature_fraction': (0.5, 0.8),\n",
    "                  'max_depth': (10, 13),\n",
    "                  'min_data_in_leaf': (90, 120),\n",
    "                  'num_leaves':(1200, 1550),\n",
    "                  'metric': ['multi_logloss'],\n",
    "                  'objective': ['multiclass'],\n",
    "                  'num_class': [5],\n",
    "                  'early_stopping_rounds':[50],\n",
    "                  'verbosity':[1]}\n",
    "xgb_param_grid = {'learning_rate': [0.05, 0.10, 0.15, 0.20, 0.25, 0.30 ],\n",
    "                  'max_depth' : [3, 4, 5, 6, 8, 10, 12, 15],\n",
    "                  'min_child_weight': [ 1, 3, 5, 7],\n",
    "                  'gamma': [0.0, 0.1, 0.2 , 0.3, 0.4],\n",
    "                  'colsample_bytree': [ 0.3, 0.4, 0.5 , 0.7],\n",
    "                  'objective': ['multi:softmax'],\n",
    "                  'eval_metric': ['mlogloss'],\n",
    "                  'num_class': [5]}\n",
    "\n",
    "for name, classifier in models:\n",
    "    if name == 'LogisticRegression':\n",
    "        lr_best_estimator = hyperparameterstune_model(name, classifier, X_train, y_train, lr_param_grid)\n",
    "    elif name == 'Ridge':\n",
    "        ridge_best_estimator = hyperparameterstune_model(name, classifier, X_train, y_train, lasso_param_grid)\n",
    "    elif name == 'KNeighborsClassifier':\n",
    "        knn_best_estimator = hyperparameterstune_model(name, classifier, X_train, y_train, knn_param_grid)\n",
    "    elif name == 'SVC':\n",
    "        svc_best_estimator = hyperparameterstune_model(name, classifier, X_train, y_train, svc_param_grid)\n",
    "    elif name == 'RandomForestClassifier':\n",
    "        rf_best_estimator = hyperparameterstune_model(name, classifier, X_train, y_train, rf_param_grid)\n",
    "    elif name == 'BaggingClassifier':\n",
    "        bag_best_estimator = hyperparameterstune_model(name, classifier, X_train, y_train, bag_param_grid)\n",
    "    elif name == 'ExtraTreesClassifier':\n",
    "        et_best_estimator = hyperparameterstune_model(name, classifier, X_train, y_train, et_param_grid)\n",
    "    elif name == 'AdaBoostClassifier':\n",
    "        adb_best_estimator = hyperparameterstune_model(name, classifier, X_train, y_train, adb_param_grid)\n",
    "    elif name == 'GradientBoostingClassifier':\n",
    "        gb_best_estimator = hyperparameterstune_model(name, classifier, X_train, y_train, gb_param_grid)\n",
    "    elif name == 'CatBoostClassifier':\n",
    "        catb_best_estimator = hyperparameterstune_model(name, classifier, X_train, y_train, catb_param_grid)\n",
    "    elif name == 'LGBMClassifier':\n",
    "        lightgbm_best_estimator = hyperparameterstune_model(name, classifier, X_train, y_train, lightgbm_param_grid)\n",
    "    elif name == 'XGBClassifier':\n",
    "        xgb_best_estimator = hyperparameterstune_model(name, classifier, X_train, y_train, xgb_param_grid)"
   ]
  },
  {
   "cell_type": "markdown",
   "metadata": {},
   "source": [
    "#### Bootstrap Sampling - RandomForestClassifier"
   ]
  },
  {
   "cell_type": "code",
   "execution_count": null,
   "metadata": {},
   "outputs": [],
   "source": [
    "ind_feat_df.drop(['Accident Level','Potential Accident Level'], axis = 1, inplace=True) # Considering all Predictors\n",
    "\n",
    "# Consider only top 30 GLOVE features\n",
    "ind_feat_df = ind_feat_df.join(y.reset_index(drop=True))\n",
    "ind_feat_df.head(2)"
   ]
  },
  {
   "cell_type": "code",
   "execution_count": null,
   "metadata": {},
   "outputs": [],
   "source": [
    "values = ind_feat_df.values\n",
    "\n",
    "# Number of bootstrap samples to create\n",
    "n_iterations = 1000        \n",
    "\n",
    "# size of a bootstrap sample\n",
    "n_size = int(len(ind_feat_df) * 1)    \n",
    "\n",
    "# run bootstrap\n",
    "# empty list that will hold the scores for each bootstrap iteration\n",
    "rf_stats = list()   \n",
    "for i in range(n_iterations):\n",
    "    # prepare train and test sets\n",
    "    train = resample(values, n_samples=n_size)  # Sampling with replacement \n",
    "    test = np.array([x for x in values if x.tolist() not in train.tolist()])  # picking rest of the data not considered in sample\n",
    "    \n",
    "     # fit model\n",
    "    rfTree = RandomForestClassifier(n_estimators=100)\n",
    "\n",
    "    # fit against independent variables and corresponding target values\n",
    "    rfTree.fit(train[:,:-1], train[:,-1]) \n",
    "\n",
    "    # Take the target column for all rows in test set\n",
    "    y_bs_test = test[:,-1]  \n",
    "\n",
    "    # evaluate model\n",
    "    # predict based on independent variables in the test data\n",
    "    score = rfTree.score(test[:, :-1] , y_bs_test)\n",
    "    predictions = rfTree.predict(test[:, :-1]) \n",
    "\n",
    "    rf_stats.append(score)"
   ]
  },
  {
   "cell_type": "code",
   "execution_count": null,
   "metadata": {},
   "outputs": [],
   "source": [
    "# plot scores\n",
    "plt.hist(rf_stats)\n",
    "plt.show()\n",
    "\n",
    "# confidence intervals\n",
    "alpha = 0.95                             # for 95% confidence \n",
    "p = ((1.0-alpha)/2.0) * 100              # tail regions on right and left .25 on each side indicated by P value (border)\n",
    "lower = max(0.0, np.percentile(rf_stats, p))  \n",
    "p = (alpha+((1.0-alpha)/2.0)) * 100\n",
    "upper = min(1.0, np.percentile(rf_stats, p))\n",
    "print('%.1f confidence interval %.1f%% and %.1f%%' % (alpha*100, lower*100, upper*100))"
   ]
  },
  {
   "cell_type": "code",
   "execution_count": null,
   "metadata": {},
   "outputs": [],
   "source": [
    "#### Bootstrap Sampling - AdaBoostClassifier"
   ]
  },
  {
   "cell_type": "code",
   "execution_count": null,
   "metadata": {},
   "outputs": [],
   "source": [
    "alues = ind_feat_df.values\n",
    "\n",
    "# Number of bootstrap samples to create\n",
    "n_iterations = 1000        \n",
    "\n",
    "# size of a bootstrap sample\n",
    "n_size = int(len(ind_feat_df) * 1)    \n",
    "\n",
    "# run bootstrap\n",
    "# empty list that will hold the scores for each bootstrap iteration\n",
    "adab_stats = list()   \n",
    "for i in range(n_iterations):\n",
    "    # prepare train and test sets\n",
    "    train = resample(values, n_samples=n_size)  # Sampling with replacement \n",
    "    test = np.array([x for x in values if x.tolist() not in train.tolist()])  # picking rest of the data not considered in sample\n",
    "    \n",
    "     # fit model\n",
    "    adabTree = AdaBoostClassifier(n_estimators=100, learning_rate=0.25, random_state=1)\n",
    "\n",
    "    # fit against independent variables and corresponding target values\n",
    "    adabTree.fit(train[:,:-1], train[:,-1]) \n",
    "\n",
    "    # Take the target column for all rows in test set\n",
    "    y_bs_test = test[:,-1]  \n",
    "\n",
    "    # evaluate model\n",
    "    # predict based on independent variables in the test data\n",
    "    score = adabTree.score(test[:, :-1] , y_bs_test)\n",
    "    predictions = adabTree.predict(test[:, :-1]) \n",
    "\n",
    "    adab_stats.append(score)"
   ]
  },
  {
   "cell_type": "code",
   "execution_count": null,
   "metadata": {},
   "outputs": [],
   "source": [
    "# plot scores\n",
    "plt.hist(adab_stats)\n",
    "plt.show()\n",
    "\n",
    "# confidence intervals\n",
    "alpha = 0.95                             # for 95% confidence \n",
    "p = ((1.0-alpha)/2.0) * 100              # tail regions on right and left .25 on each side indicated by P value (border)\n",
    "lower = max(0.0, np.percentile(adab_stats, p))  \n",
    "p = (alpha+((1.0-alpha)/2.0)) * 100\n",
    "upper = min(1.0, np.percentile(adab_stats, p))\n",
    "print('%.1f confidence interval %.1f%% and %.1f%%' % (alpha*100, lower*100, upper*100))"
   ]
  },
  {
   "cell_type": "code",
   "execution_count": null,
   "metadata": {},
   "outputs": [],
   "source": [
    "#### Bootstrap Sampling - XGBClassifier"
   ]
  },
  {
   "cell_type": "code",
   "execution_count": null,
   "metadata": {},
   "outputs": [],
   "source": [
    "alues = ind_feat_df.values\n",
    "\n",
    "# Number of bootstrap samples to create\n",
    "n_iterations = 1000        \n",
    "\n",
    "# size of a bootstrap sample\n",
    "n_size = int(len(ind_feat_df) * 1)    \n",
    "\n",
    "# run bootstrap\n",
    "# empty list that will hold the scores for each bootstrap iteration\n",
    "xgb_stats = list()   \n",
    "for i in range(n_iterations):\n",
    "    # prepare train and test sets\n",
    "    train = resample(values, n_samples=n_size)  # Sampling with replacement \n",
    "    test = np.array([x for x in values if x.tolist() not in train.tolist()])  # picking rest of the data not considered in sample\n",
    "    \n",
    "     # fit model\n",
    "    xgbTree = XGBClassifier(max_depth = 6, objective=\"multi:softmax\", learning_rate = 0.1, gamma = 0.4)\n",
    "\n",
    "    # fit against independent variables and corresponding target values\n",
    "    xgbTree.fit(train[:,:-1], train[:,-1]) \n",
    "\n",
    "    # Take the target column for all rows in test set\n",
    "    y_bs_test = test[:,-1]  \n",
    "\n",
    "    # evaluate model\n",
    "    # predict based on independent variables in the test data\n",
    "    score = xgbTree.score(test[:, :-1] , y_bs_test)\n",
    "    predictions = xgbTree.predict(test[:, :-1]) \n",
    "\n",
    "    xgb_stats.append(score)"
   ]
  },
  {
   "cell_type": "code",
   "execution_count": null,
   "metadata": {},
   "outputs": [],
   "source": []
  }
 ],
 "metadata": {
  "kernelspec": {
   "display_name": "Python 3",
   "language": "python",
   "name": "python3"
  },
  "language_info": {
   "codemirror_mode": {
    "name": "ipython",
    "version": 3
   },
   "file_extension": ".py",
   "mimetype": "text/x-python",
   "name": "python",
   "nbconvert_exporter": "python",
   "pygments_lexer": "ipython3",
   "version": "3.8.5"
  }
 },
 "nbformat": 4,
 "nbformat_minor": 4
}
